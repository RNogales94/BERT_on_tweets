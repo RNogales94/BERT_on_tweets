{
  "nbformat": 4,
  "nbformat_minor": 0,
  "metadata": {
    "colab": {
      "name": "Libreta1-División_del_dataset.ipynb",
      "provenance": [],
      "collapsed_sections": [],
      "authorship_tag": "ABX9TyPhz/C/LkAOm7tsm8vyiu7K",
      "include_colab_link": true
    },
    "kernelspec": {
      "name": "python3",
      "display_name": "Python 3"
    }
  },
  "cells": [
    {
      "cell_type": "markdown",
      "metadata": {
        "id": "view-in-github",
        "colab_type": "text"
      },
      "source": [
        "<a href=\"https://colab.research.google.com/github/joSanchez28/BERT_on_tweets/blob/master/Libreta1_Divisi%C3%B3n_del_dataset.ipynb\" target=\"_parent\"><img src=\"https://colab.research.google.com/assets/colab-badge.svg\" alt=\"Open In Colab\"/></a>"
      ]
    },
    {
      "cell_type": "markdown",
      "metadata": {
        "id": "ywqvvTe-cFKq",
        "colab_type": "text"
      },
      "source": [
        "# Libreta 1 - División del conjunto de datos\n",
        "\n",
        "En esta primera libreta dividiremos el conjunto de datos \"training.1600000.processed.noemoticon.csv\" en 3 conjuntos. Un primer conjunto que usaremos para entrenar, otro como conjunto de validación y un último conjunto de test.\n",
        "\n",
        "El conjunto de dato \"training.1600000.processed.noemoticon.csv\" está formado por tweets en los que aparecían emoticonos y que han sido etiquetados como positivos o negativos solo en función de dichos emoticonos. Puedes descargar este conjunto en el siguiente enlace: https://www.kaggle.com/kazanova/sentiment140 .\n",
        "\n",
        "Al final de esta libreta también veremos algunos datos interesantes sobre la distribución del número de palabras y de caracteres de los tweets con los que entrenaremos.\n",
        "\n"
      ]
    },
    {
      "cell_type": "markdown",
      "metadata": {
        "id": "SmgDhdn0ULUq",
        "colab_type": "text"
      },
      "source": [
        "Cargamos los paquetes necesarios\n",
        "\n"
      ]
    },
    {
      "cell_type": "code",
      "metadata": {
        "id": "w8MVBX7hXjjI",
        "colab_type": "code",
        "colab": {}
      },
      "source": [
        "import pandas as pd\n",
        "from sklearn.model_selection import train_test_split"
      ],
      "execution_count": 0,
      "outputs": []
    },
    {
      "cell_type": "markdown",
      "metadata": {
        "id": "vKp8DE613P61",
        "colab_type": "text"
      },
      "source": [
        "Cargamos el conjunto de datos y lo metemos en un dataframe de pandas. Cabe comentar que yo lo cargaré desde mi drive (ya que estoy trabajando mediante la plataforma Google Colab).\n"
      ]
    },
    {
      "cell_type": "code",
      "metadata": {
        "id": "3YZ_RWag3KpO",
        "colab_type": "code",
        "outputId": "d66a4157-5e16-4c0b-e79c-8fd00014d747",
        "colab": {
          "base_uri": "https://localhost:8080/",
          "height": 34
        }
      },
      "source": [
        "from google.colab import drive\n",
        "drive.mount('/content/drive')"
      ],
      "execution_count": 0,
      "outputs": [
        {
          "output_type": "stream",
          "text": [
            "Drive already mounted at /content/drive; to attempt to forcibly remount, call drive.mount(\"/content/drive\", force_remount=True).\n"
          ],
          "name": "stdout"
        }
      ]
    },
    {
      "cell_type": "code",
      "metadata": {
        "id": "IdUdYljX3sPl",
        "colab_type": "code",
        "outputId": "ec348464-9350-4f6c-8779-0a026ed1a12b",
        "colab": {
          "base_uri": "https://localhost:8080/",
          "height": 34
        }
      },
      "source": [
        "# Parámetros del DATASET\n",
        "DATASET_COLUMNS = [\"target\", \"ids\", \"date\", \"flag\", \"user\", \"text\"]\n",
        "DATASET_ENCODING = \"ISO-8859-1\"\n",
        "TRAIN_SIZE = 0.8\n",
        "#Lo cargamos\n",
        "dataset_filename = \"training.1600000.processed.noemoticon.csv\"\n",
        "data_path = \"/content/drive/My Drive/Datos/\" \n",
        "dataset_path = data_path + dataset_filename\n",
        "print(\"Se leerá el fichero:\", dataset_path)\n",
        "data_df = pd.read_csv(dataset_path, encoding =DATASET_ENCODING , names=DATASET_COLUMNS)"
      ],
      "execution_count": 0,
      "outputs": [
        {
          "output_type": "stream",
          "text": [
            "Se leerá el fichero: /content/drive/My Drive/Datos/training.1600000.processed.noemoticon.csv\n"
          ],
          "name": "stdout"
        }
      ]
    },
    {
      "cell_type": "markdown",
      "metadata": {
        "id": "b8CZWcORejy5",
        "colab_type": "text"
      },
      "source": [
        "Podemos imprimir las primeras filas para hacernos una idea de cómo es el conjunto.\n"
      ]
    },
    {
      "cell_type": "code",
      "metadata": {
        "id": "w25jWq1HcIcu",
        "colab_type": "code",
        "outputId": "2a1b7f2b-609d-4348-90e5-df373eadac4a",
        "colab": {
          "base_uri": "https://localhost:8080/",
          "height": 204
        }
      },
      "source": [
        "data_df.head()"
      ],
      "execution_count": 0,
      "outputs": [
        {
          "output_type": "execute_result",
          "data": {
            "text/html": [
              "<div>\n",
              "<style scoped>\n",
              "    .dataframe tbody tr th:only-of-type {\n",
              "        vertical-align: middle;\n",
              "    }\n",
              "\n",
              "    .dataframe tbody tr th {\n",
              "        vertical-align: top;\n",
              "    }\n",
              "\n",
              "    .dataframe thead th {\n",
              "        text-align: right;\n",
              "    }\n",
              "</style>\n",
              "<table border=\"1\" class=\"dataframe\">\n",
              "  <thead>\n",
              "    <tr style=\"text-align: right;\">\n",
              "      <th></th>\n",
              "      <th>target</th>\n",
              "      <th>ids</th>\n",
              "      <th>date</th>\n",
              "      <th>flag</th>\n",
              "      <th>user</th>\n",
              "      <th>text</th>\n",
              "    </tr>\n",
              "  </thead>\n",
              "  <tbody>\n",
              "    <tr>\n",
              "      <th>0</th>\n",
              "      <td>0</td>\n",
              "      <td>1467810369</td>\n",
              "      <td>Mon Apr 06 22:19:45 PDT 2009</td>\n",
              "      <td>NO_QUERY</td>\n",
              "      <td>_TheSpecialOne_</td>\n",
              "      <td>@switchfoot http://twitpic.com/2y1zl - Awww, t...</td>\n",
              "    </tr>\n",
              "    <tr>\n",
              "      <th>1</th>\n",
              "      <td>0</td>\n",
              "      <td>1467810672</td>\n",
              "      <td>Mon Apr 06 22:19:49 PDT 2009</td>\n",
              "      <td>NO_QUERY</td>\n",
              "      <td>scotthamilton</td>\n",
              "      <td>is upset that he can't update his Facebook by ...</td>\n",
              "    </tr>\n",
              "    <tr>\n",
              "      <th>2</th>\n",
              "      <td>0</td>\n",
              "      <td>1467810917</td>\n",
              "      <td>Mon Apr 06 22:19:53 PDT 2009</td>\n",
              "      <td>NO_QUERY</td>\n",
              "      <td>mattycus</td>\n",
              "      <td>@Kenichan I dived many times for the ball. Man...</td>\n",
              "    </tr>\n",
              "    <tr>\n",
              "      <th>3</th>\n",
              "      <td>0</td>\n",
              "      <td>1467811184</td>\n",
              "      <td>Mon Apr 06 22:19:57 PDT 2009</td>\n",
              "      <td>NO_QUERY</td>\n",
              "      <td>ElleCTF</td>\n",
              "      <td>my whole body feels itchy and like its on fire</td>\n",
              "    </tr>\n",
              "    <tr>\n",
              "      <th>4</th>\n",
              "      <td>0</td>\n",
              "      <td>1467811193</td>\n",
              "      <td>Mon Apr 06 22:19:57 PDT 2009</td>\n",
              "      <td>NO_QUERY</td>\n",
              "      <td>Karoli</td>\n",
              "      <td>@nationwideclass no, it's not behaving at all....</td>\n",
              "    </tr>\n",
              "  </tbody>\n",
              "</table>\n",
              "</div>"
            ],
            "text/plain": [
              "   target  ...                                               text\n",
              "0       0  ...  @switchfoot http://twitpic.com/2y1zl - Awww, t...\n",
              "1       0  ...  is upset that he can't update his Facebook by ...\n",
              "2       0  ...  @Kenichan I dived many times for the ball. Man...\n",
              "3       0  ...    my whole body feels itchy and like its on fire \n",
              "4       0  ...  @nationwideclass no, it's not behaving at all....\n",
              "\n",
              "[5 rows x 6 columns]"
            ]
          },
          "metadata": {
            "tags": []
          },
          "execution_count": 4
        }
      ]
    },
    {
      "cell_type": "markdown",
      "metadata": {
        "id": "BbMkqCrFe-k1",
        "colab_type": "text"
      },
      "source": [
        "En concreto, el target 0 señala que se trata de un tweet negativo, mientras que el target 4 indica que es positivo. Vemos que hay el mismo número de tweets negativos que de tweets positivos.\n"
      ]
    },
    {
      "cell_type": "code",
      "metadata": {
        "id": "5qYmS6JpCQs5",
        "colab_type": "code",
        "outputId": "33ef9cd7-a264-4f13-d493-98d93ad97e3b",
        "colab": {
          "base_uri": "https://localhost:8080/",
          "height": 68
        }
      },
      "source": [
        "data_df.target.value_counts()"
      ],
      "execution_count": 0,
      "outputs": [
        {
          "output_type": "execute_result",
          "data": {
            "text/plain": [
              "4    800000\n",
              "0    800000\n",
              "Name: target, dtype: int64"
            ]
          },
          "metadata": {
            "tags": []
          },
          "execution_count": 5
        }
      ]
    },
    {
      "cell_type": "markdown",
      "metadata": {
        "id": "en6X-YlqBDWi",
        "colab_type": "text"
      },
      "source": [
        "### Creamos los conjuntos de entrenamiento, validación y test\n",
        "Utilizamos de forma sencilla la función 'train_test_split' de la librería sckit-learn.\n"
      ]
    },
    {
      "cell_type": "code",
      "metadata": {
        "id": "8Y9XB9C96XIr",
        "colab_type": "code",
        "colab": {}
      },
      "source": [
        "df_train, df_test = train_test_split(data_df, test_size = 1 - TRAIN_SIZE, random_state = 0, stratify = data_df.target.values)\n",
        "df_val, df_test = train_test_split(df_test, test_size = 0.5, random_state = 0, stratify = df_test.target.values)"
      ],
      "execution_count": 0,
      "outputs": []
    },
    {
      "cell_type": "markdown",
      "metadata": {
        "id": "XBViwtsyhIx8",
        "colab_type": "text"
      },
      "source": [
        "Una vez tenemos la división, podemos comprobar cual es el tamaño de los diferentes conjuntos y si, como cabría esperar, la distribución de los tweets positivos-negativos es la misma en todos ellos (esto es, si en todos ellos hay el mismo número de tweets positivos que de tweets negativos)."
      ]
    },
    {
      "cell_type": "code",
      "metadata": {
        "id": "Qzeeggyn84Oa",
        "colab_type": "code",
        "outputId": "399f6989-f7bb-43d6-b226-823006cee0a0",
        "colab": {
          "base_uri": "https://localhost:8080/",
          "height": 34
        }
      },
      "source": [
        "#Tamaño del conjunto de entrenamiento\n",
        "df_train.shape"
      ],
      "execution_count": 0,
      "outputs": [
        {
          "output_type": "execute_result",
          "data": {
            "text/plain": [
              "(1280000, 6)"
            ]
          },
          "metadata": {
            "tags": []
          },
          "execution_count": 7
        }
      ]
    },
    {
      "cell_type": "code",
      "metadata": {
        "id": "3hCj1S7-9Vdq",
        "colab_type": "code",
        "outputId": "456e5824-4e45-4604-a846-2d6c6ea638ac",
        "colab": {
          "base_uri": "https://localhost:8080/",
          "height": 68
        }
      },
      "source": [
        "df_train.target.value_counts()"
      ],
      "execution_count": 0,
      "outputs": [
        {
          "output_type": "execute_result",
          "data": {
            "text/plain": [
              "4    640000\n",
              "0    640000\n",
              "Name: target, dtype: int64"
            ]
          },
          "metadata": {
            "tags": []
          },
          "execution_count": 8
        }
      ]
    },
    {
      "cell_type": "code",
      "metadata": {
        "id": "yEVIaQ7x9Qki",
        "colab_type": "code",
        "outputId": "eeb31b74-d013-40bb-c2db-ac5593aa63c0",
        "colab": {
          "base_uri": "https://localhost:8080/",
          "height": 34
        }
      },
      "source": [
        "df_test.shape"
      ],
      "execution_count": 0,
      "outputs": [
        {
          "output_type": "execute_result",
          "data": {
            "text/plain": [
              "(160000, 6)"
            ]
          },
          "metadata": {
            "tags": []
          },
          "execution_count": 9
        }
      ]
    },
    {
      "cell_type": "code",
      "metadata": {
        "id": "Uim1O92S9AlL",
        "colab_type": "code",
        "outputId": "9e006862-eaee-472b-eacd-eded9fa02fb1",
        "colab": {
          "base_uri": "https://localhost:8080/",
          "height": 68
        }
      },
      "source": [
        "df_test.target.value_counts()"
      ],
      "execution_count": 0,
      "outputs": [
        {
          "output_type": "execute_result",
          "data": {
            "text/plain": [
              "4    80000\n",
              "0    80000\n",
              "Name: target, dtype: int64"
            ]
          },
          "metadata": {
            "tags": []
          },
          "execution_count": 10
        }
      ]
    },
    {
      "cell_type": "code",
      "metadata": {
        "colab_type": "code",
        "outputId": "b641d1d4-65ac-41fc-f0ef-4d6eb6a2c28c",
        "id": "-WAqfjUniFRJ",
        "colab": {
          "base_uri": "https://localhost:8080/",
          "height": 34
        }
      },
      "source": [
        "df_val.shape"
      ],
      "execution_count": 0,
      "outputs": [
        {
          "output_type": "execute_result",
          "data": {
            "text/plain": [
              "(160000, 6)"
            ]
          },
          "metadata": {
            "tags": []
          },
          "execution_count": 11
        }
      ]
    },
    {
      "cell_type": "code",
      "metadata": {
        "colab_type": "code",
        "outputId": "42d7f5e1-a066-430c-b77f-df384af3aa87",
        "id": "Hw1kejkiiFRV",
        "colab": {
          "base_uri": "https://localhost:8080/",
          "height": 68
        }
      },
      "source": [
        "df_val.target.value_counts()"
      ],
      "execution_count": 0,
      "outputs": [
        {
          "output_type": "execute_result",
          "data": {
            "text/plain": [
              "4    80000\n",
              "0    80000\n",
              "Name: target, dtype: int64"
            ]
          },
          "metadata": {
            "tags": []
          },
          "execution_count": 12
        }
      ]
    },
    {
      "cell_type": "markdown",
      "metadata": {
        "id": "u0NM2oNBiL33",
        "colab_type": "text"
      },
      "source": [
        "Hechas todas las comprobaciones oportunas, procedemos a guardar estos conjuntos en archivos csv (para que puedan ser usados en las siguientes libretas)."
      ]
    },
    {
      "cell_type": "code",
      "metadata": {
        "id": "HTEsh9x5jK_r",
        "colab_type": "code",
        "colab": {}
      },
      "source": [
        "df_train.to_csv(data_path + \"train_set.csv\")\n",
        "df_val.to_csv(data_path + \"val_set.csv\")\n",
        "df_test.to_csv(data_path + \"test_set.csv\")"
      ],
      "execution_count": 0,
      "outputs": []
    },
    {
      "cell_type": "markdown",
      "metadata": {
        "id": "GyL-bZGDkr8F",
        "colab_type": "text"
      },
      "source": [
        "### Distribución del número de palabras y caracteres en los tweets de entrenamiento\n",
        "Una vez hecha la división en los conjuntos de entrenamiento, validación y test, vamos a ver algunas características de la distribución del número de palabras y caracteres en los tweets de entrenamiento. En concreto, conocer la distribución del número de palabras de los tweets nos servirá en las siguientes libretas para darnos una idea de qué longitud máxima le deberíamos dar a las entradas de BERT a la hora de entrenar. (Dar una longitud muy alta no es buena idea porque debido a esto podría multiplicarse el tiempo de entrenamiento).\n"
      ]
    },
    {
      "cell_type": "code",
      "metadata": {
        "id": "kU8cYjoYjKvU",
        "colab_type": "code",
        "outputId": "d8b0f9e0-f4ff-4288-aea6-b2036500c605",
        "colab": {
          "base_uri": "https://localhost:8080/",
          "height": 384
        }
      },
      "source": [
        "df_train[\"n_words\"] = df_train[\"text\"].str.split().str.len()\n",
        "df_train[\"n_words\"].hist(bins = 30)"
      ],
      "execution_count": 0,
      "outputs": [
        {
          "output_type": "stream",
          "text": [
            "/usr/local/lib/python3.6/dist-packages/ipykernel_launcher.py:1: SettingWithCopyWarning: \n",
            "A value is trying to be set on a copy of a slice from a DataFrame.\n",
            "Try using .loc[row_indexer,col_indexer] = value instead\n",
            "\n",
            "See the caveats in the documentation: https://pandas.pydata.org/pandas-docs/stable/user_guide/indexing.html#returning-a-view-versus-a-copy\n",
            "  \"\"\"Entry point for launching an IPython kernel.\n"
          ],
          "name": "stderr"
        },
        {
          "output_type": "execute_result",
          "data": {
            "text/plain": [
              "<matplotlib.axes._subplots.AxesSubplot at 0x7f93aff3b0f0>"
            ]
          },
          "metadata": {
            "tags": []
          },
          "execution_count": 22
        },
        {
          "output_type": "display_data",
          "data": {
            "image/png": "[encoded data removed]",
            "text/plain": [
              "<Figure size 432x288 with 1 Axes>"
            ]
          },
          "metadata": {
            "tags": [],
            "needs_background": "light"
          }
        }
      ]
    },
    {
      "cell_type": "code",
      "metadata": {
        "id": "NH1tbL3mjKs5",
        "colab_type": "code",
        "outputId": "9a7b3eca-e5ef-4adc-e839-7a6158910f5e",
        "colab": {
          "base_uri": "https://localhost:8080/",
          "height": 782
        }
      },
      "source": [
        "df_train[\"n_words\"].value_counts()"
      ],
      "execution_count": 0,
      "outputs": [
        {
          "output_type": "execute_result",
          "data": {
            "text/plain": [
              "7     71532\n",
              "8     70902\n",
              "6     69636\n",
              "9     69570\n",
              "10    66960\n",
              "5     64627\n",
              "11    64244\n",
              "12    60953\n",
              "13    57469\n",
              "4     54283\n",
              "14    54269\n",
              "15    50863\n",
              "16    47986\n",
              "17    44897\n",
              "18    43122\n",
              "3     41687\n",
              "19    41369\n",
              "20    41280\n",
              "21    38658\n",
              "22    38297\n",
              "23    36458\n",
              "24    34026\n",
              "25    29905\n",
              "26    23871\n",
              "2     20012\n",
              "27    16982\n",
              "28    10622\n",
              "29     5882\n",
              "1      4792\n",
              "30     2861\n",
              "31     1268\n",
              "32      464\n",
              "33      166\n",
              "34       52\n",
              "35       19\n",
              "36        5\n",
              "39        3\n",
              "37        2\n",
              "58        1\n",
              "38        1\n",
              "41        1\n",
              "44        1\n",
              "57        1\n",
              "64        1\n",
              "Name: n_words, dtype: int64"
            ]
          },
          "metadata": {
            "tags": []
          },
          "execution_count": 20
        }
      ]
    },
    {
      "cell_type": "markdown",
      "metadata": {
        "id": "gkl_jdxPm_CR",
        "colab_type": "text"
      },
      "source": [
        "Aunque en la práctica no nos va a servir de mucho, vemos también la distribución del número de carácteres por tweet."
      ]
    },
    {
      "cell_type": "code",
      "metadata": {
        "id": "F8B2stSbHLTv",
        "colab_type": "code",
        "outputId": "7f857c08-0b2f-4704-bb11-954e8316fbae",
        "colab": {
          "base_uri": "https://localhost:8080/",
          "height": 384
        }
      },
      "source": [
        "df_train[\"n_characters\"] = df_train[\"text\"].str.len()\n",
        "df_train[\"n_characters\"].hist(bins = 30)"
      ],
      "execution_count": 0,
      "outputs": [
        {
          "output_type": "stream",
          "text": [
            "/usr/local/lib/python3.6/dist-packages/ipykernel_launcher.py:1: SettingWithCopyWarning: \n",
            "A value is trying to be set on a copy of a slice from a DataFrame.\n",
            "Try using .loc[row_indexer,col_indexer] = value instead\n",
            "\n",
            "See the caveats in the documentation: https://pandas.pydata.org/pandas-docs/stable/user_guide/indexing.html#returning-a-view-versus-a-copy\n",
            "  \"\"\"Entry point for launching an IPython kernel.\n"
          ],
          "name": "stderr"
        },
        {
          "output_type": "execute_result",
          "data": {
            "text/plain": [
              "<matplotlib.axes._subplots.AxesSubplot at 0x7f93aff90940>"
            ]
          },
          "metadata": {
            "tags": []
          },
          "execution_count": 23
        },
        {
          "output_type": "display_data",
          "data": {
            "image/png": "[encoded data removed]",
            "text/plain": [
              "<Figure size 432x288 with 1 Axes>"
            ]
          },
          "metadata": {
            "tags": [],
            "needs_background": "light"
          }
        }
      ]
    },
    {
      "cell_type": "markdown",
      "metadata": {
        "id": "Fe1b8RpJnLRj",
        "colab_type": "text"
      },
      "source": [
        "Si lo hacemos sin contar los espacios como carácteres el número bajará un poco."
      ]
    },
    {
      "cell_type": "code",
      "metadata": {
        "id": "vFPj2DIjmi4I",
        "colab_type": "code",
        "outputId": "729f4f39-a4d2-4a0f-ace5-f5ae3618021d",
        "colab": {
          "base_uri": "https://localhost:8080/",
          "height": 384
        }
      },
      "source": [
        "df_train[\"n_characters\"] = df_train[\"text\"].str.replace(' ', '').str.replace('\\t', '').str.replace('\\n', '').str.len()\n",
        "df_train[\"n_characters\"].hist(bins = 30)"
      ],
      "execution_count": 0,
      "outputs": [
        {
          "output_type": "stream",
          "text": [
            "/usr/local/lib/python3.6/dist-packages/ipykernel_launcher.py:1: SettingWithCopyWarning: \n",
            "A value is trying to be set on a copy of a slice from a DataFrame.\n",
            "Try using .loc[row_indexer,col_indexer] = value instead\n",
            "\n",
            "See the caveats in the documentation: https://pandas.pydata.org/pandas-docs/stable/user_guide/indexing.html#returning-a-view-versus-a-copy\n",
            "  \"\"\"Entry point for launching an IPython kernel.\n"
          ],
          "name": "stderr"
        },
        {
          "output_type": "execute_result",
          "data": {
            "text/plain": [
              "<matplotlib.axes._subplots.AxesSubplot at 0x7f93edd8cb00>"
            ]
          },
          "metadata": {
            "tags": []
          },
          "execution_count": 27
        },
        {
          "output_type": "display_data",
          "data": {
            "image/png": "[encoded data removed]",
            "text/plain": [
              "<Figure size 432x288 with 1 Axes>"
            ]
          },
          "metadata": {
            "tags": [],
            "needs_background": "light"
          }
        }
      ]
    }
  ]
}