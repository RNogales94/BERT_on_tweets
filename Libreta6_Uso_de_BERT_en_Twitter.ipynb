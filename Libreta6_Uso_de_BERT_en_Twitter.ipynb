{
  "nbformat": 4,
  "nbformat_minor": 0,
  "metadata": {
    "accelerator": "GPU",
    "colab": {
      "name": "Libreta6-Uso_de_BERT_en_Twitter.ipynb",
      "provenance": [],
      "collapsed_sections": [],
      "machine_shape": "hm",
      "include_colab_link": true
    },
    "kernelspec": {
      "name": "python3",
      "display_name": "Python 3"
    }
  },
  "cells": [
    {
      "cell_type": "markdown",
      "metadata": {
        "id": "view-in-github",
        "colab_type": "text"
      },
      "source": [
        "<a href=\"https://colab.research.google.com/github/joSanchez28/BERT_on_tweets/blob/master/Libreta6_Uso_de_BERT_en_Twitter.ipynb\" target=\"_parent\"><img src=\"https://colab.research.google.com/assets/colab-badge.svg\" alt=\"Open In Colab\"/></a>"
      ]
    },
    {
      "cell_type": "markdown",
      "metadata": {
        "id": "dKLDJ25-Gmzl",
        "colab_type": "text"
      },
      "source": [
        "# Clasificación de sentimientos en Twitter\n",
        "\n",
        "En esta libreta usaremos el mejor modelo que hemos obtenido en las libretas anteriores (BERT ajustado a nuestro conjunto de datos de Twitter) y lo usaremos para realizar clasificación de sentimientos en tweets. Para descargar los tweets, usaremos la API de Twitter llamada [tweepy](https://www.tweepy.org/).\n"
      ]
    },
    {
      "cell_type": "markdown",
      "metadata": {
        "colab_type": "text",
        "id": "kp40RXphJMa_"
      },
      "source": [
        "Cargamos en primer lugar los paquetes necesarios."
      ]
    },
    {
      "cell_type": "code",
      "metadata": {
        "colab_type": "code",
        "id": "b2NXy2z2JMbD",
        "colab": {
          "base_uri": "https://localhost:8080/",
          "height": 34
        },
        "outputId": "595f63ae-d3a0-4f05-c30d-3d524824013a"
      },
      "source": [
        "from google.colab import drive\n",
        "drive.mount('/content/drive')"
      ],
      "execution_count": 1,
      "outputs": [
        {
          "output_type": "stream",
          "text": [
            "Drive already mounted at /content/drive; to attempt to forcibly remount, call drive.mount(\"/content/drive\", force_remount=True).\n"
          ],
          "name": "stdout"
        }
      ]
    },
    {
      "cell_type": "code",
      "metadata": {
        "colab_type": "code",
        "id": "vY9Ij61IJMbQ",
        "colab": {}
      },
      "source": [
        "!cp \"/content/drive/My Drive/Colab Notebooks/lectura_y_preprocesado.py\" ."
      ],
      "execution_count": 2,
      "outputs": []
    },
    {
      "cell_type": "code",
      "metadata": {
        "id": "5uCkLYPGRceh",
        "colab_type": "code",
        "colab": {
          "base_uri": "https://localhost:8080/",
          "height": 340
        },
        "outputId": "33da4f7b-f3ee-4dac-b968-407c8427116b"
      },
      "source": [
        "pip install transformers"
      ],
      "execution_count": 3,
      "outputs": [
        {
          "output_type": "stream",
          "text": [
            "Requirement already satisfied: transformers in /usr/local/lib/python3.6/dist-packages (2.11.0)\n",
            "Requirement already satisfied: sentencepiece in /usr/local/lib/python3.6/dist-packages (from transformers) (0.1.91)\n",
            "Requirement already satisfied: numpy in /usr/local/lib/python3.6/dist-packages (from transformers) (1.18.5)\n",
            "Requirement already satisfied: tokenizers==0.7.0 in /usr/local/lib/python3.6/dist-packages (from transformers) (0.7.0)\n",
            "Requirement already satisfied: sacremoses in /usr/local/lib/python3.6/dist-packages (from transformers) (0.0.43)\n",
            "Requirement already satisfied: dataclasses; python_version < \"3.7\" in /usr/local/lib/python3.6/dist-packages (from transformers) (0.7)\n",
            "Requirement already satisfied: filelock in /usr/local/lib/python3.6/dist-packages (from transformers) (3.0.12)\n",
            "Requirement already satisfied: regex!=2019.12.17 in /usr/local/lib/python3.6/dist-packages (from transformers) (2019.12.20)\n",
            "Requirement already satisfied: tqdm>=4.27 in /usr/local/lib/python3.6/dist-packages (from transformers) (4.41.1)\n",
            "Requirement already satisfied: requests in /usr/local/lib/python3.6/dist-packages (from transformers) (2.23.0)\n",
            "Requirement already satisfied: packaging in /usr/local/lib/python3.6/dist-packages (from transformers) (20.4)\n",
            "Requirement already satisfied: click in /usr/local/lib/python3.6/dist-packages (from sacremoses->transformers) (7.1.2)\n",
            "Requirement already satisfied: joblib in /usr/local/lib/python3.6/dist-packages (from sacremoses->transformers) (0.15.1)\n",
            "Requirement already satisfied: six in /usr/local/lib/python3.6/dist-packages (from sacremoses->transformers) (1.12.0)\n",
            "Requirement already satisfied: chardet<4,>=3.0.2 in /usr/local/lib/python3.6/dist-packages (from requests->transformers) (3.0.4)\n",
            "Requirement already satisfied: urllib3!=1.25.0,!=1.25.1,<1.26,>=1.21.1 in /usr/local/lib/python3.6/dist-packages (from requests->transformers) (1.24.3)\n",
            "Requirement already satisfied: certifi>=2017.4.17 in /usr/local/lib/python3.6/dist-packages (from requests->transformers) (2020.4.5.2)\n",
            "Requirement already satisfied: idna<3,>=2.5 in /usr/local/lib/python3.6/dist-packages (from requests->transformers) (2.9)\n",
            "Requirement already satisfied: pyparsing>=2.0.2 in /usr/local/lib/python3.6/dist-packages (from packaging->transformers) (2.4.7)\n"
          ],
          "name": "stdout"
        }
      ]
    },
    {
      "cell_type": "code",
      "metadata": {
        "id": "C15z5aGMxKIn",
        "colab_type": "code",
        "colab": {
          "base_uri": "https://localhost:8080/",
          "height": 68
        },
        "outputId": "ecc5a412-45b8-4a64-a322-f15b5bd35614"
      },
      "source": [
        "pip install jsonpickle"
      ],
      "execution_count": 4,
      "outputs": [
        {
          "output_type": "stream",
          "text": [
            "Requirement already satisfied: jsonpickle in /usr/local/lib/python3.6/dist-packages (1.4.1)\n",
            "Requirement already satisfied: importlib-metadata in /usr/local/lib/python3.6/dist-packages (from jsonpickle) (1.6.1)\n",
            "Requirement already satisfied: zipp>=0.5 in /usr/local/lib/python3.6/dist-packages (from importlib-metadata->jsonpickle) (3.1.0)\n"
          ],
          "name": "stdout"
        }
      ]
    },
    {
      "cell_type": "code",
      "metadata": {
        "colab_type": "code",
        "id": "VMaE3FpcJMbe",
        "colab": {
          "base_uri": "https://localhost:8080/",
          "height": 71
        },
        "outputId": "b1ccb48a-eea6-45d6-dbeb-83dac43c2b7f"
      },
      "source": [
        "import os\n",
        "import pandas as pd\n",
        "import re\n",
        "import itertools\n",
        "import time\n",
        "import pickle\n",
        "import numpy as np\n",
        "import sklearn\n",
        "from sklearn.metrics import confusion_matrix, classification_report, accuracy_score\n",
        "#import scikitplot as skplt\n",
        "import pickle\n",
        "import seaborn as sns\n",
        "import matplotlib.pyplot as plt\n",
        "\n",
        "import tensorflow as tf\n",
        "from lectura_y_preprocesado import *"
      ],
      "execution_count": 5,
      "outputs": [
        {
          "output_type": "stream",
          "text": [
            "/usr/local/lib/python3.6/dist-packages/statsmodels/tools/_testing.py:19: FutureWarning: pandas.util.testing is deprecated. Use the functions in the public API at pandas.testing instead.\n",
            "  import pandas.util.testing as tm\n"
          ],
          "name": "stderr"
        }
      ]
    },
    {
      "cell_type": "markdown",
      "metadata": {
        "id": "tTPhqgE66NrS",
        "colab_type": "text"
      },
      "source": [
        "## Carga y preparación del modelo \n",
        " En este apartado cargaremos el modelo BERT como ya hicimos. Esta vez lo prepararemos para que solo clasifique como tweets positivos/negativos aquellos a los que les asigne una etiqueta muy cercana al 1 (positivo) o al 0 (negativo). De esta forma, se considerarán neutros aquellos tweets que tengan un valor alrededor de $0.5$. Es obvio que esta forma de clasificar tweets en 3 clases (negativo, neutro o positivo) no es la idónea, pues idealmente el modelo debería de haber sido entrenado con las 3 clases. Esto no ha sido posible debido a que el conjunto de entrenamiento con el que estamos trabajando no posee tweets de clase neutra.\n"
      ]
    },
    {
      "cell_type": "markdown",
      "metadata": {
        "id": "uarAxMEv8viQ",
        "colab_type": "text"
      },
      "source": [
        "Cargamos el modelo BERT ya entrenado con tweets."
      ]
    },
    {
      "cell_type": "code",
      "metadata": {
        "colab_type": "code",
        "id": "Y-GJMm1_8ZL9",
        "colab": {}
      },
      "source": [
        "models_dir = \"/content/drive/My Drive/Modelos_finales/\" #Para ejecutarlo en Google Colab con Google Drive\n",
        "#models_dir = \"../Modelos_finales\" #Para ejecutarlo localmente\n",
        "model_name = \"my_best_model_BERT.02-0.86.h5\"\n",
        "model_path = models_dir + model_name"
      ],
      "execution_count": 6,
      "outputs": []
    },
    {
      "cell_type": "code",
      "metadata": {
        "colab_type": "code",
        "id": "Y1fmWgo08ZMZ",
        "colab": {}
      },
      "source": [
        "model_BERT, tokenizer, config = carga_modelo_BERT(model_path)"
      ],
      "execution_count": 7,
      "outputs": []
    },
    {
      "cell_type": "code",
      "metadata": {
        "colab_type": "code",
        "id": "9oUtDjt38rWC",
        "colab": {}
      },
      "source": [
        "pipeline_BERT = TextClassificationPipeline(model = model_BERT, tokenizer = tokenizer, framework= \"tf\")"
      ],
      "execution_count": 8,
      "outputs": []
    },
    {
      "cell_type": "code",
      "metadata": {
        "id": "yjkobUw6pDGg",
        "colab_type": "code",
        "colab": {}
      },
      "source": [
        "decode_labels_map = {\"LABEL_0\": 0, \"LABEL_1\": 1}\n",
        "def decode_labels(label):\n",
        "    return decode_labels_map[label]"
      ],
      "execution_count": 9,
      "outputs": []
    },
    {
      "cell_type": "code",
      "metadata": {
        "id": "BmG_KAfBpDEO",
        "colab_type": "code",
        "colab": {
          "base_uri": "https://localhost:8080/",
          "height": 34
        },
        "outputId": "fa2e6e13-e83f-45ec-e0cb-6b19c3093a74"
      },
      "source": [
        "pipeline_BERT(\"I love the music.\")"
      ],
      "execution_count": 10,
      "outputs": [
        {
          "output_type": "execute_result",
          "data": {
            "text/plain": [
              "[{'label': 'LABEL_1', 'score': 0.9910827875137329}]"
            ]
          },
          "metadata": {
            "tags": []
          },
          "execution_count": 10
        }
      ]
    },
    {
      "cell_type": "markdown",
      "metadata": {
        "id": "r59SF-dqrjzY",
        "colab_type": "text"
      },
      "source": [
        "Antes de comenzar a trabajar con tweets, hagamos una pequeña prueba para ver cómo trabajaremos con las salidas del modelo."
      ]
    },
    {
      "cell_type": "code",
      "metadata": {
        "id": "1pwdycsIpDBP",
        "colab_type": "code",
        "colab": {}
      },
      "source": [
        "predictions = pipeline_BERT(\"I really think Android smartphones have become the best option.\", \n",
        "                            \"I really think Android smartphones havent become the best option.\",\n",
        "                            \"Leonardo seems to have lack of confidence in this movie.\",\n",
        "                            \"I dont think the managers of this company have any idea of what the market is asking them.\",\n",
        "                            \"Dont you think this film is awesome?\",\n",
        "                            \"I don't like Apple products.\")"
      ],
      "execution_count": 11,
      "outputs": []
    },
    {
      "cell_type": "code",
      "metadata": {
        "id": "8R5yLBkCqser",
        "colab_type": "code",
        "colab": {}
      },
      "source": [
        "predictions_df = pd.DataFrame(predictions)\n",
        "predictions_df.label = predictions_df.label.apply(lambda x: decode_labels(x))"
      ],
      "execution_count": 12,
      "outputs": []
    },
    {
      "cell_type": "code",
      "metadata": {
        "id": "fmUD3USQq7aq",
        "colab_type": "code",
        "colab": {
          "base_uri": "https://localhost:8080/",
          "height": 235
        },
        "outputId": "78704234-f6af-4e72-86b0-bed72fe5669f"
      },
      "source": [
        "predictions_df"
      ],
      "execution_count": 13,
      "outputs": [
        {
          "output_type": "execute_result",
          "data": {
            "text/html": [
              "<div>\n",
              "<style scoped>\n",
              "    .dataframe tbody tr th:only-of-type {\n",
              "        vertical-align: middle;\n",
              "    }\n",
              "\n",
              "    .dataframe tbody tr th {\n",
              "        vertical-align: top;\n",
              "    }\n",
              "\n",
              "    .dataframe thead th {\n",
              "        text-align: right;\n",
              "    }\n",
              "</style>\n",
              "<table border=\"1\" class=\"dataframe\">\n",
              "  <thead>\n",
              "    <tr style=\"text-align: right;\">\n",
              "      <th></th>\n",
              "      <th>label</th>\n",
              "      <th>score</th>\n",
              "    </tr>\n",
              "  </thead>\n",
              "  <tbody>\n",
              "    <tr>\n",
              "      <th>0</th>\n",
              "      <td>1</td>\n",
              "      <td>0.974853</td>\n",
              "    </tr>\n",
              "    <tr>\n",
              "      <th>1</th>\n",
              "      <td>0</td>\n",
              "      <td>0.973031</td>\n",
              "    </tr>\n",
              "    <tr>\n",
              "      <th>2</th>\n",
              "      <td>0</td>\n",
              "      <td>0.863371</td>\n",
              "    </tr>\n",
              "    <tr>\n",
              "      <th>3</th>\n",
              "      <td>0</td>\n",
              "      <td>0.755670</td>\n",
              "    </tr>\n",
              "    <tr>\n",
              "      <th>4</th>\n",
              "      <td>1</td>\n",
              "      <td>0.987460</td>\n",
              "    </tr>\n",
              "    <tr>\n",
              "      <th>5</th>\n",
              "      <td>0</td>\n",
              "      <td>0.991117</td>\n",
              "    </tr>\n",
              "  </tbody>\n",
              "</table>\n",
              "</div>"
            ],
            "text/plain": [
              "   label     score\n",
              "0      1  0.974853\n",
              "1      0  0.973031\n",
              "2      0  0.863371\n",
              "3      0  0.755670\n",
              "4      1  0.987460\n",
              "5      0  0.991117"
            ]
          },
          "metadata": {
            "tags": []
          },
          "execution_count": 13
        }
      ]
    },
    {
      "cell_type": "markdown",
      "metadata": {
        "id": "2kRpxJ3tuiad",
        "colab_type": "text"
      },
      "source": [
        "## Uso de tweepy (API de Twitter)\n",
        "\n",
        "Nos centramos ahora en descargar algunos tweets con la API de Twitter para posteriormente clasificarlos con BERT según su sentimiento."
      ]
    },
    {
      "cell_type": "code",
      "metadata": {
        "id": "H7p7Ky9Or9x7",
        "colab_type": "code",
        "colab": {}
      },
      "source": [
        "import tweepy\n",
        "from tweepy import Stream\n",
        "from tweepy import OAuthHandler\n",
        "from tweepy.streaming import StreamListener\n",
        "import jsonpickle"
      ],
      "execution_count": 14,
      "outputs": []
    },
    {
      "cell_type": "code",
      "metadata": {
        "id": "wVf-LfFiuaGq",
        "colab_type": "code",
        "colab": {}
      },
      "source": [
        "consumer_key = \"EqeQ6v3LF0joV9grFXk4x19TJ\"\n",
        "consumer_secret = \"FMfzwouDObjcgzZxmmFzGK6dxQIhEX4JREweiMINAkGrlNIBuj\"\n",
        "access_token = \"1403420936-IpL9AyeoYnDLMT18ooADXl7umBKAMKs8NZmiFOi\"\n",
        "access_token_secret = \"nSPght3oQqudUQ1BxtnEF2UmflxR95v5QXzvpPKGUJocY\""
      ],
      "execution_count": 15,
      "outputs": []
    },
    {
      "cell_type": "code",
      "metadata": {
        "id": "Qzgr5vqauf2c",
        "colab_type": "code",
        "colab": {}
      },
      "source": [
        "auth = tweepy.AppAuthHandler(consumer_key, consumer_secret)\n",
        "auth.secure = True\n",
        "api = tweepy.API(auth, wait_on_rate_limit=True, wait_on_rate_limit_notify=True)"
      ],
      "execution_count": 16,
      "outputs": []
    },
    {
      "cell_type": "markdown",
      "metadata": {
        "id": "KG__qXxD06t-",
        "colab_type": "text"
      },
      "source": [
        "Hagamos una primera query de prueba."
      ]
    },
    {
      "cell_type": "code",
      "metadata": {
        "id": "G_sAaTkLv-oR",
        "colab_type": "code",
        "colab": {}
      },
      "source": [
        "searchQuery = '@realDonaldTrump'"
      ],
      "execution_count": 17,
      "outputs": []
    },
    {
      "cell_type": "code",
      "metadata": {
        "id": "rP1DWEQUzse1",
        "colab_type": "code",
        "colab": {}
      },
      "source": [
        "tweets = api.search(q=searchQuery, count=100, tweet_mode = 'extended')"
      ],
      "execution_count": 18,
      "outputs": []
    },
    {
      "cell_type": "code",
      "metadata": {
        "id": "IsMweqnk9PyL",
        "colab_type": "code",
        "colab": {}
      },
      "source": [
        "#Ajuste de pandas para mostrar todo el texto de los tweets:\n",
        "#pd.set_option('display.max_colwidth', None)"
      ],
      "execution_count": 19,
      "outputs": []
    },
    {
      "cell_type": "code",
      "metadata": {
        "id": "7uXjM9Bkz1eF",
        "colab_type": "code",
        "colab": {}
      },
      "source": [
        "tweets_df = pd.DataFrame([tweet._json for tweet in tweets])"
      ],
      "execution_count": 20,
      "outputs": []
    },
    {
      "cell_type": "code",
      "metadata": {
        "id": "m9DfDx5L0ydc",
        "colab_type": "code",
        "colab": {
          "base_uri": "https://localhost:8080/",
          "height": 54
        },
        "outputId": "e56a4190-7af3-44b2-aad2-2d320a1ade70"
      },
      "source": [
        "columns = list(tweets_df.columns)\n",
        "print(columns)"
      ],
      "execution_count": 21,
      "outputs": [
        {
          "output_type": "stream",
          "text": [
            "['created_at', 'id', 'id_str', 'full_text', 'truncated', 'display_text_range', 'entities', 'metadata', 'source', 'in_reply_to_status_id', 'in_reply_to_status_id_str', 'in_reply_to_user_id', 'in_reply_to_user_id_str', 'in_reply_to_screen_name', 'user', 'geo', 'coordinates', 'place', 'contributors', 'retweeted_status', 'is_quote_status', 'retweet_count', 'favorite_count', 'favorited', 'retweeted', 'lang', 'quoted_status_id', 'quoted_status_id_str', 'quoted_status', 'possibly_sensitive', 'extended_entities']\n"
          ],
          "name": "stdout"
        }
      ]
    },
    {
      "cell_type": "code",
      "metadata": {
        "id": "J2RqNq5K0kaE",
        "colab_type": "code",
        "colab": {
          "base_uri": "https://localhost:8080/",
          "height": 34
        },
        "outputId": "a3d82bb9-4af8-45f3-d59d-0e5a5bd4f0e2"
      },
      "source": [
        "tweets_df.shape"
      ],
      "execution_count": 22,
      "outputs": [
        {
          "output_type": "execute_result",
          "data": {
            "text/plain": [
              "(100, 31)"
            ]
          },
          "metadata": {
            "tags": []
          },
          "execution_count": 22
        }
      ]
    },
    {
      "cell_type": "code",
      "metadata": {
        "id": "iTwLF6GP2gxw",
        "colab_type": "code",
        "colab": {
          "base_uri": "https://localhost:8080/",
          "height": 315
        },
        "outputId": "5b6ac265-dae3-4642-e618-74044b2786c2"
      },
      "source": [
        "tweets_df.head(3)"
      ],
      "execution_count": 23,
      "outputs": [
        {
          "output_type": "execute_result",
          "data": {
            "text/html": [
              "<div>\n",
              "<style scoped>\n",
              "    .dataframe tbody tr th:only-of-type {\n",
              "        vertical-align: middle;\n",
              "    }\n",
              "\n",
              "    .dataframe tbody tr th {\n",
              "        vertical-align: top;\n",
              "    }\n",
              "\n",
              "    .dataframe thead th {\n",
              "        text-align: right;\n",
              "    }\n",
              "</style>\n",
              "<table border=\"1\" class=\"dataframe\">\n",
              "  <thead>\n",
              "    <tr style=\"text-align: right;\">\n",
              "      <th></th>\n",
              "      <th>created_at</th>\n",
              "      <th>id</th>\n",
              "      <th>id_str</th>\n",
              "      <th>full_text</th>\n",
              "      <th>truncated</th>\n",
              "      <th>display_text_range</th>\n",
              "      <th>entities</th>\n",
              "      <th>metadata</th>\n",
              "      <th>source</th>\n",
              "      <th>in_reply_to_status_id</th>\n",
              "      <th>in_reply_to_status_id_str</th>\n",
              "      <th>in_reply_to_user_id</th>\n",
              "      <th>in_reply_to_user_id_str</th>\n",
              "      <th>in_reply_to_screen_name</th>\n",
              "      <th>user</th>\n",
              "      <th>geo</th>\n",
              "      <th>coordinates</th>\n",
              "      <th>place</th>\n",
              "      <th>contributors</th>\n",
              "      <th>retweeted_status</th>\n",
              "      <th>is_quote_status</th>\n",
              "      <th>retweet_count</th>\n",
              "      <th>favorite_count</th>\n",
              "      <th>favorited</th>\n",
              "      <th>retweeted</th>\n",
              "      <th>lang</th>\n",
              "      <th>quoted_status_id</th>\n",
              "      <th>quoted_status_id_str</th>\n",
              "      <th>quoted_status</th>\n",
              "      <th>possibly_sensitive</th>\n",
              "      <th>extended_entities</th>\n",
              "    </tr>\n",
              "  </thead>\n",
              "  <tbody>\n",
              "    <tr>\n",
              "      <th>0</th>\n",
              "      <td>Fri Jun 19 15:16:45 +0000 2020</td>\n",
              "      <td>1273998158985605123</td>\n",
              "      <td>1273998158985605123</td>\n",
              "      <td>RT @DineshDSouza: If @realDonaldTrump takes 20...</td>\n",
              "      <td>False</td>\n",
              "      <td>[0, 140]</td>\n",
              "      <td>{'hashtags': [], 'symbols': [], 'user_mentions...</td>\n",
              "      <td>{'iso_language_code': 'en', 'result_type': 're...</td>\n",
              "      <td>&lt;a href=\"http://twitter.com/download/android\" ...</td>\n",
              "      <td>NaN</td>\n",
              "      <td>None</td>\n",
              "      <td>NaN</td>\n",
              "      <td>None</td>\n",
              "      <td>None</td>\n",
              "      <td>{'id': 823996821336969216, 'id_str': '82399682...</td>\n",
              "      <td>None</td>\n",
              "      <td>None</td>\n",
              "      <td>None</td>\n",
              "      <td>None</td>\n",
              "      <td>{'created_at': 'Fri Jun 19 13:04:23 +0000 2020...</td>\n",
              "      <td>False</td>\n",
              "      <td>4182</td>\n",
              "      <td>0</td>\n",
              "      <td>False</td>\n",
              "      <td>False</td>\n",
              "      <td>en</td>\n",
              "      <td>NaN</td>\n",
              "      <td>NaN</td>\n",
              "      <td>NaN</td>\n",
              "      <td>NaN</td>\n",
              "      <td>NaN</td>\n",
              "    </tr>\n",
              "    <tr>\n",
              "      <th>1</th>\n",
              "      <td>Fri Jun 19 15:16:45 +0000 2020</td>\n",
              "      <td>1273998158922764290</td>\n",
              "      <td>1273998158922764290</td>\n",
              "      <td>@realDonaldTrump Will someone be kneeling on t...</td>\n",
              "      <td>False</td>\n",
              "      <td>[17, 71]</td>\n",
              "      <td>{'hashtags': [], 'symbols': [], 'user_mentions...</td>\n",
              "      <td>{'iso_language_code': 'en', 'result_type': 're...</td>\n",
              "      <td>&lt;a href=\"http://twitter.com/download/android\" ...</td>\n",
              "      <td>1.273972e+18</td>\n",
              "      <td>1273972301156016130</td>\n",
              "      <td>25073877.0</td>\n",
              "      <td>25073877</td>\n",
              "      <td>realDonaldTrump</td>\n",
              "      <td>{'id': 3065804686, 'id_str': '3065804686', 'na...</td>\n",
              "      <td>None</td>\n",
              "      <td>None</td>\n",
              "      <td>None</td>\n",
              "      <td>None</td>\n",
              "      <td>NaN</td>\n",
              "      <td>False</td>\n",
              "      <td>0</td>\n",
              "      <td>0</td>\n",
              "      <td>False</td>\n",
              "      <td>False</td>\n",
              "      <td>en</td>\n",
              "      <td>NaN</td>\n",
              "      <td>NaN</td>\n",
              "      <td>NaN</td>\n",
              "      <td>NaN</td>\n",
              "      <td>NaN</td>\n",
              "    </tr>\n",
              "    <tr>\n",
              "      <th>2</th>\n",
              "      <td>Fri Jun 19 15:16:45 +0000 2020</td>\n",
              "      <td>1273998158880743425</td>\n",
              "      <td>1273998158880743425</td>\n",
              "      <td>Sounds like somebody is scared with out his bu...</td>\n",
              "      <td>False</td>\n",
              "      <td>[0, 83]</td>\n",
              "      <td>{'hashtags': [], 'symbols': [], 'user_mentions...</td>\n",
              "      <td>{'iso_language_code': 'en', 'result_type': 're...</td>\n",
              "      <td>&lt;a href=\"https://mobile.twitter.com\" rel=\"nofo...</td>\n",
              "      <td>NaN</td>\n",
              "      <td>None</td>\n",
              "      <td>NaN</td>\n",
              "      <td>None</td>\n",
              "      <td>None</td>\n",
              "      <td>{'id': 37221831, 'id_str': '37221831', 'name':...</td>\n",
              "      <td>None</td>\n",
              "      <td>None</td>\n",
              "      <td>None</td>\n",
              "      <td>None</td>\n",
              "      <td>NaN</td>\n",
              "      <td>True</td>\n",
              "      <td>0</td>\n",
              "      <td>0</td>\n",
              "      <td>False</td>\n",
              "      <td>False</td>\n",
              "      <td>en</td>\n",
              "      <td>1.273972e+18</td>\n",
              "      <td>1273972301156016130</td>\n",
              "      <td>{'created_at': 'Fri Jun 19 13:34:00 +0000 2020...</td>\n",
              "      <td>False</td>\n",
              "      <td>NaN</td>\n",
              "    </tr>\n",
              "  </tbody>\n",
              "</table>\n",
              "</div>"
            ],
            "text/plain": [
              "                       created_at  ...  extended_entities\n",
              "0  Fri Jun 19 15:16:45 +0000 2020  ...                NaN\n",
              "1  Fri Jun 19 15:16:45 +0000 2020  ...                NaN\n",
              "2  Fri Jun 19 15:16:45 +0000 2020  ...                NaN\n",
              "\n",
              "[3 rows x 31 columns]"
            ]
          },
          "metadata": {
            "tags": []
          },
          "execution_count": 23
        }
      ]
    },
    {
      "cell_type": "markdown",
      "metadata": {
        "id": "ajfx95qW1HGS",
        "colab_type": "text"
      },
      "source": [
        "La API de twitter tan solo nos deja extraer 100 tweets por consulta. Para poder extraer más tweets de forma automática, definimos ahora una función que obtenga, a través de varias consultas, un determinado número de tweets (los más recientes) que contengan un determinado término de búsqueda.\n"
      ]
    },
    {
      "cell_type": "code",
      "metadata": {
        "id": "5Hu9wAVdwA38",
        "colab_type": "code",
        "colab": {}
      },
      "source": [
        "retweet_filter=' -filter:retweets' #this filters out retweets\n",
        "tweetsPerQry = 100 # this is the max the API permits"
      ],
      "execution_count": 24,
      "outputs": []
    },
    {
      "cell_type": "code",
      "metadata": {
        "id": "FcQVYKWtyL1C",
        "colab_type": "code",
        "colab": {}
      },
      "source": [
        "def extract_user_name(user):\n",
        "  return user[\"name\"]\n",
        "\n",
        "def get_tweets(searchQuery, maxTweets = 1000, sinceId = None, max_id = -1, \n",
        "               columns_of_interest = ['full_text', 'user', 'retweet_count'], filter_retweets = True):\n",
        "  \"\"\"Devuelve un dataframe con un determinado número de tweets dado por maxTweets que contienen el término de búsqueda searchQuery. \n",
        "  El argumento sinceId nos sirve para indicar un identificador de tweet desde el que empezar a descargar tweets, mientras que max_id\n",
        "  nos da un valor máximo de identificador (a partir del cual no extraer tweets).\"\"\"\n",
        "  df_final = pd.DataFrame(columns=columns_of_interest)\n",
        "  tweetCount = 0\n",
        "  if filter_retweets:\n",
        "    searchQuery = searchQuery + retweet_filter\n",
        "  while tweetCount < maxTweets:\n",
        "    try:\n",
        "        if (max_id <= 0):\n",
        "            if (not sinceId):\n",
        "                new_tweets = api.search(q=searchQuery, count=tweetsPerQry, tweet_mode = 'extended')\n",
        "            else:\n",
        "                new_tweets = api.search(q=searchQuery, count=tweetsPerQry,\n",
        "                                        since_id=sinceId, tweet_mode = 'extended')\n",
        "        else:\n",
        "            if (not sinceId):\n",
        "                new_tweets = api.search(q=searchQuery, count=tweetsPerQry,\n",
        "                                        max_id=str(max_id - 1), tweet_mode = 'extended')\n",
        "            else:\n",
        "                new_tweets = api.search(q=searchQuery, count=tweetsPerQry,\n",
        "                                        max_id=str(max_id - 1),\n",
        "                                        since_id=sinceId, tweet_mode = 'extended')\n",
        "        if not new_tweets:\n",
        "            print(\"No se han encontrado más tweets.\")\n",
        "            break\n",
        "        #for tweet in new_tweets:\n",
        "        #    f.write(jsonpickle.encode(tweet._json, unpicklable=False) +\n",
        "        #            '\\n')\n",
        "        #Introducimos los tweets en el dataframe que devolveremos\n",
        "        new_tweets_df = pd.DataFrame([tweet._json for tweet in new_tweets if tweet.lang=='en'])\n",
        "        df_final = pd.concat([df_final, new_tweets_df[columns_of_interest]])\n",
        "\n",
        "        tweetCount += new_tweets_df.shape[0]\n",
        "        max_id = new_tweets[-1].id\n",
        "    except tweepy.TweepError as e:\n",
        "        # Just exit if any error\n",
        "        print(\"Ha ocurrido algún error con la API de Twitter: \" + str(e))\n",
        "        break\n",
        "  if df_final.shape[0] > maxTweets:\n",
        "    df_final = df_final.head(maxTweets)\n",
        "  print(\"Extraídos {0} tweets\".format(min(tweetCount, maxTweets)))\n",
        "  df_final.user = df_final.user.apply(lambda x: extract_user_name(x))\n",
        "  return df_final"
      ],
      "execution_count": 25,
      "outputs": []
    },
    {
      "cell_type": "code",
      "metadata": {
        "id": "G9EjLBoOychB",
        "colab_type": "code",
        "colab": {
          "base_uri": "https://localhost:8080/",
          "height": 51
        },
        "outputId": "2ceba9d7-9e7c-4d85-c6e3-9538d0536fc5"
      },
      "source": [
        "tweets = get_tweets(\"@westerndigital\", maxTweets = 1000)"
      ],
      "execution_count": 26,
      "outputs": [
        {
          "output_type": "stream",
          "text": [
            "No se han encontrado más tweets.\n",
            "Extraídos 118 tweets\n"
          ],
          "name": "stdout"
        }
      ]
    },
    {
      "cell_type": "code",
      "metadata": {
        "id": "w1uhf6BO47sR",
        "colab_type": "code",
        "colab": {
          "base_uri": "https://localhost:8080/",
          "height": 34
        },
        "outputId": "966b7a03-82d6-42ba-d912-c10910cf1226"
      },
      "source": [
        "tweets.user.iloc[0]"
      ],
      "execution_count": 27,
      "outputs": [
        {
          "output_type": "execute_result",
          "data": {
            "text/plain": [
              "'Express Computer'"
            ]
          },
          "metadata": {
            "tags": []
          },
          "execution_count": 27
        }
      ]
    },
    {
      "cell_type": "code",
      "metadata": {
        "id": "1B2Y3VqN53_Z",
        "colab_type": "code",
        "colab": {
          "base_uri": "https://localhost:8080/",
          "height": 54
        },
        "outputId": "2fbc0ae4-a207-4990-f992-bc580536c0a8"
      },
      "source": [
        "tweets.full_text.iloc[0]"
      ],
      "execution_count": 28,
      "outputs": [
        {
          "output_type": "execute_result",
          "data": {
            "text/plain": [
              "'#TechSenate | The #education sector is an important area of focus for #WesternDigital: Manpreet Ahluwalia, Regional Sales Manager (North) &amp; Limton Xavier, Principal Engineer, @WesternDigital at the #DigitalTechnologySenate - #Education Track #TechnologySenate @srikrp'"
            ]
          },
          "metadata": {
            "tags": []
          },
          "execution_count": 28
        }
      ]
    },
    {
      "cell_type": "code",
      "metadata": {
        "id": "2O94pL9jw7f_",
        "colab_type": "code",
        "colab": {
          "base_uri": "https://localhost:8080/",
          "height": 142
        },
        "outputId": "2ea31bc7-77ba-4572-edbb-4643dc06fa32"
      },
      "source": [
        "tweets.head(3)"
      ],
      "execution_count": 29,
      "outputs": [
        {
          "output_type": "execute_result",
          "data": {
            "text/html": [
              "<div>\n",
              "<style scoped>\n",
              "    .dataframe tbody tr th:only-of-type {\n",
              "        vertical-align: middle;\n",
              "    }\n",
              "\n",
              "    .dataframe tbody tr th {\n",
              "        vertical-align: top;\n",
              "    }\n",
              "\n",
              "    .dataframe thead th {\n",
              "        text-align: right;\n",
              "    }\n",
              "</style>\n",
              "<table border=\"1\" class=\"dataframe\">\n",
              "  <thead>\n",
              "    <tr style=\"text-align: right;\">\n",
              "      <th></th>\n",
              "      <th>full_text</th>\n",
              "      <th>user</th>\n",
              "      <th>retweet_count</th>\n",
              "    </tr>\n",
              "  </thead>\n",
              "  <tbody>\n",
              "    <tr>\n",
              "      <th>0</th>\n",
              "      <td>#TechSenate | The #education sector is an impo...</td>\n",
              "      <td>Express Computer</td>\n",
              "      <td>0</td>\n",
              "    </tr>\n",
              "    <tr>\n",
              "      <th>1</th>\n",
              "      <td>#TechSenate | With universities using open sou...</td>\n",
              "      <td>Express Computer</td>\n",
              "      <td>0</td>\n",
              "    </tr>\n",
              "    <tr>\n",
              "      <th>2</th>\n",
              "      <td>#TechSenate | Our storage and camera products ...</td>\n",
              "      <td>Express Computer</td>\n",
              "      <td>0</td>\n",
              "    </tr>\n",
              "  </tbody>\n",
              "</table>\n",
              "</div>"
            ],
            "text/plain": [
              "                                           full_text  ... retweet_count\n",
              "0  #TechSenate | The #education sector is an impo...  ...             0\n",
              "1  #TechSenate | With universities using open sou...  ...             0\n",
              "2  #TechSenate | Our storage and camera products ...  ...             0\n",
              "\n",
              "[3 rows x 3 columns]"
            ]
          },
          "metadata": {
            "tags": []
          },
          "execution_count": 29
        }
      ]
    },
    {
      "cell_type": "markdown",
      "metadata": {
        "id": "fEiQhchVCzzq",
        "colab_type": "text"
      },
      "source": [
        "Preprocesamos los tweets como hacíamos durante el entrenamiento (reemplazando las URLs por URL y los nombres de usuario por USER)."
      ]
    },
    {
      "cell_type": "code",
      "metadata": {
        "id": "jS1hvXlo8aXO",
        "colab_type": "code",
        "colab": {}
      },
      "source": [
        "tweets = preprocesa_tweetsAPI_para_BERT(tweets)"
      ],
      "execution_count": 30,
      "outputs": []
    },
    {
      "cell_type": "markdown",
      "metadata": {
        "id": "2DkrbbMjDQGl",
        "colab_type": "text"
      },
      "source": [
        "Y finalmente ejecutamos nuestro clasificador de sentimientos en estos tweets.\n"
      ]
    },
    {
      "cell_type": "code",
      "metadata": {
        "id": "NZfjmW5p_ZZe",
        "colab_type": "code",
        "colab": {}
      },
      "source": [
        "sentimientos_df = pd.DataFrame(pipeline_BERT(list(tweets['full_text'].values)))\n",
        "sentimientos_df.label = sentimientos_df.label.apply(lambda x: decode_labels(x))"
      ],
      "execution_count": 31,
      "outputs": []
    },
    {
      "cell_type": "code",
      "metadata": {
        "id": "1TSstLTjDnIg",
        "colab_type": "code",
        "colab": {
          "base_uri": "https://localhost:8080/",
          "height": 68
        },
        "outputId": "b6d1a592-1cbb-4f38-be50-90d0fb7ddbc7"
      },
      "source": [
        "sentimientos_df.label.value_counts()"
      ],
      "execution_count": 32,
      "outputs": [
        {
          "output_type": "execute_result",
          "data": {
            "text/plain": [
              "1    66\n",
              "0    52\n",
              "Name: label, dtype: int64"
            ]
          },
          "metadata": {
            "tags": []
          },
          "execution_count": 32
        }
      ]
    },
    {
      "cell_type": "markdown",
      "metadata": {
        "id": "gcdX3VrGEFzz",
        "colab_type": "text"
      },
      "source": [
        "Creamos ahora una función para automatizar todo este proceso."
      ]
    },
    {
      "cell_type": "code",
      "metadata": {
        "id": "gnW23ohHEFPU",
        "colab_type": "code",
        "colab": {}
      },
      "source": [
        "def get_sentiment(searchQuery, maxTweets = 1000, sinceId = None, max_id = -1, \n",
        "               columns_of_interest = ['full_text', 'user', 'retweet_count'], filter_retweets = True):\n",
        "  tweets = get_tweets(searchQuery, maxTweets = maxTweets, sinceId = sinceId, max_id = max_id, \n",
        "               columns_of_interest = columns_of_interest, filter_retweets = filter_retweets)\n",
        "  tweets = preprocesa_tweetsAPI_para_BERT(tweets)\n",
        "  sentimientos_df = pd.DataFrame(pipeline_BERT(list(tweets['full_text'].values)))\n",
        "  sentimientos_df.label = sentimientos_df.label.apply(lambda x: decode_labels(x))\n",
        "  return sentimientos_df"
      ],
      "execution_count": 33,
      "outputs": []
    },
    {
      "cell_type": "markdown",
      "metadata": {
        "id": "V5pgktw4dIv-",
        "colab_type": "text"
      },
      "source": [
        "#### Sentimiento de tweets que mencionan personajes populares.\n",
        "Por ejemplo, podemos usar nuestro clasificador para ver qué sentimiento tienen los últimos tweets que mencionan personajes de la escena política, como pueden ser Donald Trump o Joe Biden (líderes políticos de USA).\n"
      ]
    },
    {
      "cell_type": "code",
      "metadata": {
        "id": "nrop8dzFD5Tk",
        "colab_type": "code",
        "colab": {
          "base_uri": "https://localhost:8080/",
          "height": 34
        },
        "outputId": "94f4a100-d753-4d94-d7a9-70b4d61a3d3b"
      },
      "source": [
        "sentimientos_df = get_sentiment(\"@realDonaldTrump\")"
      ],
      "execution_count": 34,
      "outputs": [
        {
          "output_type": "stream",
          "text": [
            "Extraídos 1000 tweets\n"
          ],
          "name": "stdout"
        }
      ]
    },
    {
      "cell_type": "code",
      "metadata": {
        "id": "Cqvbj4DtFMuX",
        "colab_type": "code",
        "colab": {
          "base_uri": "https://localhost:8080/",
          "height": 68
        },
        "outputId": "c4a5a437-5302-4374-b496-3e0d692f0587"
      },
      "source": [
        "sentimientos_df.label.value_counts()"
      ],
      "execution_count": 35,
      "outputs": [
        {
          "output_type": "execute_result",
          "data": {
            "text/plain": [
              "1    652\n",
              "0    348\n",
              "Name: label, dtype: int64"
            ]
          },
          "metadata": {
            "tags": []
          },
          "execution_count": 35
        }
      ]
    },
    {
      "cell_type": "code",
      "metadata": {
        "colab_type": "code",
        "id": "4B2SkjxQGyq8",
        "colab": {
          "base_uri": "https://localhost:8080/",
          "height": 34
        },
        "outputId": "21a4f907-60c8-4897-db31-6908e38fe859"
      },
      "source": [
        "sentimientos_df = get_sentiment(\"@JoeBiden\")"
      ],
      "execution_count": 36,
      "outputs": [
        {
          "output_type": "stream",
          "text": [
            "Extraídos 1000 tweets\n"
          ],
          "name": "stdout"
        }
      ]
    },
    {
      "cell_type": "code",
      "metadata": {
        "colab_type": "code",
        "id": "_k8q-hCfGyrA",
        "colab": {
          "base_uri": "https://localhost:8080/",
          "height": 68
        },
        "outputId": "76e529c7-be11-4016-ea2d-2a71143b4811"
      },
      "source": [
        "sentimientos_df.label.value_counts()"
      ],
      "execution_count": 37,
      "outputs": [
        {
          "output_type": "execute_result",
          "data": {
            "text/plain": [
              "1    688\n",
              "0    312\n",
              "Name: label, dtype: int64"
            ]
          },
          "metadata": {
            "tags": []
          },
          "execution_count": 37
        }
      ]
    },
    {
      "cell_type": "markdown",
      "metadata": {
        "id": "N9TAMGzif1uB",
        "colab_type": "text"
      },
      "source": [
        "#### Sentimiento de tweets que mencionan empresas populares.\n",
        "Podemos también usar nuestro clasificador para ver qué sentimiento tienen los últimos tweets que mencionan cuatro de las empresas técnológicas más populares del mundo."
      ]
    },
    {
      "cell_type": "code",
      "metadata": {
        "id": "Ep-NWP_RgTOu",
        "colab_type": "code",
        "colab": {
          "base_uri": "https://localhost:8080/",
          "height": 34
        },
        "outputId": "98a45cee-f7cb-4b93-e037-fd515f91dcfc"
      },
      "source": [
        "sentimientos_df = get_sentiment(\"@Facebook\")"
      ],
      "execution_count": 38,
      "outputs": [
        {
          "output_type": "stream",
          "text": [
            "Extraídos 1000 tweets\n"
          ],
          "name": "stdout"
        }
      ]
    },
    {
      "cell_type": "code",
      "metadata": {
        "id": "yH8twHPzgaZw",
        "colab_type": "code",
        "colab": {
          "base_uri": "https://localhost:8080/",
          "height": 68
        },
        "outputId": "8285ab85-1e64-4b65-da63-34fb283bbd27"
      },
      "source": [
        "sentimientos_df.label.value_counts()"
      ],
      "execution_count": 39,
      "outputs": [
        {
          "output_type": "execute_result",
          "data": {
            "text/plain": [
              "1    600\n",
              "0    400\n",
              "Name: label, dtype: int64"
            ]
          },
          "metadata": {
            "tags": []
          },
          "execution_count": 39
        }
      ]
    },
    {
      "cell_type": "code",
      "metadata": {
        "colab_type": "code",
        "id": "3nCx4TvaGyHa",
        "colab": {
          "base_uri": "https://localhost:8080/",
          "height": 34
        },
        "outputId": "92885e08-26ff-40b4-df06-1e8c06f0882f"
      },
      "source": [
        "sentimientos_df = get_sentiment(\"@Google\")"
      ],
      "execution_count": 40,
      "outputs": [
        {
          "output_type": "stream",
          "text": [
            "Extraídos 1000 tweets\n"
          ],
          "name": "stdout"
        }
      ]
    },
    {
      "cell_type": "code",
      "metadata": {
        "colab_type": "code",
        "id": "olc0eXInGyHe",
        "colab": {
          "base_uri": "https://localhost:8080/",
          "height": 68
        },
        "outputId": "e5204bca-8a4c-468c-9a54-a3fde2e89411"
      },
      "source": [
        "sentimientos_df.label.value_counts()"
      ],
      "execution_count": 41,
      "outputs": [
        {
          "output_type": "execute_result",
          "data": {
            "text/plain": [
              "1    672\n",
              "0    328\n",
              "Name: label, dtype: int64"
            ]
          },
          "metadata": {
            "tags": []
          },
          "execution_count": 41
        }
      ]
    },
    {
      "cell_type": "code",
      "metadata": {
        "colab_type": "code",
        "id": "aRusoGVcHRE2",
        "colab": {
          "base_uri": "https://localhost:8080/",
          "height": 34
        },
        "outputId": "fc819f5f-9a06-45ce-ab8b-9b21c8312b6b"
      },
      "source": [
        "sentimientos_df = get_sentiment(\"@amazon\")"
      ],
      "execution_count": 42,
      "outputs": [
        {
          "output_type": "stream",
          "text": [
            "Extraídos 1000 tweets\n"
          ],
          "name": "stdout"
        }
      ]
    },
    {
      "cell_type": "code",
      "metadata": {
        "colab_type": "code",
        "id": "fDbqZZIuHRE-",
        "colab": {
          "base_uri": "https://localhost:8080/",
          "height": 68
        },
        "outputId": "5dfafc07-3e91-4bd6-cecc-f61c49ad8eaa"
      },
      "source": [
        "sentimientos_df.label.value_counts()"
      ],
      "execution_count": 43,
      "outputs": [
        {
          "output_type": "execute_result",
          "data": {
            "text/plain": [
              "1    736\n",
              "0    264\n",
              "Name: label, dtype: int64"
            ]
          },
          "metadata": {
            "tags": []
          },
          "execution_count": 43
        }
      ]
    },
    {
      "cell_type": "code",
      "metadata": {
        "colab_type": "code",
        "id": "Jjth_Xm-HbUW",
        "colab": {
          "base_uri": "https://localhost:8080/",
          "height": 34
        },
        "outputId": "8a50d3c5-adbb-400c-8a97-51bb661609b3"
      },
      "source": [
        "sentimientos_df = get_sentiment(\"@Apple\")"
      ],
      "execution_count": 44,
      "outputs": [
        {
          "output_type": "stream",
          "text": [
            "Extraídos 1000 tweets\n"
          ],
          "name": "stdout"
        }
      ]
    },
    {
      "cell_type": "code",
      "metadata": {
        "colab_type": "code",
        "id": "wzFVsWGvHbUa",
        "colab": {
          "base_uri": "https://localhost:8080/",
          "height": 68
        },
        "outputId": "1376e740-635b-44c9-921b-0f3e4ebee4dc"
      },
      "source": [
        "sentimientos_df.label.value_counts()"
      ],
      "execution_count": 45,
      "outputs": [
        {
          "output_type": "execute_result",
          "data": {
            "text/plain": [
              "1    553\n",
              "0    447\n",
              "Name: label, dtype: int64"
            ]
          },
          "metadata": {
            "tags": []
          },
          "execution_count": 45
        }
      ]
    }
  ]
}