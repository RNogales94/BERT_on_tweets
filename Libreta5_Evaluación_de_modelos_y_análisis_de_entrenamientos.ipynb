{
  "nbformat": 4,
  "nbformat_minor": 0,
  "metadata": {
    "accelerator": "GPU",
    "colab": {
      "name": "5-Evaluación_de_modelos_y_análisis_de_entrenamientos.ipynb",
      "provenance": [],
      "collapsed_sections": [],
      "machine_shape": "hm",
      "include_colab_link": true
    },
    "kernelspec": {
      "name": "python3",
      "display_name": "Python 3"
    },
    "widgets": {
      "application/vnd.jupyter.widget-state+json": {
        "1a3f9dec9f394a278bbb95d403558e83": {
          "model_module": "@jupyter-widgets/controls",
          "model_name": "HBoxModel",
          "state": {
            "_view_name": "HBoxView",
            "_dom_classes": [],
            "_model_name": "HBoxModel",
            "_view_module": "@jupyter-widgets/controls",
            "_model_module_version": "1.5.0",
            "_view_count": null,
            "_view_module_version": "1.5.0",
            "box_style": "",
            "layout": "IPY_MODEL_ed919e4272bb4552a7eea36bc70135a3",
            "_model_module": "@jupyter-widgets/controls",
            "children": [
              "IPY_MODEL_c026b1040a4c4017b1fac515b30d06e0",
              "IPY_MODEL_167fe935b6af4140806850767926e6a6"
            ]
          }
        },
        "ed919e4272bb4552a7eea36bc70135a3": {
          "model_module": "@jupyter-widgets/base",
          "model_name": "LayoutModel",
          "state": {
            "_view_name": "LayoutView",
            "grid_template_rows": null,
            "right": null,
            "justify_content": null,
            "_view_module": "@jupyter-widgets/base",
            "overflow": null,
            "_model_module_version": "1.2.0",
            "_view_count": null,
            "flex_flow": null,
            "width": null,
            "min_width": null,
            "border": null,
            "align_items": null,
            "bottom": null,
            "_model_module": "@jupyter-widgets/base",
            "top": null,
            "grid_column": null,
            "overflow_y": null,
            "overflow_x": null,
            "grid_auto_flow": null,
            "grid_area": null,
            "grid_template_columns": null,
            "flex": null,
            "_model_name": "LayoutModel",
            "justify_items": null,
            "grid_row": null,
            "max_height": null,
            "align_content": null,
            "visibility": null,
            "align_self": null,
            "height": null,
            "min_height": null,
            "padding": null,
            "grid_auto_rows": null,
            "grid_gap": null,
            "max_width": null,
            "order": null,
            "_view_module_version": "1.2.0",
            "grid_template_areas": null,
            "object_position": null,
            "object_fit": null,
            "grid_auto_columns": null,
            "margin": null,
            "display": null,
            "left": null
          }
        },
        "c026b1040a4c4017b1fac515b30d06e0": {
          "model_module": "@jupyter-widgets/controls",
          "model_name": "FloatProgressModel",
          "state": {
            "_view_name": "ProgressView",
            "style": "IPY_MODEL_bd2065946d2c4465b805c7fc81dd7048",
            "_dom_classes": [],
            "description": "Downloading: 100%",
            "_model_name": "FloatProgressModel",
            "bar_style": "success",
            "max": 442,
            "_view_module": "@jupyter-widgets/controls",
            "_model_module_version": "1.5.0",
            "value": 442,
            "_view_count": null,
            "_view_module_version": "1.5.0",
            "orientation": "horizontal",
            "min": 0,
            "description_tooltip": null,
            "_model_module": "@jupyter-widgets/controls",
            "layout": "IPY_MODEL_74db98e2add74ce3a2fe31a544db50a9"
          }
        },
        "167fe935b6af4140806850767926e6a6": {
          "model_module": "@jupyter-widgets/controls",
          "model_name": "HTMLModel",
          "state": {
            "_view_name": "HTMLView",
            "style": "IPY_MODEL_8223d5babced49d4b9f50e7153c02d56",
            "_dom_classes": [],
            "description": "",
            "_model_name": "HTMLModel",
            "placeholder": "​",
            "_view_module": "@jupyter-widgets/controls",
            "_model_module_version": "1.5.0",
            "value": " 442/442 [00:00&lt;00:00, 675B/s]",
            "_view_count": null,
            "_view_module_version": "1.5.0",
            "description_tooltip": null,
            "_model_module": "@jupyter-widgets/controls",
            "layout": "IPY_MODEL_2b12c0140e92404c9a7947f3330c210f"
          }
        },
        "bd2065946d2c4465b805c7fc81dd7048": {
          "model_module": "@jupyter-widgets/controls",
          "model_name": "ProgressStyleModel",
          "state": {
            "_view_name": "StyleView",
            "_model_name": "ProgressStyleModel",
            "description_width": "initial",
            "_view_module": "@jupyter-widgets/base",
            "_model_module_version": "1.5.0",
            "_view_count": null,
            "_view_module_version": "1.2.0",
            "bar_color": null,
            "_model_module": "@jupyter-widgets/controls"
          }
        },
        "74db98e2add74ce3a2fe31a544db50a9": {
          "model_module": "@jupyter-widgets/base",
          "model_name": "LayoutModel",
          "state": {
            "_view_name": "LayoutView",
            "grid_template_rows": null,
            "right": null,
            "justify_content": null,
            "_view_module": "@jupyter-widgets/base",
            "overflow": null,
            "_model_module_version": "1.2.0",
            "_view_count": null,
            "flex_flow": null,
            "width": null,
            "min_width": null,
            "border": null,
            "align_items": null,
            "bottom": null,
            "_model_module": "@jupyter-widgets/base",
            "top": null,
            "grid_column": null,
            "overflow_y": null,
            "overflow_x": null,
            "grid_auto_flow": null,
            "grid_area": null,
            "grid_template_columns": null,
            "flex": null,
            "_model_name": "LayoutModel",
            "justify_items": null,
            "grid_row": null,
            "max_height": null,
            "align_content": null,
            "visibility": null,
            "align_self": null,
            "height": null,
            "min_height": null,
            "padding": null,
            "grid_auto_rows": null,
            "grid_gap": null,
            "max_width": null,
            "order": null,
            "_view_module_version": "1.2.0",
            "grid_template_areas": null,
            "object_position": null,
            "object_fit": null,
            "grid_auto_columns": null,
            "margin": null,
            "display": null,
            "left": null
          }
        },
        "8223d5babced49d4b9f50e7153c02d56": {
          "model_module": "@jupyter-widgets/controls",
          "model_name": "DescriptionStyleModel",
          "state": {
            "_view_name": "StyleView",
            "_model_name": "DescriptionStyleModel",
            "description_width": "",
            "_view_module": "@jupyter-widgets/base",
            "_model_module_version": "1.5.0",
            "_view_count": null,
            "_view_module_version": "1.2.0",
            "_model_module": "@jupyter-widgets/controls"
          }
        },
        "2b12c0140e92404c9a7947f3330c210f": {
          "model_module": "@jupyter-widgets/base",
          "model_name": "LayoutModel",
          "state": {
            "_view_name": "LayoutView",
            "grid_template_rows": null,
            "right": null,
            "justify_content": null,
            "_view_module": "@jupyter-widgets/base",
            "overflow": null,
            "_model_module_version": "1.2.0",
            "_view_count": null,
            "flex_flow": null,
            "width": null,
            "min_width": null,
            "border": null,
            "align_items": null,
            "bottom": null,
            "_model_module": "@jupyter-widgets/base",
            "top": null,
            "grid_column": null,
            "overflow_y": null,
            "overflow_x": null,
            "grid_auto_flow": null,
            "grid_area": null,
            "grid_template_columns": null,
            "flex": null,
            "_model_name": "LayoutModel",
            "justify_items": null,
            "grid_row": null,
            "max_height": null,
            "align_content": null,
            "visibility": null,
            "align_self": null,
            "height": null,
            "min_height": null,
            "padding": null,
            "grid_auto_rows": null,
            "grid_gap": null,
            "max_width": null,
            "order": null,
            "_view_module_version": "1.2.0",
            "grid_template_areas": null,
            "object_position": null,
            "object_fit": null,
            "grid_auto_columns": null,
            "margin": null,
            "display": null,
            "left": null
          }
        },
        "75a44271b8b84e5e92220ba591660463": {
          "model_module": "@jupyter-widgets/controls",
          "model_name": "HBoxModel",
          "state": {
            "_view_name": "HBoxView",
            "_dom_classes": [],
            "_model_name": "HBoxModel",
            "_view_module": "@jupyter-widgets/controls",
            "_model_module_version": "1.5.0",
            "_view_count": null,
            "_view_module_version": "1.5.0",
            "box_style": "",
            "layout": "IPY_MODEL_529613c076c747cd9a71848cbc239109",
            "_model_module": "@jupyter-widgets/controls",
            "children": [
              "IPY_MODEL_0d9d37b6d48740f4a75d229e9cbda52c",
              "IPY_MODEL_c12f9cddf5444339b89cfaf046a9195e"
            ]
          }
        },
        "529613c076c747cd9a71848cbc239109": {
          "model_module": "@jupyter-widgets/base",
          "model_name": "LayoutModel",
          "state": {
            "_view_name": "LayoutView",
            "grid_template_rows": null,
            "right": null,
            "justify_content": null,
            "_view_module": "@jupyter-widgets/base",
            "overflow": null,
            "_model_module_version": "1.2.0",
            "_view_count": null,
            "flex_flow": null,
            "width": null,
            "min_width": null,
            "border": null,
            "align_items": null,
            "bottom": null,
            "_model_module": "@jupyter-widgets/base",
            "top": null,
            "grid_column": null,
            "overflow_y": null,
            "overflow_x": null,
            "grid_auto_flow": null,
            "grid_area": null,
            "grid_template_columns": null,
            "flex": null,
            "_model_name": "LayoutModel",
            "justify_items": null,
            "grid_row": null,
            "max_height": null,
            "align_content": null,
            "visibility": null,
            "align_self": null,
            "height": null,
            "min_height": null,
            "padding": null,
            "grid_auto_rows": null,
            "grid_gap": null,
            "max_width": null,
            "order": null,
            "_view_module_version": "1.2.0",
            "grid_template_areas": null,
            "object_position": null,
            "object_fit": null,
            "grid_auto_columns": null,
            "margin": null,
            "display": null,
            "left": null
          }
        },
        "0d9d37b6d48740f4a75d229e9cbda52c": {
          "model_module": "@jupyter-widgets/controls",
          "model_name": "FloatProgressModel",
          "state": {
            "_view_name": "ProgressView",
            "style": "IPY_MODEL_dd43ea50d9964ec7852228dc433fc276",
            "_dom_classes": [],
            "description": "Downloading: 100%",
            "_model_name": "FloatProgressModel",
            "bar_style": "success",
            "max": 231508,
            "_view_module": "@jupyter-widgets/controls",
            "_model_module_version": "1.5.0",
            "value": 231508,
            "_view_count": null,
            "_view_module_version": "1.5.0",
            "orientation": "horizontal",
            "min": 0,
            "description_tooltip": null,
            "_model_module": "@jupyter-widgets/controls",
            "layout": "IPY_MODEL_708d39732b4b406882aeb7a4d7d7e020"
          }
        },
        "c12f9cddf5444339b89cfaf046a9195e": {
          "model_module": "@jupyter-widgets/controls",
          "model_name": "HTMLModel",
          "state": {
            "_view_name": "HTMLView",
            "style": "IPY_MODEL_51dfacd9f92d49b9aed1075624fa220d",
            "_dom_classes": [],
            "description": "",
            "_model_name": "HTMLModel",
            "placeholder": "​",
            "_view_module": "@jupyter-widgets/controls",
            "_model_module_version": "1.5.0",
            "value": " 232k/232k [00:00&lt;00:00, 920kB/s]",
            "_view_count": null,
            "_view_module_version": "1.5.0",
            "description_tooltip": null,
            "_model_module": "@jupyter-widgets/controls",
            "layout": "IPY_MODEL_df286dd35dc246a39e70e0d87803c8cf"
          }
        },
        "dd43ea50d9964ec7852228dc433fc276": {
          "model_module": "@jupyter-widgets/controls",
          "model_name": "ProgressStyleModel",
          "state": {
            "_view_name": "StyleView",
            "_model_name": "ProgressStyleModel",
            "description_width": "initial",
            "_view_module": "@jupyter-widgets/base",
            "_model_module_version": "1.5.0",
            "_view_count": null,
            "_view_module_version": "1.2.0",
            "bar_color": null,
            "_model_module": "@jupyter-widgets/controls"
          }
        },
        "708d39732b4b406882aeb7a4d7d7e020": {
          "model_module": "@jupyter-widgets/base",
          "model_name": "LayoutModel",
          "state": {
            "_view_name": "LayoutView",
            "grid_template_rows": null,
            "right": null,
            "justify_content": null,
            "_view_module": "@jupyter-widgets/base",
            "overflow": null,
            "_model_module_version": "1.2.0",
            "_view_count": null,
            "flex_flow": null,
            "width": null,
            "min_width": null,
            "border": null,
            "align_items": null,
            "bottom": null,
            "_model_module": "@jupyter-widgets/base",
            "top": null,
            "grid_column": null,
            "overflow_y": null,
            "overflow_x": null,
            "grid_auto_flow": null,
            "grid_area": null,
            "grid_template_columns": null,
            "flex": null,
            "_model_name": "LayoutModel",
            "justify_items": null,
            "grid_row": null,
            "max_height": null,
            "align_content": null,
            "visibility": null,
            "align_self": null,
            "height": null,
            "min_height": null,
            "padding": null,
            "grid_auto_rows": null,
            "grid_gap": null,
            "max_width": null,
            "order": null,
            "_view_module_version": "1.2.0",
            "grid_template_areas": null,
            "object_position": null,
            "object_fit": null,
            "grid_auto_columns": null,
            "margin": null,
            "display": null,
            "left": null
          }
        },
        "51dfacd9f92d49b9aed1075624fa220d": {
          "model_module": "@jupyter-widgets/controls",
          "model_name": "DescriptionStyleModel",
          "state": {
            "_view_name": "StyleView",
            "_model_name": "DescriptionStyleModel",
            "description_width": "",
            "_view_module": "@jupyter-widgets/base",
            "_model_module_version": "1.5.0",
            "_view_count": null,
            "_view_module_version": "1.2.0",
            "_model_module": "@jupyter-widgets/controls"
          }
        },
        "df286dd35dc246a39e70e0d87803c8cf": {
          "model_module": "@jupyter-widgets/base",
          "model_name": "LayoutModel",
          "state": {
            "_view_name": "LayoutView",
            "grid_template_rows": null,
            "right": null,
            "justify_content": null,
            "_view_module": "@jupyter-widgets/base",
            "overflow": null,
            "_model_module_version": "1.2.0",
            "_view_count": null,
            "flex_flow": null,
            "width": null,
            "min_width": null,
            "border": null,
            "align_items": null,
            "bottom": null,
            "_model_module": "@jupyter-widgets/base",
            "top": null,
            "grid_column": null,
            "overflow_y": null,
            "overflow_x": null,
            "grid_auto_flow": null,
            "grid_area": null,
            "grid_template_columns": null,
            "flex": null,
            "_model_name": "LayoutModel",
            "justify_items": null,
            "grid_row": null,
            "max_height": null,
            "align_content": null,
            "visibility": null,
            "align_self": null,
            "height": null,
            "min_height": null,
            "padding": null,
            "grid_auto_rows": null,
            "grid_gap": null,
            "max_width": null,
            "order": null,
            "_view_module_version": "1.2.0",
            "grid_template_areas": null,
            "object_position": null,
            "object_fit": null,
            "grid_auto_columns": null,
            "margin": null,
            "display": null,
            "left": null
          }
        },
        "9715ffe4fae9496b8375f8a302788dd6": {
          "model_module": "@jupyter-widgets/controls",
          "model_name": "HBoxModel",
          "state": {
            "_view_name": "HBoxView",
            "_dom_classes": [],
            "_model_name": "HBoxModel",
            "_view_module": "@jupyter-widgets/controls",
            "_model_module_version": "1.5.0",
            "_view_count": null,
            "_view_module_version": "1.5.0",
            "box_style": "",
            "layout": "IPY_MODEL_b0cf6a7d17924e8e95440b408920423c",
            "_model_module": "@jupyter-widgets/controls",
            "children": [
              "IPY_MODEL_f48d81e1134d4c569abe89a3d4276559",
              "IPY_MODEL_f8330b3172f04db28c1c24ec79cbea47"
            ]
          }
        },
        "b0cf6a7d17924e8e95440b408920423c": {
          "model_module": "@jupyter-widgets/base",
          "model_name": "LayoutModel",
          "state": {
            "_view_name": "LayoutView",
            "grid_template_rows": null,
            "right": null,
            "justify_content": null,
            "_view_module": "@jupyter-widgets/base",
            "overflow": null,
            "_model_module_version": "1.2.0",
            "_view_count": null,
            "flex_flow": null,
            "width": null,
            "min_width": null,
            "border": null,
            "align_items": null,
            "bottom": null,
            "_model_module": "@jupyter-widgets/base",
            "top": null,
            "grid_column": null,
            "overflow_y": null,
            "overflow_x": null,
            "grid_auto_flow": null,
            "grid_area": null,
            "grid_template_columns": null,
            "flex": null,
            "_model_name": "LayoutModel",
            "justify_items": null,
            "grid_row": null,
            "max_height": null,
            "align_content": null,
            "visibility": null,
            "align_self": null,
            "height": null,
            "min_height": null,
            "padding": null,
            "grid_auto_rows": null,
            "grid_gap": null,
            "max_width": null,
            "order": null,
            "_view_module_version": "1.2.0",
            "grid_template_areas": null,
            "object_position": null,
            "object_fit": null,
            "grid_auto_columns": null,
            "margin": null,
            "display": null,
            "left": null
          }
        },
        "f48d81e1134d4c569abe89a3d4276559": {
          "model_module": "@jupyter-widgets/controls",
          "model_name": "FloatProgressModel",
          "state": {
            "_view_name": "ProgressView",
            "style": "IPY_MODEL_a28682e18e484cab85647afc22d6e1f4",
            "_dom_classes": [],
            "description": "Downloading: 100%",
            "_model_name": "FloatProgressModel",
            "bar_style": "success",
            "max": 629,
            "_view_module": "@jupyter-widgets/controls",
            "_model_module_version": "1.5.0",
            "value": 629,
            "_view_count": null,
            "_view_module_version": "1.5.0",
            "orientation": "horizontal",
            "min": 0,
            "description_tooltip": null,
            "_model_module": "@jupyter-widgets/controls",
            "layout": "IPY_MODEL_77953d21872d4f9cbb7faf6eed08f6ac"
          }
        },
        "f8330b3172f04db28c1c24ec79cbea47": {
          "model_module": "@jupyter-widgets/controls",
          "model_name": "HTMLModel",
          "state": {
            "_view_name": "HTMLView",
            "style": "IPY_MODEL_1ad2f701142c4905b040fd4188823114",
            "_dom_classes": [],
            "description": "",
            "_model_name": "HTMLModel",
            "placeholder": "​",
            "_view_module": "@jupyter-widgets/controls",
            "_model_module_version": "1.5.0",
            "value": " 629/629 [00:01&lt;00:00, 338B/s]",
            "_view_count": null,
            "_view_module_version": "1.5.0",
            "description_tooltip": null,
            "_model_module": "@jupyter-widgets/controls",
            "layout": "IPY_MODEL_6c1f97c4ab994222ab65c331d7f51f07"
          }
        },
        "a28682e18e484cab85647afc22d6e1f4": {
          "model_module": "@jupyter-widgets/controls",
          "model_name": "ProgressStyleModel",
          "state": {
            "_view_name": "StyleView",
            "_model_name": "ProgressStyleModel",
            "description_width": "initial",
            "_view_module": "@jupyter-widgets/base",
            "_model_module_version": "1.5.0",
            "_view_count": null,
            "_view_module_version": "1.2.0",
            "bar_color": null,
            "_model_module": "@jupyter-widgets/controls"
          }
        },
        "77953d21872d4f9cbb7faf6eed08f6ac": {
          "model_module": "@jupyter-widgets/base",
          "model_name": "LayoutModel",
          "state": {
            "_view_name": "LayoutView",
            "grid_template_rows": null,
            "right": null,
            "justify_content": null,
            "_view_module": "@jupyter-widgets/base",
            "overflow": null,
            "_model_module_version": "1.2.0",
            "_view_count": null,
            "flex_flow": null,
            "width": null,
            "min_width": null,
            "border": null,
            "align_items": null,
            "bottom": null,
            "_model_module": "@jupyter-widgets/base",
            "top": null,
            "grid_column": null,
            "overflow_y": null,
            "overflow_x": null,
            "grid_auto_flow": null,
            "grid_area": null,
            "grid_template_columns": null,
            "flex": null,
            "_model_name": "LayoutModel",
            "justify_items": null,
            "grid_row": null,
            "max_height": null,
            "align_content": null,
            "visibility": null,
            "align_self": null,
            "height": null,
            "min_height": null,
            "padding": null,
            "grid_auto_rows": null,
            "grid_gap": null,
            "max_width": null,
            "order": null,
            "_view_module_version": "1.2.0",
            "grid_template_areas": null,
            "object_position": null,
            "object_fit": null,
            "grid_auto_columns": null,
            "margin": null,
            "display": null,
            "left": null
          }
        },
        "1ad2f701142c4905b040fd4188823114": {
          "model_module": "@jupyter-widgets/controls",
          "model_name": "DescriptionStyleModel",
          "state": {
            "_view_name": "StyleView",
            "_model_name": "DescriptionStyleModel",
            "description_width": "",
            "_view_module": "@jupyter-widgets/base",
            "_model_module_version": "1.5.0",
            "_view_count": null,
            "_view_module_version": "1.2.0",
            "_model_module": "@jupyter-widgets/controls"
          }
        },
        "6c1f97c4ab994222ab65c331d7f51f07": {
          "model_module": "@jupyter-widgets/base",
          "model_name": "LayoutModel",
          "state": {
            "_view_name": "LayoutView",
            "grid_template_rows": null,
            "right": null,
            "justify_content": null,
            "_view_module": "@jupyter-widgets/base",
            "overflow": null,
            "_model_module_version": "1.2.0",
            "_view_count": null,
            "flex_flow": null,
            "width": null,
            "min_width": null,
            "border": null,
            "align_items": null,
            "bottom": null,
            "_model_module": "@jupyter-widgets/base",
            "top": null,
            "grid_column": null,
            "overflow_y": null,
            "overflow_x": null,
            "grid_auto_flow": null,
            "grid_area": null,
            "grid_template_columns": null,
            "flex": null,
            "_model_name": "LayoutModel",
            "justify_items": null,
            "grid_row": null,
            "max_height": null,
            "align_content": null,
            "visibility": null,
            "align_self": null,
            "height": null,
            "min_height": null,
            "padding": null,
            "grid_auto_rows": null,
            "grid_gap": null,
            "max_width": null,
            "order": null,
            "_view_module_version": "1.2.0",
            "grid_template_areas": null,
            "object_position": null,
            "object_fit": null,
            "grid_auto_columns": null,
            "margin": null,
            "display": null,
            "left": null
          }
        },
        "9e3fec2345684a5b885a0394985093b5": {
          "model_module": "@jupyter-widgets/controls",
          "model_name": "HBoxModel",
          "state": {
            "_view_name": "HBoxView",
            "_dom_classes": [],
            "_model_name": "HBoxModel",
            "_view_module": "@jupyter-widgets/controls",
            "_model_module_version": "1.5.0",
            "_view_count": null,
            "_view_module_version": "1.5.0",
            "box_style": "",
            "layout": "IPY_MODEL_345ba011bfd64a96b05eee8138295f7c",
            "_model_module": "@jupyter-widgets/controls",
            "children": [
              "IPY_MODEL_62ce397bd46d4d22aecfd0e79926ba0b",
              "IPY_MODEL_bc6b7585dfbf4cafa74d8ed5441a9ad7"
            ]
          }
        },
        "345ba011bfd64a96b05eee8138295f7c": {
          "model_module": "@jupyter-widgets/base",
          "model_name": "LayoutModel",
          "state": {
            "_view_name": "LayoutView",
            "grid_template_rows": null,
            "right": null,
            "justify_content": null,
            "_view_module": "@jupyter-widgets/base",
            "overflow": null,
            "_model_module_version": "1.2.0",
            "_view_count": null,
            "flex_flow": null,
            "width": null,
            "min_width": null,
            "border": null,
            "align_items": null,
            "bottom": null,
            "_model_module": "@jupyter-widgets/base",
            "top": null,
            "grid_column": null,
            "overflow_y": null,
            "overflow_x": null,
            "grid_auto_flow": null,
            "grid_area": null,
            "grid_template_columns": null,
            "flex": null,
            "_model_name": "LayoutModel",
            "justify_items": null,
            "grid_row": null,
            "max_height": null,
            "align_content": null,
            "visibility": null,
            "align_self": null,
            "height": null,
            "min_height": null,
            "padding": null,
            "grid_auto_rows": null,
            "grid_gap": null,
            "max_width": null,
            "order": null,
            "_view_module_version": "1.2.0",
            "grid_template_areas": null,
            "object_position": null,
            "object_fit": null,
            "grid_auto_columns": null,
            "margin": null,
            "display": null,
            "left": null
          }
        },
        "62ce397bd46d4d22aecfd0e79926ba0b": {
          "model_module": "@jupyter-widgets/controls",
          "model_name": "FloatProgressModel",
          "state": {
            "_view_name": "ProgressView",
            "style": "IPY_MODEL_14a11dfbac5841d28d8fc71787a6d4cf",
            "_dom_classes": [],
            "description": "Downloading: 100%",
            "_model_name": "FloatProgressModel",
            "bar_style": "success",
            "max": 230,
            "_view_module": "@jupyter-widgets/controls",
            "_model_module_version": "1.5.0",
            "value": 230,
            "_view_count": null,
            "_view_module_version": "1.5.0",
            "orientation": "horizontal",
            "min": 0,
            "description_tooltip": null,
            "_model_module": "@jupyter-widgets/controls",
            "layout": "IPY_MODEL_6a8c7e327ae44fdaa1932b5ce6125fb3"
          }
        },
        "bc6b7585dfbf4cafa74d8ed5441a9ad7": {
          "model_module": "@jupyter-widgets/controls",
          "model_name": "HTMLModel",
          "state": {
            "_view_name": "HTMLView",
            "style": "IPY_MODEL_6945dcdb95b74f4fa61904a25ace8d42",
            "_dom_classes": [],
            "description": "",
            "_model_name": "HTMLModel",
            "placeholder": "​",
            "_view_module": "@jupyter-widgets/controls",
            "_model_module_version": "1.5.0",
            "value": " 230/230 [00:01&lt;00:00, 186B/s]",
            "_view_count": null,
            "_view_module_version": "1.5.0",
            "description_tooltip": null,
            "_model_module": "@jupyter-widgets/controls",
            "layout": "IPY_MODEL_426f52ae11ab4f3381ab188b2b1155f2"
          }
        },
        "14a11dfbac5841d28d8fc71787a6d4cf": {
          "model_module": "@jupyter-widgets/controls",
          "model_name": "ProgressStyleModel",
          "state": {
            "_view_name": "StyleView",
            "_model_name": "ProgressStyleModel",
            "description_width": "initial",
            "_view_module": "@jupyter-widgets/base",
            "_model_module_version": "1.5.0",
            "_view_count": null,
            "_view_module_version": "1.2.0",
            "bar_color": null,
            "_model_module": "@jupyter-widgets/controls"
          }
        },
        "6a8c7e327ae44fdaa1932b5ce6125fb3": {
          "model_module": "@jupyter-widgets/base",
          "model_name": "LayoutModel",
          "state": {
            "_view_name": "LayoutView",
            "grid_template_rows": null,
            "right": null,
            "justify_content": null,
            "_view_module": "@jupyter-widgets/base",
            "overflow": null,
            "_model_module_version": "1.2.0",
            "_view_count": null,
            "flex_flow": null,
            "width": null,
            "min_width": null,
            "border": null,
            "align_items": null,
            "bottom": null,
            "_model_module": "@jupyter-widgets/base",
            "top": null,
            "grid_column": null,
            "overflow_y": null,
            "overflow_x": null,
            "grid_auto_flow": null,
            "grid_area": null,
            "grid_template_columns": null,
            "flex": null,
            "_model_name": "LayoutModel",
            "justify_items": null,
            "grid_row": null,
            "max_height": null,
            "align_content": null,
            "visibility": null,
            "align_self": null,
            "height": null,
            "min_height": null,
            "padding": null,
            "grid_auto_rows": null,
            "grid_gap": null,
            "max_width": null,
            "order": null,
            "_view_module_version": "1.2.0",
            "grid_template_areas": null,
            "object_position": null,
            "object_fit": null,
            "grid_auto_columns": null,
            "margin": null,
            "display": null,
            "left": null
          }
        },
        "6945dcdb95b74f4fa61904a25ace8d42": {
          "model_module": "@jupyter-widgets/controls",
          "model_name": "DescriptionStyleModel",
          "state": {
            "_view_name": "StyleView",
            "_model_name": "DescriptionStyleModel",
            "description_width": "",
            "_view_module": "@jupyter-widgets/base",
            "_model_module_version": "1.5.0",
            "_view_count": null,
            "_view_module_version": "1.2.0",
            "_model_module": "@jupyter-widgets/controls"
          }
        },
        "426f52ae11ab4f3381ab188b2b1155f2": {
          "model_module": "@jupyter-widgets/base",
          "model_name": "LayoutModel",
          "state": {
            "_view_name": "LayoutView",
            "grid_template_rows": null,
            "right": null,
            "justify_content": null,
            "_view_module": "@jupyter-widgets/base",
            "overflow": null,
            "_model_module_version": "1.2.0",
            "_view_count": null,
            "flex_flow": null,
            "width": null,
            "min_width": null,
            "border": null,
            "align_items": null,
            "bottom": null,
            "_model_module": "@jupyter-widgets/base",
            "top": null,
            "grid_column": null,
            "overflow_y": null,
            "overflow_x": null,
            "grid_auto_flow": null,
            "grid_area": null,
            "grid_template_columns": null,
            "flex": null,
            "_model_name": "LayoutModel",
            "justify_items": null,
            "grid_row": null,
            "max_height": null,
            "align_content": null,
            "visibility": null,
            "align_self": null,
            "height": null,
            "min_height": null,
            "padding": null,
            "grid_auto_rows": null,
            "grid_gap": null,
            "max_width": null,
            "order": null,
            "_view_module_version": "1.2.0",
            "grid_template_areas": null,
            "object_position": null,
            "object_fit": null,
            "grid_auto_columns": null,
            "margin": null,
            "display": null,
            "left": null
          }
        },
        "f374b348ac4042229eb855ad56b959c0": {
          "model_module": "@jupyter-widgets/controls",
          "model_name": "HBoxModel",
          "state": {
            "_view_name": "HBoxView",
            "_dom_classes": [],
            "_model_name": "HBoxModel",
            "_view_module": "@jupyter-widgets/controls",
            "_model_module_version": "1.5.0",
            "_view_count": null,
            "_view_module_version": "1.5.0",
            "box_style": "",
            "layout": "IPY_MODEL_dbcb07df2b4f4dd58e247b0244d1d88c",
            "_model_module": "@jupyter-widgets/controls",
            "children": [
              "IPY_MODEL_92a3505b800a43a78cbf5638d09543f7",
              "IPY_MODEL_84dcc1e3202845c8a55037aac003b6c3"
            ]
          }
        },
        "dbcb07df2b4f4dd58e247b0244d1d88c": {
          "model_module": "@jupyter-widgets/base",
          "model_name": "LayoutModel",
          "state": {
            "_view_name": "LayoutView",
            "grid_template_rows": null,
            "right": null,
            "justify_content": null,
            "_view_module": "@jupyter-widgets/base",
            "overflow": null,
            "_model_module_version": "1.2.0",
            "_view_count": null,
            "flex_flow": null,
            "width": null,
            "min_width": null,
            "border": null,
            "align_items": null,
            "bottom": null,
            "_model_module": "@jupyter-widgets/base",
            "top": null,
            "grid_column": null,
            "overflow_y": null,
            "overflow_x": null,
            "grid_auto_flow": null,
            "grid_area": null,
            "grid_template_columns": null,
            "flex": null,
            "_model_name": "LayoutModel",
            "justify_items": null,
            "grid_row": null,
            "max_height": null,
            "align_content": null,
            "visibility": null,
            "align_self": null,
            "height": null,
            "min_height": null,
            "padding": null,
            "grid_auto_rows": null,
            "grid_gap": null,
            "max_width": null,
            "order": null,
            "_view_module_version": "1.2.0",
            "grid_template_areas": null,
            "object_position": null,
            "object_fit": null,
            "grid_auto_columns": null,
            "margin": null,
            "display": null,
            "left": null
          }
        },
        "92a3505b800a43a78cbf5638d09543f7": {
          "model_module": "@jupyter-widgets/controls",
          "model_name": "FloatProgressModel",
          "state": {
            "_view_name": "ProgressView",
            "style": "IPY_MODEL_eef1484b2b3d4c6da3d44490cbf3ce3c",
            "_dom_classes": [],
            "description": "Downloading: 100%",
            "_model_name": "FloatProgressModel",
            "bar_style": "success",
            "max": 267844284,
            "_view_module": "@jupyter-widgets/controls",
            "_model_module_version": "1.5.0",
            "value": 267844284,
            "_view_count": null,
            "_view_module_version": "1.5.0",
            "orientation": "horizontal",
            "min": 0,
            "description_tooltip": null,
            "_model_module": "@jupyter-widgets/controls",
            "layout": "IPY_MODEL_c48b8e6917c143f0aaf16c19d8146f7b"
          }
        },
        "84dcc1e3202845c8a55037aac003b6c3": {
          "model_module": "@jupyter-widgets/controls",
          "model_name": "HTMLModel",
          "state": {
            "_view_name": "HTMLView",
            "style": "IPY_MODEL_8a567e430f8e4eb2adf726aad745e551",
            "_dom_classes": [],
            "description": "",
            "_model_name": "HTMLModel",
            "placeholder": "​",
            "_view_module": "@jupyter-widgets/controls",
            "_model_module_version": "1.5.0",
            "value": " 268M/268M [00:25&lt;00:00, 10.4MB/s]",
            "_view_count": null,
            "_view_module_version": "1.5.0",
            "description_tooltip": null,
            "_model_module": "@jupyter-widgets/controls",
            "layout": "IPY_MODEL_a759aac6b7e74ec7ae4aa6727a19fbd1"
          }
        },
        "eef1484b2b3d4c6da3d44490cbf3ce3c": {
          "model_module": "@jupyter-widgets/controls",
          "model_name": "ProgressStyleModel",
          "state": {
            "_view_name": "StyleView",
            "_model_name": "ProgressStyleModel",
            "description_width": "initial",
            "_view_module": "@jupyter-widgets/base",
            "_model_module_version": "1.5.0",
            "_view_count": null,
            "_view_module_version": "1.2.0",
            "bar_color": null,
            "_model_module": "@jupyter-widgets/controls"
          }
        },
        "c48b8e6917c143f0aaf16c19d8146f7b": {
          "model_module": "@jupyter-widgets/base",
          "model_name": "LayoutModel",
          "state": {
            "_view_name": "LayoutView",
            "grid_template_rows": null,
            "right": null,
            "justify_content": null,
            "_view_module": "@jupyter-widgets/base",
            "overflow": null,
            "_model_module_version": "1.2.0",
            "_view_count": null,
            "flex_flow": null,
            "width": null,
            "min_width": null,
            "border": null,
            "align_items": null,
            "bottom": null,
            "_model_module": "@jupyter-widgets/base",
            "top": null,
            "grid_column": null,
            "overflow_y": null,
            "overflow_x": null,
            "grid_auto_flow": null,
            "grid_area": null,
            "grid_template_columns": null,
            "flex": null,
            "_model_name": "LayoutModel",
            "justify_items": null,
            "grid_row": null,
            "max_height": null,
            "align_content": null,
            "visibility": null,
            "align_self": null,
            "height": null,
            "min_height": null,
            "padding": null,
            "grid_auto_rows": null,
            "grid_gap": null,
            "max_width": null,
            "order": null,
            "_view_module_version": "1.2.0",
            "grid_template_areas": null,
            "object_position": null,
            "object_fit": null,
            "grid_auto_columns": null,
            "margin": null,
            "display": null,
            "left": null
          }
        },
        "8a567e430f8e4eb2adf726aad745e551": {
          "model_module": "@jupyter-widgets/controls",
          "model_name": "DescriptionStyleModel",
          "state": {
            "_view_name": "StyleView",
            "_model_name": "DescriptionStyleModel",
            "description_width": "",
            "_view_module": "@jupyter-widgets/base",
            "_model_module_version": "1.5.0",
            "_view_count": null,
            "_view_module_version": "1.2.0",
            "_model_module": "@jupyter-widgets/controls"
          }
        },
        "a759aac6b7e74ec7ae4aa6727a19fbd1": {
          "model_module": "@jupyter-widgets/base",
          "model_name": "LayoutModel",
          "state": {
            "_view_name": "LayoutView",
            "grid_template_rows": null,
            "right": null,
            "justify_content": null,
            "_view_module": "@jupyter-widgets/base",
            "overflow": null,
            "_model_module_version": "1.2.0",
            "_view_count": null,
            "flex_flow": null,
            "width": null,
            "min_width": null,
            "border": null,
            "align_items": null,
            "bottom": null,
            "_model_module": "@jupyter-widgets/base",
            "top": null,
            "grid_column": null,
            "overflow_y": null,
            "overflow_x": null,
            "grid_auto_flow": null,
            "grid_area": null,
            "grid_template_columns": null,
            "flex": null,
            "_model_name": "LayoutModel",
            "justify_items": null,
            "grid_row": null,
            "max_height": null,
            "align_content": null,
            "visibility": null,
            "align_self": null,
            "height": null,
            "min_height": null,
            "padding": null,
            "grid_auto_rows": null,
            "grid_gap": null,
            "max_width": null,
            "order": null,
            "_view_module_version": "1.2.0",
            "grid_template_areas": null,
            "object_position": null,
            "object_fit": null,
            "grid_auto_columns": null,
            "margin": null,
            "display": null,
            "left": null
          }
        }
      }
    }
  },
  "cells": [
    {
      "cell_type": "markdown",
      "metadata": {
        "id": "view-in-github",
        "colab_type": "text"
      },
      "source": [
        "<a href=\"https://colab.research.google.com/github/joSanchez28/BERT_on_tweets/blob/master/5_Evaluaci%C3%B3n_de_modelos_y_an%C3%A1lisis_de_entrenamientos.ipynb\" target=\"_parent\"><img src=\"https://colab.research.google.com/assets/colab-badge.svg\" alt=\"Open In Colab\"/></a>"
      ]
    },
    {
      "cell_type": "markdown",
      "metadata": {
        "id": "r6Xicws7mqlF",
        "colab_type": "text"
      },
      "source": [
        "# Evaluación de los modelos y análisis de sus entrenamientos.\n",
        "En esta libreta nos disponemos a evaluar los mejores modelos que hemos obtenido en las libretas anteriores y a comparar su eficacia. Además, analizaremos los datos que recopilamos en sus respectivos entrenamientos.\n"
      ]
    },
    {
      "cell_type": "markdown",
      "metadata": {
        "colab_type": "text",
        "id": "SmgDhdn0ULUq"
      },
      "source": [
        "Cargamos en primer lugar los paquetes necesarios."
      ]
    },
    {
      "cell_type": "code",
      "metadata": {
        "id": "DCjp0sp-o3O4",
        "colab_type": "code",
        "colab": {
          "base_uri": "https://localhost:8080/",
          "height": 34
        },
        "outputId": "839b60fe-f9bf-47e2-96e2-5b9286649db8"
      },
      "source": [
        "from google.colab import drive\n",
        "drive.mount('/content/drive')"
      ],
      "execution_count": 1,
      "outputs": [
        {
          "output_type": "stream",
          "text": [
            "Drive already mounted at /content/drive; to attempt to forcibly remount, call drive.mount(\"/content/drive\", force_remount=True).\n"
          ],
          "name": "stdout"
        }
      ]
    },
    {
      "cell_type": "code",
      "metadata": {
        "id": "k-Y7ORwgo6g4",
        "colab_type": "code",
        "colab": {}
      },
      "source": [
        "!cp \"/content/drive/My Drive/Colab Notebooks/lectura_y_preprocesado.py\" ."
      ],
      "execution_count": 0,
      "outputs": []
    },
    {
      "cell_type": "code",
      "metadata": {
        "id": "YDvz9BTxzU1u",
        "colab_type": "code",
        "colab": {
          "base_uri": "https://localhost:8080/",
          "height": 204
        },
        "outputId": "bc01ad58-6926-4707-d4a3-da9c7fcb4c65"
      },
      "source": [
        "!pip install scikit-plot"
      ],
      "execution_count": 3,
      "outputs": [
        {
          "output_type": "stream",
          "text": [
            "Requirement already satisfied: scikit-plot in /usr/local/lib/python3.6/dist-packages (0.3.7)\n",
            "Requirement already satisfied: joblib>=0.10 in /usr/local/lib/python3.6/dist-packages (from scikit-plot) (0.15.1)\n",
            "Requirement already satisfied: scikit-learn>=0.18 in /usr/local/lib/python3.6/dist-packages (from scikit-plot) (0.22.2.post1)\n",
            "Requirement already satisfied: matplotlib>=1.4.0 in /usr/local/lib/python3.6/dist-packages (from scikit-plot) (3.2.1)\n",
            "Requirement already satisfied: scipy>=0.9 in /usr/local/lib/python3.6/dist-packages (from scikit-plot) (1.4.1)\n",
            "Requirement already satisfied: numpy>=1.11.0 in /usr/local/lib/python3.6/dist-packages (from scikit-learn>=0.18->scikit-plot) (1.18.5)\n",
            "Requirement already satisfied: cycler>=0.10 in /usr/local/lib/python3.6/dist-packages (from matplotlib>=1.4.0->scikit-plot) (0.10.0)\n",
            "Requirement already satisfied: kiwisolver>=1.0.1 in /usr/local/lib/python3.6/dist-packages (from matplotlib>=1.4.0->scikit-plot) (1.2.0)\n",
            "Requirement already satisfied: pyparsing!=2.0.4,!=2.1.2,!=2.1.6,>=2.0.1 in /usr/local/lib/python3.6/dist-packages (from matplotlib>=1.4.0->scikit-plot) (2.4.7)\n",
            "Requirement already satisfied: python-dateutil>=2.1 in /usr/local/lib/python3.6/dist-packages (from matplotlib>=1.4.0->scikit-plot) (2.8.1)\n",
            "Requirement already satisfied: six in /usr/local/lib/python3.6/dist-packages (from cycler>=0.10->matplotlib>=1.4.0->scikit-plot) (1.12.0)\n"
          ],
          "name": "stdout"
        }
      ]
    },
    {
      "cell_type": "code",
      "metadata": {
        "id": "86sLhUNHqzDX",
        "colab_type": "code",
        "colab": {
          "base_uri": "https://localhost:8080/",
          "height": 340
        },
        "outputId": "4f08c35d-57c9-43e7-9a02-41754264946f"
      },
      "source": [
        "pip install transformers"
      ],
      "execution_count": 4,
      "outputs": [
        {
          "output_type": "stream",
          "text": [
            "Requirement already satisfied: transformers in /usr/local/lib/python3.6/dist-packages (2.11.0)\n",
            "Requirement already satisfied: filelock in /usr/local/lib/python3.6/dist-packages (from transformers) (3.0.12)\n",
            "Requirement already satisfied: numpy in /usr/local/lib/python3.6/dist-packages (from transformers) (1.18.5)\n",
            "Requirement already satisfied: sacremoses in /usr/local/lib/python3.6/dist-packages (from transformers) (0.0.43)\n",
            "Requirement already satisfied: packaging in /usr/local/lib/python3.6/dist-packages (from transformers) (20.4)\n",
            "Requirement already satisfied: requests in /usr/local/lib/python3.6/dist-packages (from transformers) (2.23.0)\n",
            "Requirement already satisfied: tokenizers==0.7.0 in /usr/local/lib/python3.6/dist-packages (from transformers) (0.7.0)\n",
            "Requirement already satisfied: regex!=2019.12.17 in /usr/local/lib/python3.6/dist-packages (from transformers) (2019.12.20)\n",
            "Requirement already satisfied: sentencepiece in /usr/local/lib/python3.6/dist-packages (from transformers) (0.1.91)\n",
            "Requirement already satisfied: tqdm>=4.27 in /usr/local/lib/python3.6/dist-packages (from transformers) (4.41.1)\n",
            "Requirement already satisfied: dataclasses; python_version < \"3.7\" in /usr/local/lib/python3.6/dist-packages (from transformers) (0.7)\n",
            "Requirement already satisfied: joblib in /usr/local/lib/python3.6/dist-packages (from sacremoses->transformers) (0.15.1)\n",
            "Requirement already satisfied: six in /usr/local/lib/python3.6/dist-packages (from sacremoses->transformers) (1.12.0)\n",
            "Requirement already satisfied: click in /usr/local/lib/python3.6/dist-packages (from sacremoses->transformers) (7.1.2)\n",
            "Requirement already satisfied: pyparsing>=2.0.2 in /usr/local/lib/python3.6/dist-packages (from packaging->transformers) (2.4.7)\n",
            "Requirement already satisfied: idna<3,>=2.5 in /usr/local/lib/python3.6/dist-packages (from requests->transformers) (2.9)\n",
            "Requirement already satisfied: urllib3!=1.25.0,!=1.25.1,<1.26,>=1.21.1 in /usr/local/lib/python3.6/dist-packages (from requests->transformers) (1.24.3)\n",
            "Requirement already satisfied: chardet<4,>=3.0.2 in /usr/local/lib/python3.6/dist-packages (from requests->transformers) (3.0.4)\n",
            "Requirement already satisfied: certifi>=2017.4.17 in /usr/local/lib/python3.6/dist-packages (from requests->transformers) (2020.4.5.1)\n"
          ],
          "name": "stdout"
        }
      ]
    },
    {
      "cell_type": "code",
      "metadata": {
        "colab_type": "code",
        "id": "w8MVBX7hXjjI",
        "colab": {}
      },
      "source": [
        "import os\n",
        "import pandas as pd\n",
        "import re\n",
        "import time\n",
        "import pickle\n",
        "import numpy as np\n",
        "import sklearn\n",
        "import scikitplot as skplt\n",
        "import pickle\n",
        "import seaborn as sns\n",
        "import matplotlib.pyplot as plt\n",
        "\n",
        "import tensorflow as tf\n",
        "#from tensorflow import keras\n",
        "#import tensorflow_datasets\n",
        "from lectura_y_preprocesado import *"
      ],
      "execution_count": 0,
      "outputs": []
    },
    {
      "cell_type": "markdown",
      "metadata": {
        "id": "mMum6SvWmqm7",
        "colab_type": "text"
      },
      "source": [
        "## 1- Carga del modelo BERT y evaluación en los conjuntos de test.\n",
        "\n",
        "En esta sección, cargaremos el modelo BERT ya entrenado en la libreta 2. En concreto cogeremos aquel que mostraba un mayor *accuracy* en el conjunto de validación. Tras cargar el modelo lo evaluaremos en los conjuntos de test que tenemos. Trabajamos con dos conjuntos de test. El primero de ellos es el que conformamos en la libreta 1, y está hecho a partir de tweets etiquetados según los emoticonos que contienen. El segundo de ellos ha sido etiquetado de forma manual (es por ello que es interesante ver la evaluación del modelo en ambos conjuntos)."
      ]
    },
    {
      "cell_type": "markdown",
      "metadata": {
        "colab_type": "text",
        "id": "RjB_tVISYEKY"
      },
      "source": [
        "Intentamos cargar el modelo BERT ya entrenado con tweets.\n"
      ]
    },
    {
      "cell_type": "code",
      "metadata": {
        "colab_type": "code",
        "id": "mOfBg7H4iQAx",
        "colab": {}
      },
      "source": [
        "models_dir = \"/content/drive/My Drive/Modelos_finales/\" #Para ejecutarlo en Google Colab con Google Drive\n",
        "#models_dir = \"../Modelos_finales\" #Para ejecutarlo localmente\n",
        "model_name = \"my_best_model_BERT.02-0.86.h5\"\n",
        "model_path = models_dir + model_name"
      ],
      "execution_count": 0,
      "outputs": []
    },
    {
      "cell_type": "code",
      "metadata": {
        "id": "PqTjNHZemqqq",
        "colab_type": "code",
        "colab": {}
      },
      "source": [
        "model_BERT, tokenizer, config = carga_modelo_BERT(model_path)"
      ],
      "execution_count": 0,
      "outputs": []
    },
    {
      "cell_type": "markdown",
      "metadata": {
        "id": "VekuYQaOmqsx",
        "colab_type": "text"
      },
      "source": [
        "Cargamos los datos del primer conjunto de test y lo preprocesamos como es requerido por nuestro modelo BERT (y como ya hicimos en la libreta 2).\n"
      ]
    },
    {
      "cell_type": "code",
      "metadata": {
        "id": "pPEUimgImqte",
        "colab_type": "code",
        "colab": {}
      },
      "source": [
        "dataset_name = \"test_set.csv\"\n",
        "dataset_path = \"/content/drive/My Drive/Datos/\" + dataset_name\n",
        "#dataset_path = \"../Datos/\" + dataset_name\n",
        "test1_df = pd.read_csv(dataset_path)"
      ],
      "execution_count": 0,
      "outputs": []
    },
    {
      "cell_type": "code",
      "metadata": {
        "id": "fiOVMe3Bmqxy",
        "colab_type": "code",
        "colab": {}
      },
      "source": [
        "test1_df = preprocesa_para_BERT(test1_df)"
      ],
      "execution_count": 0,
      "outputs": []
    },
    {
      "cell_type": "code",
      "metadata": {
        "id": "wTJgu0_Xmqx8",
        "colab_type": "code",
        "outputId": "bd1f13df-644c-4586-e6e5-5a27dc6a78d1",
        "colab": {
          "base_uri": "https://localhost:8080/",
          "height": 173
        }
      },
      "source": [
        "test1_df.head(4)"
      ],
      "execution_count": 10,
      "outputs": [
        {
          "output_type": "execute_result",
          "data": {
            "text/html": [
              "<div>\n",
              "<style scoped>\n",
              "    .dataframe tbody tr th:only-of-type {\n",
              "        vertical-align: middle;\n",
              "    }\n",
              "\n",
              "    .dataframe tbody tr th {\n",
              "        vertical-align: top;\n",
              "    }\n",
              "\n",
              "    .dataframe thead th {\n",
              "        text-align: right;\n",
              "    }\n",
              "</style>\n",
              "<table border=\"1\" class=\"dataframe\">\n",
              "  <thead>\n",
              "    <tr style=\"text-align: right;\">\n",
              "      <th></th>\n",
              "      <th>idx</th>\n",
              "      <th>label</th>\n",
              "      <th>sentence</th>\n",
              "    </tr>\n",
              "  </thead>\n",
              "  <tbody>\n",
              "    <tr>\n",
              "      <th>0</th>\n",
              "      <td>0</td>\n",
              "      <td>0</td>\n",
              "      <td>USER Sorry to hear your mate news my thoughts ...</td>\n",
              "    </tr>\n",
              "    <tr>\n",
              "      <th>1</th>\n",
              "      <td>1</td>\n",
              "      <td>1</td>\n",
              "      <td>USER you can send some of that Purple Turtle G...</td>\n",
              "    </tr>\n",
              "    <tr>\n",
              "      <th>2</th>\n",
              "      <td>2</td>\n",
              "      <td>0</td>\n",
              "      <td>Getting ready for my calc class</td>\n",
              "    </tr>\n",
              "    <tr>\n",
              "      <th>3</th>\n",
              "      <td>3</td>\n",
              "      <td>1</td>\n",
              "      <td>USER Not sure...I'll check it out and let you ...</td>\n",
              "    </tr>\n",
              "  </tbody>\n",
              "</table>\n",
              "</div>"
            ],
            "text/plain": [
              "   idx  label                                           sentence\n",
              "0    0      0  USER Sorry to hear your mate news my thoughts ...\n",
              "1    1      1  USER you can send some of that Purple Turtle G...\n",
              "2    2      0                    Getting ready for my calc class\n",
              "3    3      1  USER Not sure...I'll check it out and let you ..."
            ]
          },
          "metadata": {
            "tags": []
          },
          "execution_count": 10
        }
      ]
    },
    {
      "cell_type": "code",
      "metadata": {
        "id": "MCHandwSmqyJ",
        "colab_type": "code",
        "colab": {}
      },
      "source": [
        "data_test = tf.data.Dataset.from_tensor_slices(test1_df.to_dict('list'))"
      ],
      "execution_count": 0,
      "outputs": []
    },
    {
      "cell_type": "code",
      "metadata": {
        "id": "jEsDNtZOmqyr",
        "colab_type": "code",
        "colab": {}
      },
      "source": [
        "test_dataset = glue_convert_examples_to_features(data_test, tokenizer, max_length=40, task=\"sst-2\") #O:128"
      ],
      "execution_count": 0,
      "outputs": []
    },
    {
      "cell_type": "code",
      "metadata": {
        "id": "MSe-ytYXmqy2",
        "colab_type": "code",
        "colab": {}
      },
      "source": [
        "TEST_BATCH_SIZE = 32 * 2\n",
        "test_dataset = test_dataset.batch(TEST_BATCH_SIZE)"
      ],
      "execution_count": 0,
      "outputs": []
    },
    {
      "cell_type": "markdown",
      "metadata": {
        "id": "WdyjkA86uWRr",
        "colab_type": "text"
      },
      "source": [
        "Y evaluamos el modelo sobre este primer conjunto de test\n"
      ]
    },
    {
      "cell_type": "code",
      "metadata": {
        "id": "qEHueuTUmqzQ",
        "colab_type": "code",
        "outputId": "f7b0830d-3d90-4905-cddf-05fb6e94f89c",
        "colab": {
          "base_uri": "https://localhost:8080/",
          "height": 68
        }
      },
      "source": [
        "loss1_BERT, acc1_BERT = model_BERT.evaluate(test_dataset)#, batch_size=TEST_BATCH_SIZE)\n",
        "print('Test loss:', loss1_BERT)\n",
        "print('Test accuracy:', acc1_BERT)"
      ],
      "execution_count": 15,
      "outputs": [
        {
          "output_type": "stream",
          "text": [
            "2500/2500 [==============================] - 352s 141ms/step - loss: 0.3339 - accuracy: 0.8628\n",
            "Test loss: 0.33390891551971436\n",
            "Test accuracy: 0.8627874851226807\n"
          ],
          "name": "stdout"
        }
      ]
    },
    {
      "cell_type": "markdown",
      "metadata": {
        "id": "aYlmMw9nsDG_",
        "colab_type": "text"
      },
      "source": [
        "Hacemos lo mismo con el segundo conjunto de test (el cual ha sido etiquetado de forma manual y tiene tan solo 359 tweets)."
      ]
    },
    {
      "cell_type": "code",
      "metadata": {
        "id": "b8DnX4qrmq03",
        "colab_type": "code",
        "colab": {}
      },
      "source": [
        "# DATASET DECODING\n",
        "DATASET_COLUMNS = [\"target\", \"ids\", \"date\", \"flag\", \"user\", \"text\"]\n",
        "DATASET_ENCODING = \"ISO-8859-1\"\n",
        "\n",
        "dataset_name = \"testdata.manual.2009.06.14.csv\"\n",
        "dataset_path = \"/content/drive/My Drive/Datos/\" + dataset_name\n",
        "#dataset_path = \"../Datos/\" + dataset_name\n",
        "test2_df = pd.read_csv(dataset_path, encoding =DATASET_ENCODING , names=DATASET_COLUMNS)"
      ],
      "execution_count": 0,
      "outputs": []
    },
    {
      "cell_type": "markdown",
      "metadata": {
        "colab_type": "text",
        "id": "PUhE2DgYtmD0"
      },
      "source": [
        "Nos quedamos solo con los comentarios positivos o negativos (ignoramos los neutros porque estos no los usan en el paper original)."
      ]
    },
    {
      "cell_type": "code",
      "metadata": {
        "colab_type": "code",
        "outputId": "1d186b42-b9d1-43d7-e426-24fbed3daf07",
        "id": "X56RiaWgtmD3",
        "colab": {
          "base_uri": "https://localhost:8080/",
          "height": 68
        }
      },
      "source": [
        "test2_df = test2_df[test2_df[\"target\"]!=2]\n",
        "test2_df[\"target\"].value_counts()"
      ],
      "execution_count": 17,
      "outputs": [
        {
          "output_type": "execute_result",
          "data": {
            "text/plain": [
              "4    182\n",
              "0    177\n",
              "Name: target, dtype: int64"
            ]
          },
          "metadata": {
            "tags": []
          },
          "execution_count": 17
        }
      ]
    },
    {
      "cell_type": "markdown",
      "metadata": {
        "id": "VJAIn9VJt7gK",
        "colab_type": "text"
      },
      "source": [
        "Preprocesamos como es requerido por nuestro modelo BERT (y como ya hicimos en la libreta 2).\n"
      ]
    },
    {
      "cell_type": "code",
      "metadata": {
        "colab_type": "code",
        "id": "yppSCUE7uSVL",
        "colab": {}
      },
      "source": [
        "test2_df = preprocesa_para_BERT(test2_df)"
      ],
      "execution_count": 0,
      "outputs": []
    },
    {
      "cell_type": "code",
      "metadata": {
        "colab_type": "code",
        "outputId": "67089534-4309-40f3-bcee-cd197d54ac7f",
        "id": "Sll7XsVHuSVR",
        "colab": {
          "base_uri": "https://localhost:8080/",
          "height": 173
        }
      },
      "source": [
        "test2_df.head(4)"
      ],
      "execution_count": 19,
      "outputs": [
        {
          "output_type": "execute_result",
          "data": {
            "text/html": [
              "<div>\n",
              "<style scoped>\n",
              "    .dataframe tbody tr th:only-of-type {\n",
              "        vertical-align: middle;\n",
              "    }\n",
              "\n",
              "    .dataframe tbody tr th {\n",
              "        vertical-align: top;\n",
              "    }\n",
              "\n",
              "    .dataframe thead th {\n",
              "        text-align: right;\n",
              "    }\n",
              "</style>\n",
              "<table border=\"1\" class=\"dataframe\">\n",
              "  <thead>\n",
              "    <tr style=\"text-align: right;\">\n",
              "      <th></th>\n",
              "      <th>idx</th>\n",
              "      <th>label</th>\n",
              "      <th>sentence</th>\n",
              "    </tr>\n",
              "  </thead>\n",
              "  <tbody>\n",
              "    <tr>\n",
              "      <th>0</th>\n",
              "      <td>0</td>\n",
              "      <td>1</td>\n",
              "      <td>USER I loooooooovvvvvveee my Kindle2. Not that...</td>\n",
              "    </tr>\n",
              "    <tr>\n",
              "      <th>1</th>\n",
              "      <td>1</td>\n",
              "      <td>1</td>\n",
              "      <td>Reading my kindle2... Love it... Lee childs is...</td>\n",
              "    </tr>\n",
              "    <tr>\n",
              "      <th>2</th>\n",
              "      <td>2</td>\n",
              "      <td>1</td>\n",
              "      <td>Ok, first assesment of the #kindle2 ...it fuck...</td>\n",
              "    </tr>\n",
              "    <tr>\n",
              "      <th>3</th>\n",
              "      <td>3</td>\n",
              "      <td>1</td>\n",
              "      <td>USER You'll love your Kindle2. I've had mine f...</td>\n",
              "    </tr>\n",
              "  </tbody>\n",
              "</table>\n",
              "</div>"
            ],
            "text/plain": [
              "   idx  label                                           sentence\n",
              "0    0      1  USER I loooooooovvvvvveee my Kindle2. Not that...\n",
              "1    1      1  Reading my kindle2... Love it... Lee childs is...\n",
              "2    2      1  Ok, first assesment of the #kindle2 ...it fuck...\n",
              "3    3      1  USER You'll love your Kindle2. I've had mine f..."
            ]
          },
          "metadata": {
            "tags": []
          },
          "execution_count": 19
        }
      ]
    },
    {
      "cell_type": "code",
      "metadata": {
        "colab_type": "code",
        "id": "VI63pM1MuSVU",
        "colab": {}
      },
      "source": [
        "data_test = tf.data.Dataset.from_tensor_slices(test2_df.to_dict('list'))"
      ],
      "execution_count": 0,
      "outputs": []
    },
    {
      "cell_type": "code",
      "metadata": {
        "colab_type": "code",
        "id": "UfhHRHTxuSVY",
        "colab": {}
      },
      "source": [
        "test_dataset = glue_convert_examples_to_features(data_test, tokenizer, max_length=40, task=\"sst-2\") #O:128"
      ],
      "execution_count": 0,
      "outputs": []
    },
    {
      "cell_type": "code",
      "metadata": {
        "colab_type": "code",
        "id": "Xh0s3GezuSVa",
        "colab": {}
      },
      "source": [
        "TEST_BATCH_SIZE = 32 * 2\n",
        "test_dataset = test_dataset.batch(TEST_BATCH_SIZE)"
      ],
      "execution_count": 0,
      "outputs": []
    },
    {
      "cell_type": "markdown",
      "metadata": {
        "id": "ZOIuZgwsue1A",
        "colab_type": "text"
      },
      "source": [
        "Y evaluamos el modelos sobre este segundo conjunto de test 'manual'."
      ]
    },
    {
      "cell_type": "code",
      "metadata": {
        "colab_type": "code",
        "outputId": "72911c84-0bf4-4191-af89-3de45e02bdb9",
        "id": "3U3ibvMKuSVc",
        "colab": {
          "base_uri": "https://localhost:8080/",
          "height": 68
        }
      },
      "source": [
        "loss2_BERT, acc2_BERT = model_BERT.evaluate(test_dataset)\n",
        "print('Test loss:', loss2_BERT)\n",
        "print('Test accuracy:', acc2_BERT)"
      ],
      "execution_count": 23,
      "outputs": [
        {
          "output_type": "stream",
          "text": [
            "6/6 [==============================] - 1s 110ms/step - loss: 0.3622 - accuracy: 0.8524\n",
            "Test loss: 0.36218443512916565\n",
            "Test accuracy: 0.8523676991462708\n"
          ],
          "name": "stdout"
        }
      ]
    },
    {
      "cell_type": "markdown",
      "metadata": {
        "id": "Lpqx1BcTytId",
        "colab_type": "text"
      },
      "source": [
        "#### Matriz de confusión\n",
        "Para poder ver en qué está fallando exactamente nuestro modelo podemos intentar obtener más información a partir de la matriz de confusión, la cual podemos obtener como se muestra a continuación."
      ]
    },
    {
      "cell_type": "code",
      "metadata": {
        "id": "oMMombb4toHe",
        "colab_type": "code",
        "colab": {}
      },
      "source": [
        "pipeline_BERT = TextClassificationPipeline(model = model_BERT, tokenizer = tokenizer, framework= \"tf\")"
      ],
      "execution_count": 0,
      "outputs": []
    },
    {
      "cell_type": "code",
      "metadata": {
        "colab_type": "code",
        "id": "v5Aoaj5HwanF",
        "colab": {}
      },
      "source": [
        "predictions_by_bert = pipeline_BERT(test2_df.sentence.values.tolist())"
      ],
      "execution_count": 0,
      "outputs": []
    },
    {
      "cell_type": "code",
      "metadata": {
        "colab_type": "code",
        "id": "zpfCxik5wanQ",
        "colab": {}
      },
      "source": [
        "predictions_df = pd.DataFrame(predictions_by_bert)"
      ],
      "execution_count": 0,
      "outputs": []
    },
    {
      "cell_type": "code",
      "metadata": {
        "colab_type": "code",
        "outputId": "7dde03d8-b3b9-4335-f863-eff695220527",
        "id": "OMnoT1swwanT",
        "colab": {
          "base_uri": "https://localhost:8080/",
          "height": 68
        }
      },
      "source": [
        "predictions_df.label.value_counts()"
      ],
      "execution_count": 27,
      "outputs": [
        {
          "output_type": "execute_result",
          "data": {
            "text/plain": [
              "LABEL_1    207\n",
              "LABEL_0    152\n",
              "Name: label, dtype: int64"
            ]
          },
          "metadata": {
            "tags": []
          },
          "execution_count": 27
        }
      ]
    },
    {
      "cell_type": "code",
      "metadata": {
        "colab_type": "code",
        "id": "9GE20c3owana",
        "colab": {}
      },
      "source": [
        "decode_map = {\"LABEL_0\": 0, \"LABEL_1\": 1}\n",
        "def decode_sentiment(label):\n",
        "    return decode_map[label]\n",
        "predictions_df.label = predictions_df.label.apply(lambda x: decode_sentiment(x))"
      ],
      "execution_count": 0,
      "outputs": []
    },
    {
      "cell_type": "code",
      "metadata": {
        "colab_type": "code",
        "outputId": "babc6162-b7d2-43af-d1cc-f2045555755a",
        "id": "mvbT9_-Lwanf",
        "colab": {
          "base_uri": "https://localhost:8080/",
          "height": 34
        }
      },
      "source": [
        "sklearn.metrics.accuracy_score(y_true = test2_df.label.values.tolist(), y_pred = predictions_df.label.values.tolist())"
      ],
      "execution_count": 29,
      "outputs": [
        {
          "output_type": "execute_result",
          "data": {
            "text/plain": [
              "0.8523676880222841"
            ]
          },
          "metadata": {
            "tags": []
          },
          "execution_count": 29
        }
      ]
    },
    {
      "cell_type": "code",
      "metadata": {
        "colab_type": "code",
        "outputId": "a76e5a42-e788-4dbe-9ed2-4658774e4ade",
        "id": "5yu1UBF1yRbt",
        "colab": {
          "base_uri": "https://localhost:8080/",
          "height": 51
        }
      },
      "source": [
        "c_matrix=sklearn.metrics.confusion_matrix(y_true = test2_df.label.values.tolist(), y_pred = predictions_df.label.values.tolist())\n",
        "c_matrix"
      ],
      "execution_count": 30,
      "outputs": [
        {
          "output_type": "execute_result",
          "data": {
            "text/plain": [
              "array([[138,  39],\n",
              "       [ 14, 168]])"
            ]
          },
          "metadata": {
            "tags": []
          },
          "execution_count": 30
        }
      ]
    },
    {
      "cell_type": "code",
      "metadata": {
        "colab_type": "code",
        "outputId": "1662a220-42b6-4332-b0fa-522df733b325",
        "id": "VCWyn4XAyRbw",
        "colab": {
          "base_uri": "https://localhost:8080/",
          "height": 34
        }
      },
      "source": [
        "tn, fp, fn, tp = c_matrix.ravel()\n",
        "(tn, fp, fn, tp)"
      ],
      "execution_count": 31,
      "outputs": [
        {
          "output_type": "execute_result",
          "data": {
            "text/plain": [
              "(138, 39, 14, 168)"
            ]
          },
          "metadata": {
            "tags": []
          },
          "execution_count": 31
        }
      ]
    },
    {
      "cell_type": "code",
      "metadata": {
        "colab_type": "code",
        "outputId": "3f0254ca-ae55-406f-eb43-b26365e4bf28",
        "id": "swSaZDyDyRby",
        "colab": {
          "base_uri": "https://localhost:8080/",
          "height": 326
        }
      },
      "source": [
        "def label_to_str(label):\n",
        "    if label == 0:\n",
        "        return \"Negativo\"\n",
        "    else:\n",
        "        return \"Positivo\"\n",
        "y_true = test2_df.label.values.tolist()\n",
        "y_pred = predictions_df.label.values.tolist()\n",
        "y_true = [label_to_str(label) for label in y_true]\n",
        "y_pred = [label_to_str(label) for label in y_pred]\n",
        "skplt.metrics.plot_confusion_matrix(y_true = y_true, y_pred = y_pred, figsize=(5,5))"
      ],
      "execution_count": 32,
      "outputs": [
        {
          "output_type": "execute_result",
          "data": {
            "text/plain": [
              "<matplotlib.axes._subplots.AxesSubplot at 0x7f5fa60b5e48>"
            ]
          },
          "metadata": {
            "tags": []
          },
          "execution_count": 32
        },
        {
          "output_type": "display_data",
          "data": {
            "image/png": "[encoded data removed]",
            "text/plain": [
              "<Figure size 360x360 with 2 Axes>"
            ]
          },
          "metadata": {
            "tags": [],
            "needs_background": "light"
          }
        }
      ]
    },
    {
      "cell_type": "markdown",
      "metadata": {
        "id": "U8CZ1M-Xz3We",
        "colab_type": "text"
      },
      "source": [
        "### ¿Y si no hubieramos hecho fine-tuning con el conjunto de tweets?\n",
        "En este apartado tomamos el modelo de análisis de sentimientos por defecto de HuggingFace preentrenado para clasificación con el dataset ['Stanford Sentiment Treebank'](https://nlp.stanford.edu/sentiment/index.html), el cual está formado por reseñas de películas. Como no ha sido entrenado con tweets, cabría esperar que su *accuracy* sea algo menor que el modelo que hemos preentrenado nosotros."
      ]
    },
    {
      "cell_type": "code",
      "metadata": {
        "id": "kQ66ZB29yNqU",
        "colab_type": "code",
        "colab": {
          "base_uri": "https://localhost:8080/",
          "height": 262,
          "referenced_widgets": [
            "1a3f9dec9f394a278bbb95d403558e83",
            "ed919e4272bb4552a7eea36bc70135a3",
            "c026b1040a4c4017b1fac515b30d06e0",
            "167fe935b6af4140806850767926e6a6",
            "bd2065946d2c4465b805c7fc81dd7048",
            "74db98e2add74ce3a2fe31a544db50a9",
            "8223d5babced49d4b9f50e7153c02d56",
            "2b12c0140e92404c9a7947f3330c210f",
            "75a44271b8b84e5e92220ba591660463",
            "529613c076c747cd9a71848cbc239109",
            "0d9d37b6d48740f4a75d229e9cbda52c",
            "c12f9cddf5444339b89cfaf046a9195e",
            "dd43ea50d9964ec7852228dc433fc276",
            "708d39732b4b406882aeb7a4d7d7e020",
            "51dfacd9f92d49b9aed1075624fa220d",
            "df286dd35dc246a39e70e0d87803c8cf",
            "9715ffe4fae9496b8375f8a302788dd6",
            "b0cf6a7d17924e8e95440b408920423c",
            "f48d81e1134d4c569abe89a3d4276559",
            "f8330b3172f04db28c1c24ec79cbea47",
            "a28682e18e484cab85647afc22d6e1f4",
            "77953d21872d4f9cbb7faf6eed08f6ac",
            "1ad2f701142c4905b040fd4188823114",
            "6c1f97c4ab994222ab65c331d7f51f07",
            "9e3fec2345684a5b885a0394985093b5",
            "345ba011bfd64a96b05eee8138295f7c",
            "62ce397bd46d4d22aecfd0e79926ba0b",
            "bc6b7585dfbf4cafa74d8ed5441a9ad7",
            "14a11dfbac5841d28d8fc71787a6d4cf",
            "6a8c7e327ae44fdaa1932b5ce6125fb3",
            "6945dcdb95b74f4fa61904a25ace8d42",
            "426f52ae11ab4f3381ab188b2b1155f2",
            "f374b348ac4042229eb855ad56b959c0",
            "dbcb07df2b4f4dd58e247b0244d1d88c",
            "92a3505b800a43a78cbf5638d09543f7",
            "84dcc1e3202845c8a55037aac003b6c3",
            "eef1484b2b3d4c6da3d44490cbf3ce3c",
            "c48b8e6917c143f0aaf16c19d8146f7b",
            "8a567e430f8e4eb2adf726aad745e551",
            "a759aac6b7e74ec7ae4aa6727a19fbd1"
          ]
        },
        "outputId": "16a90dcc-4f1d-4d0a-b8fb-6fb03a1a29d1"
      },
      "source": [
        "nlp = pipeline(\"sentiment-analysis\")"
      ],
      "execution_count": 33,
      "outputs": [
        {
          "output_type": "display_data",
          "data": {
            "application/vnd.jupyter.widget-view+json": {
              "model_id": "1a3f9dec9f394a278bbb95d403558e83",
              "version_minor": 0,
              "version_major": 2
            },
            "text/plain": [
              "HBox(children=(FloatProgress(value=0.0, description='Downloading', max=442.0, style=ProgressStyle(description_…"
            ]
          },
          "metadata": {
            "tags": []
          }
        },
        {
          "output_type": "stream",
          "text": [
            "\n"
          ],
          "name": "stdout"
        },
        {
          "output_type": "display_data",
          "data": {
            "application/vnd.jupyter.widget-view+json": {
              "model_id": "75a44271b8b84e5e92220ba591660463",
              "version_minor": 0,
              "version_major": 2
            },
            "text/plain": [
              "HBox(children=(FloatProgress(value=0.0, description='Downloading', max=231508.0, style=ProgressStyle(descripti…"
            ]
          },
          "metadata": {
            "tags": []
          }
        },
        {
          "output_type": "stream",
          "text": [
            "\n"
          ],
          "name": "stdout"
        },
        {
          "output_type": "display_data",
          "data": {
            "application/vnd.jupyter.widget-view+json": {
              "model_id": "9715ffe4fae9496b8375f8a302788dd6",
              "version_minor": 0,
              "version_major": 2
            },
            "text/plain": [
              "HBox(children=(FloatProgress(value=0.0, description='Downloading', max=629.0, style=ProgressStyle(description_…"
            ]
          },
          "metadata": {
            "tags": []
          }
        },
        {
          "output_type": "stream",
          "text": [
            "\n"
          ],
          "name": "stdout"
        },
        {
          "output_type": "display_data",
          "data": {
            "application/vnd.jupyter.widget-view+json": {
              "model_id": "9e3fec2345684a5b885a0394985093b5",
              "version_minor": 0,
              "version_major": 2
            },
            "text/plain": [
              "HBox(children=(FloatProgress(value=0.0, description='Downloading', max=230.0, style=ProgressStyle(description_…"
            ]
          },
          "metadata": {
            "tags": []
          }
        },
        {
          "output_type": "stream",
          "text": [
            "\n"
          ],
          "name": "stdout"
        },
        {
          "output_type": "display_data",
          "data": {
            "application/vnd.jupyter.widget-view+json": {
              "model_id": "f374b348ac4042229eb855ad56b959c0",
              "version_minor": 0,
              "version_major": 2
            },
            "text/plain": [
              "HBox(children=(FloatProgress(value=0.0, description='Downloading', max=267844284.0, style=ProgressStyle(descri…"
            ]
          },
          "metadata": {
            "tags": []
          }
        },
        {
          "output_type": "stream",
          "text": [
            "\n"
          ],
          "name": "stdout"
        }
      ]
    },
    {
      "cell_type": "code",
      "metadata": {
        "colab_type": "code",
        "id": "LPz1WOpB2DdI",
        "colab": {}
      },
      "source": [
        "predictions_by_bert = nlp(test2_df.sentence.values.tolist())"
      ],
      "execution_count": 0,
      "outputs": []
    },
    {
      "cell_type": "code",
      "metadata": {
        "colab_type": "code",
        "id": "qgkFM5sJ2DdQ",
        "colab": {}
      },
      "source": [
        "predictions_df = pd.DataFrame(predictions_by_bert)"
      ],
      "execution_count": 0,
      "outputs": []
    },
    {
      "cell_type": "code",
      "metadata": {
        "colab_type": "code",
        "id": "Ks9iQ-_G2DdX",
        "colab": {}
      },
      "source": [
        "decode_map = {\"NEGATIVE\": 0, \"POSITIVE\": 1}\n",
        "def decode_sentiment(label):\n",
        "    return decode_map[label]\n",
        "predictions_df.label = predictions_df.label.apply(lambda x: decode_sentiment(x))"
      ],
      "execution_count": 0,
      "outputs": []
    },
    {
      "cell_type": "code",
      "metadata": {
        "colab_type": "code",
        "outputId": "0ab77564-9bb3-4f07-db34-abcd81e3bc15",
        "id": "EgbM6tcd2Ddc",
        "colab": {
          "base_uri": "https://localhost:8080/",
          "height": 34
        }
      },
      "source": [
        "sklearn.metrics.accuracy_score(y_true = test2_df.label.values.tolist(), y_pred = predictions_df.label.values.tolist())"
      ],
      "execution_count": 37,
      "outputs": [
        {
          "output_type": "execute_result",
          "data": {
            "text/plain": [
              "0.83008356545961"
            ]
          },
          "metadata": {
            "tags": []
          },
          "execution_count": 37
        }
      ]
    },
    {
      "cell_type": "markdown",
      "metadata": {
        "id": "z3MnRrPd5c8L",
        "colab_type": "text"
      },
      "source": [
        "## 2- Carga del modelo de LSTM básica y evaluación en los conjuntos de test.\n",
        "\n",
        "En esta sección, cargaremos el modelo LSTM ya entrenado en la libreta 3. En concreto cogeremos aquel que mostraba un mayor *accuracy* en el conjunto de validación. Tras cargar el modelo lo evaluaremos en los dos conjuntos de test que tenemos. "
      ]
    },
    {
      "cell_type": "code",
      "metadata": {
        "id": "42Sp7BpOGpZp",
        "colab_type": "code",
        "colab": {}
      },
      "source": [
        "model_name = \"my_best_model_LSTM_Bi.03-0.83.h5\"\n",
        "model_path = models_dir + model_name"
      ],
      "execution_count": 0,
      "outputs": []
    },
    {
      "cell_type": "code",
      "metadata": {
        "id": "438HMc5DyNj-",
        "colab_type": "code",
        "colab": {}
      },
      "source": [
        "model_LSTM_Bi = tf.keras.models.load_model(model_path)"
      ],
      "execution_count": 0,
      "outputs": []
    },
    {
      "cell_type": "code",
      "metadata": {
        "id": "JfX9LmV5L0Mu",
        "colab_type": "code",
        "colab": {}
      },
      "source": [
        "# Cargamos también el tokenizador que usamos durante el entrenamiento\n",
        "with open(models_dir + 'tokenizer_LSTM.pickle', 'rb') as handle:\n",
        "    tokenizer = pickle.load(handle)"
      ],
      "execution_count": 0,
      "outputs": []
    },
    {
      "cell_type": "markdown",
      "metadata": {
        "colab_type": "text",
        "id": "GyqcjhbEHOCB"
      },
      "source": [
        "Cargamos los datos del primer conjunto de test y lo preprocesamos como es requerido por nuestro modelo LSTM (y como ya hicimos en la libreta 3).\n"
      ]
    },
    {
      "cell_type": "code",
      "metadata": {
        "colab_type": "code",
        "id": "TleUCrRwHOCC",
        "colab": {}
      },
      "source": [
        "dataset_name = \"test_set.csv\"\n",
        "dataset_path = \"/content/drive/My Drive/Datos/\" + dataset_name\n",
        "#dataset_path = \"../Datos/\" + dataset_name\n",
        "test1_df = pd.read_csv(dataset_path)"
      ],
      "execution_count": 0,
      "outputs": []
    },
    {
      "cell_type": "code",
      "metadata": {
        "colab_type": "code",
        "id": "csl04oegHOCE",
        "colab": {}
      },
      "source": [
        "x_test1, y_test1 = preprocesa_para_LSTM(test1_df, tokenizer)"
      ],
      "execution_count": 0,
      "outputs": []
    },
    {
      "cell_type": "markdown",
      "metadata": {
        "colab_type": "text",
        "id": "M-ti-g_7HOCO"
      },
      "source": [
        "Y evaluamos el modelo sobre este primer conjunto de test.\n",
        "\n"
      ]
    },
    {
      "cell_type": "code",
      "metadata": {
        "colab_type": "code",
        "outputId": "c9faf5e9-bb65-473e-b440-04ef64864bd7",
        "id": "xzGb6pJsHOCP",
        "colab": {
          "base_uri": "https://localhost:8080/",
          "height": 68
        }
      },
      "source": [
        "loss1_lstm, acc1_lstm = model_LSTM_Bi.evaluate(x_test1, y_test1, batch_size=30)\n",
        "print('Test loss:', loss1_lstm)\n",
        "print('Test accuracy:', acc1_lstm)"
      ],
      "execution_count": 43,
      "outputs": [
        {
          "output_type": "stream",
          "text": [
            "5334/5334 [==============================] - 25s 5ms/step - loss: 0.3737 - accuracy: 0.8339\n",
            "Test loss: 0.373721718788147\n",
            "Test accuracy: 0.8338500261306763\n"
          ],
          "name": "stdout"
        }
      ]
    },
    {
      "cell_type": "markdown",
      "metadata": {
        "colab_type": "text",
        "id": "zsBTgcNxSnqk"
      },
      "source": [
        "Hacemos lo mismo con el segundo conjunto de test (el cual ha sido etiquetado de forma manual y tiene tan solo 359 tweets)."
      ]
    },
    {
      "cell_type": "code",
      "metadata": {
        "colab_type": "code",
        "id": "CShThonTSnqn",
        "colab": {}
      },
      "source": [
        "# DATASET DECODING\n",
        "DATASET_COLUMNS = [\"target\", \"ids\", \"date\", \"flag\", \"user\", \"text\"]\n",
        "DATASET_ENCODING = \"ISO-8859-1\"\n",
        "\n",
        "dataset_name = \"testdata.manual.2009.06.14.csv\"\n",
        "dataset_path = \"/content/drive/My Drive/Datos/\" + dataset_name\n",
        "#dataset_path = \"../Datos/\" + dataset_name\n",
        "test2_df = pd.read_csv(dataset_path, encoding =DATASET_ENCODING , names=DATASET_COLUMNS)"
      ],
      "execution_count": 0,
      "outputs": []
    },
    {
      "cell_type": "markdown",
      "metadata": {
        "colab_type": "text",
        "id": "9vsLbWDoSnqq"
      },
      "source": [
        "Nos quedamos solo con los comentarios positivos o negativos (ignoramos los neutros porque estos no los usan en el paper original)."
      ]
    },
    {
      "cell_type": "code",
      "metadata": {
        "colab_type": "code",
        "outputId": "8182dc0e-0882-40b2-c220-0762cc586f76",
        "id": "-qUpi9LOSnqq",
        "colab": {
          "base_uri": "https://localhost:8080/",
          "height": 68
        }
      },
      "source": [
        "test2_df = test2_df[test2_df[\"target\"]!=2]\n",
        "test2_df[\"target\"].value_counts()"
      ],
      "execution_count": 45,
      "outputs": [
        {
          "output_type": "execute_result",
          "data": {
            "text/plain": [
              "4    182\n",
              "0    177\n",
              "Name: target, dtype: int64"
            ]
          },
          "metadata": {
            "tags": []
          },
          "execution_count": 45
        }
      ]
    },
    {
      "cell_type": "markdown",
      "metadata": {
        "colab_type": "text",
        "id": "OLuR5aR_Snqt"
      },
      "source": [
        "Preprocesamos como es requerido por nuestro modelo LSTM (y como ya hicimos en la libreta 3).\n"
      ]
    },
    {
      "cell_type": "code",
      "metadata": {
        "colab_type": "code",
        "id": "lDLBEmb_Snqt",
        "colab": {}
      },
      "source": [
        "x_test2, y_test2 = preprocesa_para_LSTM(test2_df, tokenizer)"
      ],
      "execution_count": 0,
      "outputs": []
    },
    {
      "cell_type": "markdown",
      "metadata": {
        "colab_type": "text",
        "id": "HOATRBptS_Qp"
      },
      "source": [
        "Y evaluamos el modelo sobre este segundo conjunto de test.\n"
      ]
    },
    {
      "cell_type": "code",
      "metadata": {
        "colab_type": "code",
        "outputId": "b160cad0-10fc-458a-afaa-51023d9798f2",
        "id": "l5e690HYS_Qp",
        "colab": {
          "base_uri": "https://localhost:8080/",
          "height": 68
        }
      },
      "source": [
        "loss2_lstm, acc2_lstm = model_LSTM_Bi.evaluate(x_test2, y_test2, batch_size=30)\n",
        "print('Test loss:', loss2_lstm)\n",
        "print('Test accuracy:', acc2_lstm)"
      ],
      "execution_count": 47,
      "outputs": [
        {
          "output_type": "stream",
          "text": [
            "12/12 [==============================] - 0s 5ms/step - loss: 0.3755 - accuracy: 0.8329\n",
            "Test loss: 0.3755266070365906\n",
            "Test accuracy: 0.8328690528869629\n"
          ],
          "name": "stdout"
        }
      ]
    },
    {
      "cell_type": "markdown",
      "metadata": {
        "id": "pPporfUvTxus",
        "colab_type": "text"
      },
      "source": [
        "#### Matriz de confusion"
      ]
    },
    {
      "cell_type": "code",
      "metadata": {
        "id": "jtYUsM3iHNXS",
        "colab_type": "code",
        "colab": {}
      },
      "source": [
        "def prediction_to_label(prediction):\n",
        "  if prediction < 0.5:\n",
        "    return 0\n",
        "  else:\n",
        "    return 1"
      ],
      "execution_count": 0,
      "outputs": []
    },
    {
      "cell_type": "code",
      "metadata": {
        "id": "8MmzRw0yHNUK",
        "colab_type": "code",
        "colab": {}
      },
      "source": [
        "predictions = model_LSTM_Bi.predict(x_test2)\n",
        "predicted_labels = [prediction_to_label(prediction[0]) for prediction in predictions]"
      ],
      "execution_count": 0,
      "outputs": []
    },
    {
      "cell_type": "code",
      "metadata": {
        "colab_type": "code",
        "outputId": "2156e2dc-fa5a-4295-d4af-aca81c6a1996",
        "id": "i9pt-J6tUVNv",
        "colab": {
          "base_uri": "https://localhost:8080/",
          "height": 34
        }
      },
      "source": [
        "sklearn.metrics.accuracy_score(y_true = test2_df.target.values.tolist(), y_pred = predicted_labels)"
      ],
      "execution_count": 50,
      "outputs": [
        {
          "output_type": "execute_result",
          "data": {
            "text/plain": [
              "0.8328690807799443"
            ]
          },
          "metadata": {
            "tags": []
          },
          "execution_count": 50
        }
      ]
    },
    {
      "cell_type": "code",
      "metadata": {
        "colab_type": "code",
        "outputId": "88179588-1afe-47e3-fcb3-ce5f9d651311",
        "id": "0cDmNLTMUVNz",
        "colab": {
          "base_uri": "https://localhost:8080/",
          "height": 51
        }
      },
      "source": [
        "c_matrix=sklearn.metrics.confusion_matrix(y_true = test2_df.target.values.tolist(), y_pred = predicted_labels)\n",
        "c_matrix"
      ],
      "execution_count": 51,
      "outputs": [
        {
          "output_type": "execute_result",
          "data": {
            "text/plain": [
              "array([[140,  37],\n",
              "       [ 23, 159]])"
            ]
          },
          "metadata": {
            "tags": []
          },
          "execution_count": 51
        }
      ]
    },
    {
      "cell_type": "code",
      "metadata": {
        "colab_type": "code",
        "outputId": "7b4626a9-6421-497c-f319-5dcec2cadef6",
        "id": "5XmAtakiUVN1",
        "colab": {
          "base_uri": "https://localhost:8080/",
          "height": 34
        }
      },
      "source": [
        "tn, fp, fn, tp = c_matrix.ravel()\n",
        "(tn, fp, fn, tp)"
      ],
      "execution_count": 52,
      "outputs": [
        {
          "output_type": "execute_result",
          "data": {
            "text/plain": [
              "(140, 37, 23, 159)"
            ]
          },
          "metadata": {
            "tags": []
          },
          "execution_count": 52
        }
      ]
    },
    {
      "cell_type": "code",
      "metadata": {
        "colab_type": "code",
        "outputId": "71693b04-6fc7-4193-d591-40c515774f10",
        "id": "7rUjZXfZUVN4",
        "colab": {
          "base_uri": "https://localhost:8080/",
          "height": 326
        }
      },
      "source": [
        "def label_to_str(label):\n",
        "    if label == 0:\n",
        "        return \"Negativo\"\n",
        "    else:\n",
        "        return \"Positivo\"\n",
        "y_true = test2_df.target.values.tolist()\n",
        "y_pred = predicted_labels\n",
        "y_true = [label_to_str(label) for label in y_true]\n",
        "y_pred = [label_to_str(label) for label in y_pred]\n",
        "skplt.metrics.plot_confusion_matrix(y_true = y_true, y_pred = y_pred, figsize=(5,5))"
      ],
      "execution_count": 53,
      "outputs": [
        {
          "output_type": "execute_result",
          "data": {
            "text/plain": [
              "<matplotlib.axes._subplots.AxesSubplot at 0x7f5f3a23cc18>"
            ]
          },
          "metadata": {
            "tags": []
          },
          "execution_count": 53
        },
        {
          "output_type": "display_data",
          "data": {
            "image/png": "[encoded data removed]",
            "text/plain": [
              "<Figure size 360x360 with 2 Axes>"
            ]
          },
          "metadata": {
            "tags": [],
            "needs_background": "light"
          }
        }
      ]
    },
    {
      "cell_type": "markdown",
      "metadata": {
        "colab_type": "text",
        "id": "hh3gke0FnScj"
      },
      "source": [
        "## 3- Carga del modelo de LSTM con Word Embeddings y evaluación en los conjuntos de test.\n",
        "\n",
        "En esta sección, cargaremos el modelo LSTM entrenado en la libreta 4 (el cual hace uso de Word Embeddings preentrenados). En concreto cogeremos aquel que mostraba un mayor *accuracy* en el conjunto de validación. Tras cargar el modelo lo evaluaremos en los dos conjuntos de test que tenemos. "
      ]
    },
    {
      "cell_type": "code",
      "metadata": {
        "colab_type": "code",
        "id": "aZLpOBycnScq",
        "colab": {}
      },
      "source": [
        "model_name = \"my_best_model_LSTM_Bi_WE.09-0.83.h5\"\n",
        "model_path = models_dir + model_name"
      ],
      "execution_count": 0,
      "outputs": []
    },
    {
      "cell_type": "code",
      "metadata": {
        "colab_type": "code",
        "id": "uBN5934znScu",
        "colab": {}
      },
      "source": [
        "model_LSTM_Bi_WE = tf.keras.models.load_model(model_path)"
      ],
      "execution_count": 0,
      "outputs": []
    },
    {
      "cell_type": "markdown",
      "metadata": {
        "id": "licoFOz7uFps",
        "colab_type": "text"
      },
      "source": [
        "Y evaluamos el modelo sobre este primer conjunto de test."
      ]
    },
    {
      "cell_type": "code",
      "metadata": {
        "id": "g6F7Oi_KHNNW",
        "colab_type": "code",
        "colab": {
          "base_uri": "https://localhost:8080/",
          "height": 68
        },
        "outputId": "336209b2-5984-4e3c-f380-4f16c574ada6"
      },
      "source": [
        "loss1_lstm_we, acc1_lstm_we = model_LSTM_Bi_WE.evaluate(x_test1, y_test1, batch_size=30)\n",
        "print('Test loss:', loss1_lstm_we)\n",
        "print('Test accuracy:', acc1_lstm_we)"
      ],
      "execution_count": 56,
      "outputs": [
        {
          "output_type": "stream",
          "text": [
            "5334/5334 [==============================] - 26s 5ms/step - loss: 0.3746 - accuracy: 0.8326\n",
            "Test loss: 0.37458401918411255\n",
            "Test accuracy: 0.8325625061988831\n"
          ],
          "name": "stdout"
        }
      ]
    },
    {
      "cell_type": "markdown",
      "metadata": {
        "colab_type": "text",
        "id": "ofO4IVgguWn0"
      },
      "source": [
        "Y evaluamos el modelo sobre este segundo conjunto de test.\n"
      ]
    },
    {
      "cell_type": "code",
      "metadata": {
        "colab_type": "code",
        "outputId": "b93b760f-78ba-40e2-df8f-601896a8bd6b",
        "id": "UPllL6Y0uWn1",
        "colab": {
          "base_uri": "https://localhost:8080/",
          "height": 68
        }
      },
      "source": [
        "loss2_lstm_we, acc2_lstm_we = model_LSTM_Bi_WE.evaluate(x_test2, y_test2, batch_size=30)\n",
        "print('Test loss:', loss2_lstm_we)\n",
        "print('Test accuracy:', acc2_lstm_we)"
      ],
      "execution_count": 57,
      "outputs": [
        {
          "output_type": "stream",
          "text": [
            "12/12 [==============================] - 0s 4ms/step - loss: 0.3668 - accuracy: 0.8440\n",
            "Test loss: 0.3667968213558197\n",
            "Test accuracy: 0.844011127948761\n"
          ],
          "name": "stdout"
        }
      ]
    },
    {
      "cell_type": "markdown",
      "metadata": {
        "colab_type": "text",
        "id": "M3iJ2X8Gu6ri"
      },
      "source": [
        "#### Matriz de confusion"
      ]
    },
    {
      "cell_type": "code",
      "metadata": {
        "colab_type": "code",
        "id": "vNdNXePRu6rl",
        "colab": {}
      },
      "source": [
        "predictions = model_LSTM_Bi_WE.predict(x_test2)\n",
        "predicted_labels = [prediction_to_label(prediction[0]) for prediction in predictions]"
      ],
      "execution_count": 0,
      "outputs": []
    },
    {
      "cell_type": "code",
      "metadata": {
        "colab_type": "code",
        "outputId": "ac9e220e-d813-4e16-c92e-7d0b9eafc383",
        "id": "69bxjjbVu6rn",
        "colab": {
          "base_uri": "https://localhost:8080/",
          "height": 34
        }
      },
      "source": [
        "sklearn.metrics.accuracy_score(y_true = test2_df.target.values.tolist(), y_pred = predicted_labels)"
      ],
      "execution_count": 59,
      "outputs": [
        {
          "output_type": "execute_result",
          "data": {
            "text/plain": [
              "0.8440111420612814"
            ]
          },
          "metadata": {
            "tags": []
          },
          "execution_count": 59
        }
      ]
    },
    {
      "cell_type": "code",
      "metadata": {
        "colab_type": "code",
        "outputId": "64767b59-139d-4cb9-c8a1-557bc09dd9c5",
        "id": "Qp1HhURju6rw",
        "colab": {
          "base_uri": "https://localhost:8080/",
          "height": 51
        }
      },
      "source": [
        "c_matrix=sklearn.metrics.confusion_matrix(y_true = test2_df.target.values.tolist(), y_pred = predicted_labels)\n",
        "c_matrix"
      ],
      "execution_count": 60,
      "outputs": [
        {
          "output_type": "execute_result",
          "data": {
            "text/plain": [
              "array([[143,  34],\n",
              "       [ 22, 160]])"
            ]
          },
          "metadata": {
            "tags": []
          },
          "execution_count": 60
        }
      ]
    },
    {
      "cell_type": "code",
      "metadata": {
        "colab_type": "code",
        "outputId": "9a770ffe-be4d-4efd-a4f7-0052d2273d6a",
        "id": "fGn9thw4u6ry",
        "colab": {
          "base_uri": "https://localhost:8080/",
          "height": 34
        }
      },
      "source": [
        "tn, fp, fn, tp = c_matrix.ravel()\n",
        "(tn, fp, fn, tp)"
      ],
      "execution_count": 61,
      "outputs": [
        {
          "output_type": "execute_result",
          "data": {
            "text/plain": [
              "(143, 34, 22, 160)"
            ]
          },
          "metadata": {
            "tags": []
          },
          "execution_count": 61
        }
      ]
    },
    {
      "cell_type": "code",
      "metadata": {
        "colab_type": "code",
        "outputId": "c1294f62-da49-48a9-ad3c-e90c4fcaa457",
        "id": "vSdfKuXPu6r0",
        "colab": {
          "base_uri": "https://localhost:8080/",
          "height": 330
        }
      },
      "source": [
        "def label_to_str(label):\n",
        "    if label == 0:\n",
        "        return \"Negativo\"\n",
        "    else:\n",
        "        return \"Positivo\"\n",
        "y_true = test2_df.target.values.tolist()\n",
        "y_pred = predicted_labels\n",
        "y_true = [label_to_str(label) for label in y_true]\n",
        "y_pred = [label_to_str(label) for label in y_pred]\n",
        "skplt.metrics.plot_confusion_matrix(y_true = y_true, y_pred = y_pred, figsize=(5,5))"
      ],
      "execution_count": 62,
      "outputs": [
        {
          "output_type": "execute_result",
          "data": {
            "text/plain": [
              "<matplotlib.axes._subplots.AxesSubplot at 0x7f5f0eea1e80>"
            ]
          },
          "metadata": {
            "tags": []
          },
          "execution_count": 62
        },
        {
          "output_type": "display_data",
          "data": {
            "image/png": "[encoded data removed]",
            "text/plain": [
              "<Figure size 360x360 with 2 Axes>"
            ]
          },
          "metadata": {
            "tags": [],
            "needs_background": "light"
          }
        }
      ]
    },
    {
      "cell_type": "markdown",
      "metadata": {
        "id": "M31TT7gax6nm",
        "colab_type": "text"
      },
      "source": [
        "## 4- Comparación del *accuracy* de los distintos modelos en los conjuntos test.\n",
        "\n",
        "En esta sección hacemos dos gráficos de barras en los que mostramos el *accuracy* de los modelos en los dos conjuntos de test."
      ]
    },
    {
      "cell_type": "code",
      "metadata": {
        "id": "TP_Kcu1Y0l_S",
        "colab_type": "code",
        "colab": {
          "base_uri": "https://localhost:8080/",
          "height": 266
        },
        "outputId": "8d7166e8-0312-443e-b89b-d306cfc4aa7a"
      },
      "source": [
        "accuracy_test1 = [acc1_BERT, acc1_lstm, acc1_lstm_we]\n",
        "accuracy_test2 = [acc2_BERT, acc2_lstm, acc2_lstm_we]\n",
        "index = ['BERT', 'LSTM_Bi', 'LSTM_Bi_WE']\n",
        "df = pd.DataFrame({'Accuracy en test1': accuracy_test1, 'Accuracy en test2': accuracy_test2}, index=index)\n",
        "ax = df.plot.bar(rot=0).legend(loc='lower left')#,bbox_to_anchor=(1.0, 0.5))"
      ],
      "execution_count": 74,
      "outputs": [
        {
          "output_type": "display_data",
          "data": {
            "image/png": "[encoded data removed]",
            "text/plain": [
              "<Figure size 432x288 with 1 Axes>"
            ]
          },
          "metadata": {
            "tags": [],
            "needs_background": "light"
          }
        }
      ]
    },
    {
      "cell_type": "markdown",
      "metadata": {
        "id": "ytP6g_Pr21O7",
        "colab_type": "text"
      },
      "source": [
        "Si restringimos el eje y (el *accuracy*) a $(0.8, 0.9)$ veremos mejor las diferencias.\n",
        "\n"
      ]
    },
    {
      "cell_type": "code",
      "metadata": {
        "id": "p-TV66k52gn1",
        "colab_type": "code",
        "colab": {
          "base_uri": "https://localhost:8080/",
          "height": 287
        },
        "outputId": "21ebf31c-1d57-46c5-b4d1-5a347f41ddac"
      },
      "source": [
        "ax = df.plot.bar(rot=0).legend(loc='upper right')\n",
        "plt.ylim(0.8, 0.9)"
      ],
      "execution_count": 78,
      "outputs": [
        {
          "output_type": "execute_result",
          "data": {
            "text/plain": [
              "(0.8, 0.9)"
            ]
          },
          "metadata": {
            "tags": []
          },
          "execution_count": 78
        },
        {
          "output_type": "display_data",
          "data": {
            "image/png": "[encoded data removed]",
            "text/plain": [
              "<Figure size 432x288 with 1 Axes>"
            ]
          },
          "metadata": {
            "tags": [],
            "needs_background": "light"
          }
        }
      ]
    },
    {
      "cell_type": "markdown",
      "metadata": {
        "id": "JeciYz-Q3MpC",
        "colab_type": "text"
      },
      "source": [
        "También los podemos representar por separado (los dos conjuntos de entrenamiento).\n"
      ]
    },
    {
      "cell_type": "code",
      "metadata": {
        "id": "4JLPmYlA0yDJ",
        "colab_type": "code",
        "colab": {
          "base_uri": "https://localhost:8080/",
          "height": 299
        },
        "outputId": "9ab30b5f-b5ae-452a-abdd-d47bd8027ced"
      },
      "source": [
        "axes = df.plot.bar(rot=0, subplots=True)\n",
        "axes[0].legend(loc='lower right') \n",
        "axes[1].legend(loc='lower right')  "
      ],
      "execution_count": 87,
      "outputs": [
        {
          "output_type": "execute_result",
          "data": {
            "text/plain": [
              "<matplotlib.legend.Legend at 0x7f5f0db892e8>"
            ]
          },
          "metadata": {
            "tags": []
          },
          "execution_count": 87
        },
        {
          "output_type": "display_data",
          "data": {
            "image/png": "[encoded data removed]",
            "text/plain": [
              "<Figure size 432x288 with 2 Axes>"
            ]
          },
          "metadata": {
            "tags": [],
            "needs_background": "light"
          }
        }
      ]
    },
    {
      "cell_type": "markdown",
      "metadata": {
        "id": "HgG3w-kG3tMc",
        "colab_type": "text"
      },
      "source": [
        "## 5- Análisis de los datos recopilados durante los entrenamientos.\n",
        "\n",
        "En esta sección analizaremos el historico de datos que recopilamos durante el entrenamiento de cada uno de los modelos."
      ]
    },
    {
      "cell_type": "markdown",
      "metadata": {
        "id": "ujvyi5xY5IZB",
        "colab_type": "text"
      },
      "source": [
        "### 5.1- Entrenamiento de BERT\n",
        "\n",
        "Cargamos en primer lugar el histórico de datos recopilados durante el entrenamiento de BERT."
      ]
    },
    {
      "cell_type": "code",
      "metadata": {
        "id": "RT0rl6Z2vIdv",
        "colab_type": "code",
        "colab": {}
      },
      "source": [
        "history_dir = \"/content/drive/My Drive/datos_de_entrenamientos/\"\n",
        "history_path = history_dir + \"history_with_times_BERT.json\"\n",
        "history_BERT = pd.read_json(path_or_buf=history_path)"
      ],
      "execution_count": 0,
      "outputs": []
    },
    {
      "cell_type": "code",
      "metadata": {
        "id": "shOlPMeevIN4",
        "colab_type": "code",
        "colab": {
          "base_uri": "https://localhost:8080/",
          "height": 235
        },
        "outputId": "36b43933-30f0-4124-f945-02fb034fc39a"
      },
      "source": [
        "history_BERT"
      ],
      "execution_count": 89,
      "outputs": [
        {
          "output_type": "execute_result",
          "data": {
            "text/html": [
              "<div>\n",
              "<style scoped>\n",
              "    .dataframe tbody tr th:only-of-type {\n",
              "        vertical-align: middle;\n",
              "    }\n",
              "\n",
              "    .dataframe tbody tr th {\n",
              "        vertical-align: top;\n",
              "    }\n",
              "\n",
              "    .dataframe thead th {\n",
              "        text-align: right;\n",
              "    }\n",
              "</style>\n",
              "<table border=\"1\" class=\"dataframe\">\n",
              "  <thead>\n",
              "    <tr style=\"text-align: right;\">\n",
              "      <th></th>\n",
              "      <th>loss</th>\n",
              "      <th>accuracy</th>\n",
              "      <th>val_loss</th>\n",
              "      <th>val_accuracy</th>\n",
              "      <th>times</th>\n",
              "    </tr>\n",
              "  </thead>\n",
              "  <tbody>\n",
              "    <tr>\n",
              "      <th>0</th>\n",
              "      <td>0.345548</td>\n",
              "      <td>0.848331</td>\n",
              "      <td>0.323767</td>\n",
              "      <td>0.861344</td>\n",
              "      <td>7729.534623</td>\n",
              "    </tr>\n",
              "    <tr>\n",
              "      <th>1</th>\n",
              "      <td>0.290168</td>\n",
              "      <td>0.876339</td>\n",
              "      <td>0.332546</td>\n",
              "      <td>0.862075</td>\n",
              "      <td>7713.080625</td>\n",
              "    </tr>\n",
              "    <tr>\n",
              "      <th>2</th>\n",
              "      <td>0.249771</td>\n",
              "      <td>0.896404</td>\n",
              "      <td>0.356749</td>\n",
              "      <td>0.859175</td>\n",
              "      <td>7665.665296</td>\n",
              "    </tr>\n",
              "    <tr>\n",
              "      <th>3</th>\n",
              "      <td>0.216663</td>\n",
              "      <td>0.911868</td>\n",
              "      <td>0.388973</td>\n",
              "      <td>0.857944</td>\n",
              "      <td>7668.061312</td>\n",
              "    </tr>\n",
              "    <tr>\n",
              "      <th>4</th>\n",
              "      <td>0.189929</td>\n",
              "      <td>0.923989</td>\n",
              "      <td>0.422314</td>\n",
              "      <td>0.855456</td>\n",
              "      <td>7684.038738</td>\n",
              "    </tr>\n",
              "    <tr>\n",
              "      <th>5</th>\n",
              "      <td>0.169763</td>\n",
              "      <td>0.932598</td>\n",
              "      <td>0.466934</td>\n",
              "      <td>0.850569</td>\n",
              "      <td>7699.367078</td>\n",
              "    </tr>\n",
              "  </tbody>\n",
              "</table>\n",
              "</div>"
            ],
            "text/plain": [
              "       loss  accuracy  val_loss  val_accuracy        times\n",
              "0  0.345548  0.848331  0.323767      0.861344  7729.534623\n",
              "1  0.290168  0.876339  0.332546      0.862075  7713.080625\n",
              "2  0.249771  0.896404  0.356749      0.859175  7665.665296\n",
              "3  0.216663  0.911868  0.388973      0.857944  7668.061312\n",
              "4  0.189929  0.923989  0.422314      0.855456  7684.038738\n",
              "5  0.169763  0.932598  0.466934      0.850569  7699.367078"
            ]
          },
          "metadata": {
            "tags": []
          },
          "execution_count": 89
        }
      ]
    },
    {
      "cell_type": "code",
      "metadata": {
        "id": "vk0LqYrGnVaw",
        "colab_type": "code",
        "colab": {
          "base_uri": "https://localhost:8080/",
          "height": 295
        },
        "outputId": "6bcae80f-ed1b-413a-e882-f0b7d6ed5477"
      },
      "source": [
        "plt.plot(history_BERT['accuracy'])\n",
        "plt.plot(history_BERT['val_accuracy'])\n",
        "plt.title('Accuracy de BERT durante el entrenamiento')\n",
        "plt.ylabel('Accuracy')\n",
        "plt.xlabel('Epoch')\n",
        "plt.legend(['train', 'val'], loc='upper left')\n",
        "plt.show()"
      ],
      "execution_count": 91,
      "outputs": [
        {
          "output_type": "display_data",
          "data": {
            "image/png": "[encoded data removed]",
            "text/plain": [
              "<Figure size 432x288 with 1 Axes>"
            ]
          },
          "metadata": {
            "tags": [],
            "needs_background": "light"
          }
        }
      ]
    },
    {
      "cell_type": "code",
      "metadata": {
        "id": "T_df0uUq88P7",
        "colab_type": "code",
        "colab": {
          "base_uri": "https://localhost:8080/",
          "height": 295
        },
        "outputId": "c1ef0577-170d-412a-dce6-0b92fc0d2735"
      },
      "source": [
        "plt.plot(history_BERT['loss'])\n",
        "plt.plot(history_BERT['val_loss'])\n",
        "plt.title('Función de coste de BERT durante el entrenamiento')\n",
        "plt.ylabel('Función de coste')\n",
        "plt.xlabel('Epoch')\n",
        "plt.legend(['train', 'val'], loc='upper left')\n",
        "plt.show()"
      ],
      "execution_count": 92,
      "outputs": [
        {
          "output_type": "display_data",
          "data": {
            "image/png": "[encoded data removed]",
            "text/plain": [
              "<Figure size 432x288 with 1 Axes>"
            ]
          },
          "metadata": {
            "tags": [],
            "needs_background": "light"
          }
        }
      ]
    },
    {
      "cell_type": "markdown",
      "metadata": {
        "id": "0cuVFnl_-3KO",
        "colab_type": "text"
      },
      "source": [
        "Creamos una función para representar las dos graficas al lado."
      ]
    },
    {
      "cell_type": "code",
      "metadata": {
        "id": "CTPIpnpV-2R0",
        "colab_type": "code",
        "colab": {}
      },
      "source": [
        "def plot_train_val_data(history):\n",
        "  fig, (ax1, ax2) = plt.subplots(1, 2, figsize=(15,5))\n",
        "  ax1.plot(history['accuracy'])\n",
        "  ax1.plot(history['val_accuracy'])\n",
        "  ax1.set_title('Accuracy de BERT durante el entrenamiento')\n",
        "  ax1.set_ylabel('Accuracy')\n",
        "  ax1.set_xlabel('Epoch')\n",
        "  ax1.legend(['train', 'val'], loc='upper left')\n",
        "\n",
        "  ax2.plot(history['loss'])\n",
        "  ax2.plot(history['val_loss'])\n",
        "  ax2.set_title('Función de coste de BERT durante el entrenamiento')\n",
        "  ax2.set_ylabel('Función de coste')\n",
        "  ax2.set_xlabel('Epoch')\n",
        "  ax2.legend(['train', 'val'], loc='upper left')\n",
        "  #plt.show()"
      ],
      "execution_count": 0,
      "outputs": []
    },
    {
      "cell_type": "code",
      "metadata": {
        "id": "nm6hoQCN_OHa",
        "colab_type": "code",
        "colab": {
          "base_uri": "https://localhost:8080/",
          "height": 350
        },
        "outputId": "1a9e2b0c-142d-45dd-9666-89335dbf188d"
      },
      "source": [
        "plot_train_val_data(history_BERT)"
      ],
      "execution_count": 103,
      "outputs": [
        {
          "output_type": "display_data",
          "data": {
            "image/png": "[encoded data removed]",
            "text/plain": [
              "<Figure size 1080x360 with 2 Axes>"
            ]
          },
          "metadata": {
            "tags": [],
            "needs_background": "light"
          }
        }
      ]
    },
    {
      "cell_type": "markdown",
      "metadata": {
        "id": "ls6sD-WK_WdV",
        "colab_type": "text"
      },
      "source": [
        "Respecto a los tiempos que ha tardado en ejecutarse cada época, podemos hacer su media y su desviación típica, así como representarlos en un gráfico de barras."
      ]
    },
    {
      "cell_type": "code",
      "metadata": {
        "id": "KQYc-EWJ-C44",
        "colab_type": "code",
        "colab": {
          "base_uri": "https://localhost:8080/",
          "height": 34
        },
        "outputId": "db1c2ea7-16b1-45f9-d0f7-ffe99a2ab5b6"
      },
      "source": [
        "history_BERT['times'].mean()"
      ],
      "execution_count": 104,
      "outputs": [
        {
          "output_type": "execute_result",
          "data": {
            "text/plain": [
              "7693.291278719899"
            ]
          },
          "metadata": {
            "tags": []
          },
          "execution_count": 104
        }
      ]
    },
    {
      "cell_type": "code",
      "metadata": {
        "id": "uPUhKzET_4hf",
        "colab_type": "code",
        "colab": {
          "base_uri": "https://localhost:8080/",
          "height": 34
        },
        "outputId": "e052551b-ad25-4c4f-8973-aa859254f764"
      },
      "source": [
        "history_BERT['times'].std()"
      ],
      "execution_count": 107,
      "outputs": [
        {
          "output_type": "execute_result",
          "data": {
            "text/plain": [
              "25.40657075034842"
            ]
          },
          "metadata": {
            "tags": []
          },
          "execution_count": 107
        }
      ]
    },
    {
      "cell_type": "code",
      "metadata": {
        "id": "gBCLIQ-0_8tu",
        "colab_type": "code",
        "colab": {
          "base_uri": "https://localhost:8080/",
          "height": 350
        },
        "outputId": "f2966eaf-97cb-467a-f799-1678bb0fba6a"
      },
      "source": [
        "history_BERT['times'].plot.barh(figsize = (10,5), xlim=(7000, 8000))\n",
        "plt.title('Tiempos en segundos de las distintas épocas del entrenamiento de BERT')\n",
        "plt.ylabel('Epoch')\n",
        "plt.xlabel('Tiempo (segundos)')\n",
        "plt.axvline(x=history_BERT['times'].mean() , c='r')\n",
        "plt.legend(['Media de los tiempos (seg)','Tiempos (seg)'], loc='upper right')\n",
        "plt.show()"
      ],
      "execution_count": 172,
      "outputs": [
        {
          "output_type": "display_data",
          "data": {
            "image/png": "[encoded data removed]",
            "text/plain": [
              "<Figure size 720x360 with 1 Axes>"
            ]
          },
          "metadata": {
            "tags": [],
            "needs_background": "light"
          }
        }
      ]
    },
    {
      "cell_type": "markdown",
      "metadata": {
        "colab_type": "text",
        "id": "NIktMx2EBoOt"
      },
      "source": [
        "### 5.2- Entrenamiento de la LSTM bidireccional básica\n",
        "\n",
        "Cargamos en primer lugar el histórico de datos recopilados durante el entrenamiento de esta red neuronal."
      ]
    },
    {
      "cell_type": "code",
      "metadata": {
        "colab_type": "code",
        "id": "CQVvr01YBoO0",
        "colab": {}
      },
      "source": [
        "history_path = history_dir + \"history_LSTM_Bi_with_times.csv\"\n",
        "history_LSTM = pd.read_csv(history_path, index_col=0)"
      ],
      "execution_count": 0,
      "outputs": []
    },
    {
      "cell_type": "code",
      "metadata": {
        "colab_type": "code",
        "outputId": "35003636-c34a-4175-9f23-ee64e0a07eb6",
        "id": "hTuJ4EENBoO7",
        "colab": {
          "base_uri": "https://localhost:8080/",
          "height": 297
        }
      },
      "source": [
        "history_LSTM"
      ],
      "execution_count": 136,
      "outputs": [
        {
          "output_type": "execute_result",
          "data": {
            "text/html": [
              "<div>\n",
              "<style scoped>\n",
              "    .dataframe tbody tr th:only-of-type {\n",
              "        vertical-align: middle;\n",
              "    }\n",
              "\n",
              "    .dataframe tbody tr th {\n",
              "        vertical-align: top;\n",
              "    }\n",
              "\n",
              "    .dataframe thead th {\n",
              "        text-align: right;\n",
              "    }\n",
              "</style>\n",
              "<table border=\"1\" class=\"dataframe\">\n",
              "  <thead>\n",
              "    <tr style=\"text-align: right;\">\n",
              "      <th></th>\n",
              "      <th>loss</th>\n",
              "      <th>accuracy</th>\n",
              "      <th>val_loss</th>\n",
              "      <th>val_accuracy</th>\n",
              "      <th>times</th>\n",
              "    </tr>\n",
              "  </thead>\n",
              "  <tbody>\n",
              "    <tr>\n",
              "      <th>0</th>\n",
              "      <td>0.406861</td>\n",
              "      <td>0.814927</td>\n",
              "      <td>0.378229</td>\n",
              "      <td>0.829800</td>\n",
              "      <td>1577.612016</td>\n",
              "    </tr>\n",
              "    <tr>\n",
              "      <th>1</th>\n",
              "      <td>0.361261</td>\n",
              "      <td>0.840847</td>\n",
              "      <td>0.371101</td>\n",
              "      <td>0.834638</td>\n",
              "      <td>1560.110505</td>\n",
              "    </tr>\n",
              "    <tr>\n",
              "      <th>2</th>\n",
              "      <td>0.337109</td>\n",
              "      <td>0.853740</td>\n",
              "      <td>0.376348</td>\n",
              "      <td>0.831100</td>\n",
              "      <td>1555.884030</td>\n",
              "    </tr>\n",
              "    <tr>\n",
              "      <th>3</th>\n",
              "      <td>0.316792</td>\n",
              "      <td>0.863922</td>\n",
              "      <td>0.382415</td>\n",
              "      <td>0.831975</td>\n",
              "      <td>1543.289702</td>\n",
              "    </tr>\n",
              "    <tr>\n",
              "      <th>4</th>\n",
              "      <td>0.299333</td>\n",
              "      <td>0.872939</td>\n",
              "      <td>0.388498</td>\n",
              "      <td>0.829550</td>\n",
              "      <td>1542.700771</td>\n",
              "    </tr>\n",
              "    <tr>\n",
              "      <th>5</th>\n",
              "      <td>0.283780</td>\n",
              "      <td>0.880177</td>\n",
              "      <td>0.399679</td>\n",
              "      <td>0.828150</td>\n",
              "      <td>1546.004563</td>\n",
              "    </tr>\n",
              "    <tr>\n",
              "      <th>6</th>\n",
              "      <td>0.270821</td>\n",
              "      <td>0.886291</td>\n",
              "      <td>0.415312</td>\n",
              "      <td>0.825262</td>\n",
              "      <td>1557.356287</td>\n",
              "    </tr>\n",
              "    <tr>\n",
              "      <th>7</th>\n",
              "      <td>0.260113</td>\n",
              "      <td>0.891230</td>\n",
              "      <td>0.418778</td>\n",
              "      <td>0.823706</td>\n",
              "      <td>1564.616673</td>\n",
              "    </tr>\n",
              "  </tbody>\n",
              "</table>\n",
              "</div>"
            ],
            "text/plain": [
              "       loss  accuracy  val_loss  val_accuracy        times\n",
              "0  0.406861  0.814927  0.378229      0.829800  1577.612016\n",
              "1  0.361261  0.840847  0.371101      0.834638  1560.110505\n",
              "2  0.337109  0.853740  0.376348      0.831100  1555.884030\n",
              "3  0.316792  0.863922  0.382415      0.831975  1543.289702\n",
              "4  0.299333  0.872939  0.388498      0.829550  1542.700771\n",
              "5  0.283780  0.880177  0.399679      0.828150  1546.004563\n",
              "6  0.270821  0.886291  0.415312      0.825262  1557.356287\n",
              "7  0.260113  0.891230  0.418778      0.823706  1564.616673"
            ]
          },
          "metadata": {
            "tags": []
          },
          "execution_count": 136
        }
      ]
    },
    {
      "cell_type": "markdown",
      "metadata": {
        "colab_type": "text",
        "id": "oW6W-B9SBoPG"
      },
      "source": [
        "Creamos una función para representar las dos graficas al lado."
      ]
    },
    {
      "cell_type": "code",
      "metadata": {
        "colab_type": "code",
        "outputId": "9ce6cdf2-6e49-4a68-ad16-ed624d4696b8",
        "id": "_WEe7Ni4BoPK",
        "colab": {
          "base_uri": "https://localhost:8080/",
          "height": 350
        }
      },
      "source": [
        "plot_train_val_data(history_LSTM)"
      ],
      "execution_count": 137,
      "outputs": [
        {
          "output_type": "display_data",
          "data": {
            "image/png": "[encoded data removed]",
            "text/plain": [
              "<Figure size 1080x360 with 2 Axes>"
            ]
          },
          "metadata": {
            "tags": [],
            "needs_background": "light"
          }
        }
      ]
    },
    {
      "cell_type": "markdown",
      "metadata": {
        "colab_type": "text",
        "id": "J5_C0goIBoPM"
      },
      "source": [
        "Respecto a los tiempos que ha tardado en ejecutarse cada época, podemos hacer su media y su desviación típica, así como representarlos en un gráfico de barras."
      ]
    },
    {
      "cell_type": "code",
      "metadata": {
        "colab_type": "code",
        "outputId": "0a378354-e86c-445e-f5f2-8c1c6de5aaa8",
        "id": "NO5B7oQ0BoPN",
        "colab": {
          "base_uri": "https://localhost:8080/",
          "height": 34
        }
      },
      "source": [
        "history_LSTM['times'].mean()"
      ],
      "execution_count": 138,
      "outputs": [
        {
          "output_type": "execute_result",
          "data": {
            "text/plain": [
              "1555.946818381548"
            ]
          },
          "metadata": {
            "tags": []
          },
          "execution_count": 138
        }
      ]
    },
    {
      "cell_type": "code",
      "metadata": {
        "colab_type": "code",
        "outputId": "8bd9e8a6-4665-4d80-dde2-b522a61b8bae",
        "id": "WVh0TplaBoPP",
        "colab": {
          "base_uri": "https://localhost:8080/",
          "height": 34
        }
      },
      "source": [
        "history_LSTM['times'].std()"
      ],
      "execution_count": 139,
      "outputs": [
        {
          "output_type": "execute_result",
          "data": {
            "text/plain": [
              "11.942617545241632"
            ]
          },
          "metadata": {
            "tags": []
          },
          "execution_count": 139
        }
      ]
    },
    {
      "cell_type": "code",
      "metadata": {
        "colab_type": "code",
        "outputId": "aa5b1545-5706-44b8-c336-ca07c479f08a",
        "id": "qDc82-V7BoPR",
        "colab": {
          "base_uri": "https://localhost:8080/",
          "height": 350
        }
      },
      "source": [
        "history_LSTM['times'].plot.barh(figsize = (7,5), xlim=(1500, 1600))\n",
        "plt.title('Tiempos en segundos de las distintas épocas del entrenamiento de BERT')\n",
        "plt.ylabel('Epoch')\n",
        "plt.xlabel('Tiempo (segundos)')\n",
        "plt.axvline(x=history_LSTM['times'].mean(), c='r')\n",
        "plt.legend(['Media de los tiempos (seg)','Tiempos (seg)'], loc='upper right')\n",
        "plt.show()"
      ],
      "execution_count": 174,
      "outputs": [
        {
          "output_type": "display_data",
          "data": {
            "image/png": "[encoded data removed]",
            "text/plain": [
              "<Figure size 504x360 with 1 Axes>"
            ]
          },
          "metadata": {
            "tags": [],
            "needs_background": "light"
          }
        }
      ]
    },
    {
      "cell_type": "markdown",
      "metadata": {
        "colab_type": "text",
        "id": "QcmsyuApEZOj"
      },
      "source": [
        "### 5.3- Entrenamiento de la LSTM bidireccional con Word Embeddings preentrenados.\n",
        "\n",
        "Cargamos en primer lugar el histórico de datos recopilados durante el entrenamiento de esta red neuronal."
      ]
    },
    {
      "cell_type": "code",
      "metadata": {
        "colab_type": "code",
        "id": "9JcWC3QhEZOl",
        "colab": {}
      },
      "source": [
        "history_path = history_dir + \"history_LSTM_Bi_WE_with_times.csv\"\n",
        "history_LSTM_WE = pd.read_csv(history_path, index_col=0)"
      ],
      "execution_count": 0,
      "outputs": []
    },
    {
      "cell_type": "code",
      "metadata": {
        "colab_type": "code",
        "outputId": "48437176-eee7-4644-b0c1-08a5ffcd8011",
        "id": "B4SC4ECEEZOo",
        "colab": {
          "base_uri": "https://localhost:8080/",
          "height": 669
        }
      },
      "source": [
        "history_LSTM_WE"
      ],
      "execution_count": 148,
      "outputs": [
        {
          "output_type": "execute_result",
          "data": {
            "text/html": [
              "<div>\n",
              "<style scoped>\n",
              "    .dataframe tbody tr th:only-of-type {\n",
              "        vertical-align: middle;\n",
              "    }\n",
              "\n",
              "    .dataframe tbody tr th {\n",
              "        vertical-align: top;\n",
              "    }\n",
              "\n",
              "    .dataframe thead th {\n",
              "        text-align: right;\n",
              "    }\n",
              "</style>\n",
              "<table border=\"1\" class=\"dataframe\">\n",
              "  <thead>\n",
              "    <tr style=\"text-align: right;\">\n",
              "      <th></th>\n",
              "      <th>loss</th>\n",
              "      <th>accuracy</th>\n",
              "      <th>val_loss</th>\n",
              "      <th>val_accuracy</th>\n",
              "      <th>times</th>\n",
              "    </tr>\n",
              "  </thead>\n",
              "  <tbody>\n",
              "    <tr>\n",
              "      <th>0</th>\n",
              "      <td>0.419442</td>\n",
              "      <td>0.806927</td>\n",
              "      <td>0.390838</td>\n",
              "      <td>0.823500</td>\n",
              "      <td>381.385000</td>\n",
              "    </tr>\n",
              "    <tr>\n",
              "      <th>1</th>\n",
              "      <td>0.384470</td>\n",
              "      <td>0.826697</td>\n",
              "      <td>0.378699</td>\n",
              "      <td>0.829356</td>\n",
              "      <td>373.171792</td>\n",
              "    </tr>\n",
              "    <tr>\n",
              "      <th>2</th>\n",
              "      <td>0.372340</td>\n",
              "      <td>0.833673</td>\n",
              "      <td>0.375309</td>\n",
              "      <td>0.832025</td>\n",
              "      <td>373.383518</td>\n",
              "    </tr>\n",
              "    <tr>\n",
              "      <th>3</th>\n",
              "      <td>0.364484</td>\n",
              "      <td>0.837668</td>\n",
              "      <td>0.377391</td>\n",
              "      <td>0.830387</td>\n",
              "      <td>364.366945</td>\n",
              "    </tr>\n",
              "    <tr>\n",
              "      <th>4</th>\n",
              "      <td>0.359072</td>\n",
              "      <td>0.840523</td>\n",
              "      <td>0.375273</td>\n",
              "      <td>0.832050</td>\n",
              "      <td>370.713228</td>\n",
              "    </tr>\n",
              "    <tr>\n",
              "      <th>5</th>\n",
              "      <td>0.354643</td>\n",
              "      <td>0.842912</td>\n",
              "      <td>0.373484</td>\n",
              "      <td>0.832969</td>\n",
              "      <td>369.809293</td>\n",
              "    </tr>\n",
              "    <tr>\n",
              "      <th>6</th>\n",
              "      <td>0.351082</td>\n",
              "      <td>0.844605</td>\n",
              "      <td>0.374886</td>\n",
              "      <td>0.831569</td>\n",
              "      <td>366.309370</td>\n",
              "    </tr>\n",
              "    <tr>\n",
              "      <th>7</th>\n",
              "      <td>0.348174</td>\n",
              "      <td>0.846277</td>\n",
              "      <td>0.375204</td>\n",
              "      <td>0.831519</td>\n",
              "      <td>366.945832</td>\n",
              "    </tr>\n",
              "    <tr>\n",
              "      <th>8</th>\n",
              "      <td>0.345734</td>\n",
              "      <td>0.847591</td>\n",
              "      <td>0.374238</td>\n",
              "      <td>0.833569</td>\n",
              "      <td>371.344284</td>\n",
              "    </tr>\n",
              "    <tr>\n",
              "      <th>9</th>\n",
              "      <td>0.343779</td>\n",
              "      <td>0.848465</td>\n",
              "      <td>0.375380</td>\n",
              "      <td>0.831438</td>\n",
              "      <td>368.507139</td>\n",
              "    </tr>\n",
              "    <tr>\n",
              "      <th>10</th>\n",
              "      <td>0.341985</td>\n",
              "      <td>0.849409</td>\n",
              "      <td>0.376178</td>\n",
              "      <td>0.832469</td>\n",
              "      <td>365.534838</td>\n",
              "    </tr>\n",
              "    <tr>\n",
              "      <th>11</th>\n",
              "      <td>0.340214</td>\n",
              "      <td>0.850366</td>\n",
              "      <td>0.380158</td>\n",
              "      <td>0.830125</td>\n",
              "      <td>363.397851</td>\n",
              "    </tr>\n",
              "    <tr>\n",
              "      <th>12</th>\n",
              "      <td>0.339023</td>\n",
              "      <td>0.850794</td>\n",
              "      <td>0.378117</td>\n",
              "      <td>0.832044</td>\n",
              "      <td>360.415643</td>\n",
              "    </tr>\n",
              "    <tr>\n",
              "      <th>13</th>\n",
              "      <td>0.337572</td>\n",
              "      <td>0.851567</td>\n",
              "      <td>0.378420</td>\n",
              "      <td>0.830850</td>\n",
              "      <td>359.443330</td>\n",
              "    </tr>\n",
              "    <tr>\n",
              "      <th>14</th>\n",
              "      <td>0.336794</td>\n",
              "      <td>0.852010</td>\n",
              "      <td>0.379940</td>\n",
              "      <td>0.831513</td>\n",
              "      <td>359.280849</td>\n",
              "    </tr>\n",
              "    <tr>\n",
              "      <th>15</th>\n",
              "      <td>0.336006</td>\n",
              "      <td>0.852387</td>\n",
              "      <td>0.387219</td>\n",
              "      <td>0.826600</td>\n",
              "      <td>356.675998</td>\n",
              "    </tr>\n",
              "    <tr>\n",
              "      <th>16</th>\n",
              "      <td>0.335194</td>\n",
              "      <td>0.852750</td>\n",
              "      <td>0.380994</td>\n",
              "      <td>0.831600</td>\n",
              "      <td>356.391341</td>\n",
              "    </tr>\n",
              "    <tr>\n",
              "      <th>17</th>\n",
              "      <td>0.334568</td>\n",
              "      <td>0.853302</td>\n",
              "      <td>0.385223</td>\n",
              "      <td>0.829775</td>\n",
              "      <td>357.431051</td>\n",
              "    </tr>\n",
              "    <tr>\n",
              "      <th>18</th>\n",
              "      <td>0.334403</td>\n",
              "      <td>0.853348</td>\n",
              "      <td>0.384575</td>\n",
              "      <td>0.829794</td>\n",
              "      <td>363.167590</td>\n",
              "    </tr>\n",
              "    <tr>\n",
              "      <th>19</th>\n",
              "      <td>0.333578</td>\n",
              "      <td>0.853788</td>\n",
              "      <td>0.379793</td>\n",
              "      <td>0.830262</td>\n",
              "      <td>366.870707</td>\n",
              "    </tr>\n",
              "  </tbody>\n",
              "</table>\n",
              "</div>"
            ],
            "text/plain": [
              "        loss  accuracy  val_loss  val_accuracy       times\n",
              "0   0.419442  0.806927  0.390838      0.823500  381.385000\n",
              "1   0.384470  0.826697  0.378699      0.829356  373.171792\n",
              "2   0.372340  0.833673  0.375309      0.832025  373.383518\n",
              "3   0.364484  0.837668  0.377391      0.830387  364.366945\n",
              "4   0.359072  0.840523  0.375273      0.832050  370.713228\n",
              "5   0.354643  0.842912  0.373484      0.832969  369.809293\n",
              "6   0.351082  0.844605  0.374886      0.831569  366.309370\n",
              "7   0.348174  0.846277  0.375204      0.831519  366.945832\n",
              "8   0.345734  0.847591  0.374238      0.833569  371.344284\n",
              "9   0.343779  0.848465  0.375380      0.831438  368.507139\n",
              "10  0.341985  0.849409  0.376178      0.832469  365.534838\n",
              "11  0.340214  0.850366  0.380158      0.830125  363.397851\n",
              "12  0.339023  0.850794  0.378117      0.832044  360.415643\n",
              "13  0.337572  0.851567  0.378420      0.830850  359.443330\n",
              "14  0.336794  0.852010  0.379940      0.831513  359.280849\n",
              "15  0.336006  0.852387  0.387219      0.826600  356.675998\n",
              "16  0.335194  0.852750  0.380994      0.831600  356.391341\n",
              "17  0.334568  0.853302  0.385223      0.829775  357.431051\n",
              "18  0.334403  0.853348  0.384575      0.829794  363.167590\n",
              "19  0.333578  0.853788  0.379793      0.830262  366.870707"
            ]
          },
          "metadata": {
            "tags": []
          },
          "execution_count": 148
        }
      ]
    },
    {
      "cell_type": "markdown",
      "metadata": {
        "colab_type": "text",
        "id": "DX1bDytVEZOq"
      },
      "source": [
        "Creamos una función para representar las dos graficas al lado."
      ]
    },
    {
      "cell_type": "code",
      "metadata": {
        "colab_type": "code",
        "outputId": "c098ca98-3629-46ac-ec55-6a8c4cde9ca3",
        "id": "iPZlj3FPEZOr",
        "colab": {
          "base_uri": "https://localhost:8080/",
          "height": 350
        }
      },
      "source": [
        "plot_train_val_data(history_LSTM_WE)"
      ],
      "execution_count": 149,
      "outputs": [
        {
          "output_type": "display_data",
          "data": {
            "image/png": "[encoded data removed]",
            "text/plain": [
              "<Figure size 1080x360 with 2 Axes>"
            ]
          },
          "metadata": {
            "tags": [],
            "needs_background": "light"
          }
        }
      ]
    },
    {
      "cell_type": "markdown",
      "metadata": {
        "colab_type": "text",
        "id": "qaNvEeXPEZOt"
      },
      "source": [
        "Respecto a los tiempos que ha tardado en ejecutarse cada época, podemos hacer su media y su desviación típica, así como representarlos en un gráfico de barras."
      ]
    },
    {
      "cell_type": "code",
      "metadata": {
        "colab_type": "code",
        "outputId": "62c94731-c14d-4660-cb24-e27edc9c6c68",
        "id": "7NxbV_FVEZOt",
        "colab": {
          "base_uri": "https://localhost:8080/",
          "height": 34
        }
      },
      "source": [
        "history_LSTM_WE['times'].mean()"
      ],
      "execution_count": 153,
      "outputs": [
        {
          "output_type": "execute_result",
          "data": {
            "text/plain": [
              "365.7272800207138"
            ]
          },
          "metadata": {
            "tags": []
          },
          "execution_count": 153
        }
      ]
    },
    {
      "cell_type": "code",
      "metadata": {
        "colab_type": "code",
        "outputId": "d0c0d425-854e-4e9d-dfc5-c7062a995e12",
        "id": "Jl1JCj4uEZOv",
        "colab": {
          "base_uri": "https://localhost:8080/",
          "height": 34
        }
      },
      "source": [
        "history_LSTM_WE['times'].std()"
      ],
      "execution_count": 154,
      "outputs": [
        {
          "output_type": "execute_result",
          "data": {
            "text/plain": [
              "6.505752834413273"
            ]
          },
          "metadata": {
            "tags": []
          },
          "execution_count": 154
        }
      ]
    },
    {
      "cell_type": "code",
      "metadata": {
        "id": "4z12ONmuGJmd",
        "colab_type": "code",
        "colab": {
          "base_uri": "https://localhost:8080/",
          "height": 34
        },
        "outputId": "c972a9fb-1f2a-487f-e9e9-d8437230a322"
      },
      "source": [
        "round(history_LSTM_WE['times'].mean(), 3)"
      ],
      "execution_count": 161,
      "outputs": [
        {
          "output_type": "execute_result",
          "data": {
            "text/plain": [
              "365.727"
            ]
          },
          "metadata": {
            "tags": []
          },
          "execution_count": 161
        }
      ]
    },
    {
      "cell_type": "code",
      "metadata": {
        "colab_type": "code",
        "outputId": "d7db02be-6d25-44f0-ace8-7a86044c9c6d",
        "id": "l3gJSrd0EZOx",
        "colab": {
          "base_uri": "https://localhost:8080/",
          "height": 350
        }
      },
      "source": [
        "history_LSTM_WE['times'].plot.barh(figsize = (7,5), xlim=(300, 400))\n",
        "plt.title('Tiempos en segundos de las distintas épocas del entrenamiento de BERT')\n",
        "plt.ylabel('Epoch')\n",
        "plt.xlabel('Tiempo (segundos)')\n",
        "plt.axvline(x=history_LSTM_WE['times'].mean(), c='r')\n",
        "plt.legend(['Media de los tiempos (seg)','Tiempos (seg)'], loc='upper right')\n",
        "plt.show()"
      ],
      "execution_count": 175,
      "outputs": [
        {
          "output_type": "display_data",
          "data": {
            "image/png": "[encoded data removed]",
            "text/plain": [
              "<Figure size 504x360 with 1 Axes>"
            ]
          },
          "metadata": {
            "tags": [],
            "needs_background": "light"
          }
        }
      ]
    },
    {
      "cell_type": "markdown",
      "metadata": {
        "id": "I7Zujb7dIOj6",
        "colab_type": "text"
      },
      "source": [
        "## 5.4- Comparación del *accuracy* y tiempos de entrenamiento por época de entrenamiento.\n",
        "\n",
        "En esta sección comparamos los datos recopilados en los entrenamientos de los distintos modelos con el objetivo de hacernos una idea de cuáles son más rápidos de entrenar y cuando empieza a sobreajustar cada modelo."
      ]
    },
    {
      "cell_type": "markdown",
      "metadata": {
        "id": "5q9jrmuFJkT9",
        "colab_type": "text"
      },
      "source": [
        "En primer lugar podemos representar el accuracy y la función de coste durante el entrenamiento de todos los modelos."
      ]
    },
    {
      "cell_type": "code",
      "metadata": {
        "id": "O3hM1VisFame",
        "colab_type": "code",
        "colab": {}
      },
      "source": [
        "def plot_train_val_data(histories, model_names):\n",
        "  legend_names = []\n",
        "  for name in model_names:\n",
        "    legend_names.append('train' + name)\n",
        "    legend_names.append('val' + name)\n",
        "  fig, (ax1, ax2) = plt.subplots(1, 2, figsize=(15,5))\n",
        "  for history in histories:\n",
        "    ax1.plot(history['accuracy'])\n",
        "    ax1.plot(history['val_accuracy'])\n",
        "  ax1.set_title('Accuracy de los modelos durante el entrenamiento')\n",
        "  ax1.set_ylabel('Accuracy')\n",
        "  ax1.set_xlabel('Epoch')\n",
        "  ax1.legend(legend_names, loc='upper left')\n",
        "\n",
        "  for history in histories:\n",
        "    ax2.plot(history['loss'])\n",
        "    ax2.plot(history['val_loss'])\n",
        "  ax2.set_title('Función de coste de los modelos durante el entrenamiento')\n",
        "  ax2.set_ylabel('Función de coste')\n",
        "  ax2.set_xlabel('Epoch')\n",
        "  ax2.legend(legend_names, loc='upper left')"
      ],
      "execution_count": 0,
      "outputs": []
    },
    {
      "cell_type": "code",
      "metadata": {
        "id": "3TCqkjsCKQUw",
        "colab_type": "code",
        "colab": {
          "base_uri": "https://localhost:8080/",
          "height": 350
        },
        "outputId": "40da1072-067b-430f-c179-0f4624e51003"
      },
      "source": [
        "plot_train_val_data([history_BERT, history_LSTM, history_LSTM_WE.iloc[0:12]], model_names =[\"BERT\", \"LSTM\", \"LSTM_WE\"])"
      ],
      "execution_count": 186,
      "outputs": [
        {
          "output_type": "display_data",
          "data": {
            "image/png": "[encoded data removed]",
            "text/plain": [
              "<Figure size 1080x360 with 2 Axes>"
            ]
          },
          "metadata": {
            "tags": [],
            "needs_background": "light"
          }
        }
      ]
    },
    {
      "cell_type": "markdown",
      "metadata": {
        "id": "dgIrZdVFM6sB",
        "colab_type": "text"
      },
      "source": [
        "Podemos representar también el *accuracy* en un gráfico de barras."
      ]
    },
    {
      "cell_type": "code",
      "metadata": {
        "id": "SPIVU_9BOQvw",
        "colab_type": "code",
        "colab": {}
      },
      "source": [
        "accuracy_BERT = list(history_BERT.val_accuracy.values) + [0]*14\n",
        "accuracy_LSTM = list(history_LSTM.val_accuracy.values) + [0] * 12\n",
        "accuracy_LSTM_WE = list(history_LSTM_WE.val_accuracy.values)"
      ],
      "execution_count": 0,
      "outputs": []
    },
    {
      "cell_type": "code",
      "metadata": {
        "id": "MDk_TeYcKVzH",
        "colab_type": "code",
        "colab": {
          "base_uri": "https://localhost:8080/",
          "height": 320
        },
        "outputId": "e8f856d6-6d03-4fe5-ce8b-5e4511414b71"
      },
      "source": [
        "index = [\"Epoch \" + str(i) for i in range(20)]\n",
        "df = pd.DataFrame({'val_accuracy de BERT': accuracy_BERT, 'val_accuracy de LSTM': accuracy_LSTM, 'val_accuracy de LSTM_WE': accuracy_LSTM_WE}, index=index)\n",
        "ax = df.plot.bar(rot=0, figsize=(18,5)).legend(loc='lower left')"
      ],
      "execution_count": 204,
      "outputs": [
        {
          "output_type": "display_data",
          "data": {
            "image/png": "[encoded data removed]",
            "text/plain": [
              "<Figure size 1296x360 with 1 Axes>"
            ]
          },
          "metadata": {
            "tags": [],
            "needs_background": "light"
          }
        }
      ]
    },
    {
      "cell_type": "code",
      "metadata": {
        "id": "sX9XtoVFNdyA",
        "colab_type": "code",
        "colab": {
          "base_uri": "https://localhost:8080/",
          "height": 324
        },
        "outputId": "0ed5417b-a891-4794-f3e2-6175daaa3ef9"
      },
      "source": [
        "ax = df.plot.bar(rot=0, figsize=(18,5), ylim= (0.75,0.9)).legend(loc='lower left')"
      ],
      "execution_count": 205,
      "outputs": [
        {
          "output_type": "display_data",
          "data": {
            "image/png": "[encoded data removed]",
            "text/plain": [
              "<Figure size 1296x360 with 1 Axes>"
            ]
          },
          "metadata": {
            "tags": [],
            "needs_background": "light"
          }
        }
      ]
    },
    {
      "cell_type": "code",
      "metadata": {
        "id": "6__I3Tb6OmO-",
        "colab_type": "code",
        "colab": {
          "base_uri": "https://localhost:8080/",
          "height": 324
        },
        "outputId": "07913f60-aac3-4f3b-87fc-c477b4afe746"
      },
      "source": [
        "loss_BERT = list(history_BERT.val_loss.values) + [0]*14\n",
        "loss_LSTM = list(history_LSTM.val_loss.values) + [0] * 12\n",
        "loss_LSTM_WE = list(history_LSTM_WE.val_loss.values)\n",
        "df = pd.DataFrame({'val_loss de BERT': loss_BERT, 'val_loss de LSTM': loss_LSTM, 'val_loss de LSTM_WE': loss_LSTM_WE}, index=index)\n",
        "ax = df.plot.bar(rot=0, figsize=(18,5), ylim= (0.2,0.5)).legend(loc='lower left')"
      ],
      "execution_count": 207,
      "outputs": [
        {
          "output_type": "display_data",
          "data": {
            "image/png": "[encoded data removed]",
            "text/plain": [
              "<Figure size 1296x360 with 1 Axes>"
            ]
          },
          "metadata": {
            "tags": [],
            "needs_background": "light"
          }
        }
      ]
    },
    {
      "cell_type": "markdown",
      "metadata": {
        "id": "Um6WnlglZs-b",
        "colab_type": "text"
      },
      "source": [
        "Finalmente, podemos representar graficamente los tiempos para hacernos una idea real de la diferencia en los tiempos de entrenamiento de los distintos modelos."
      ]
    },
    {
      "cell_type": "code",
      "metadata": {
        "id": "iCW7cDEnZY9u",
        "colab_type": "code",
        "colab": {
          "base_uri": "https://localhost:8080/",
          "height": 320
        },
        "outputId": "4bdf1f9d-1769-4ae8-ce09-e66a4dc7cf0e"
      },
      "source": [
        "times_BERT = list(history_BERT.times.values) + [0]*14\n",
        "times_LSTM = list(history_LSTM.times.values) + [0] * 12\n",
        "times_LSTM_WE = list(history_LSTM_WE.times.values)\n",
        "df = pd.DataFrame({'times de BERT': times_BERT, 'times de LSTM': times_LSTM, 'times de LSTM_WE': times_LSTM_WE}, index=index)\n",
        "ax = df.plot.bar(rot=0, figsize=(18,5)).legend(loc='lower left')"
      ],
      "execution_count": 210,
      "outputs": [
        {
          "output_type": "display_data",
          "data": {
            "image/png": "[encoded data removed]",
            "text/plain": [
              "<Figure size 1296x360 with 1 Axes>"
            ]
          },
          "metadata": {
            "tags": [],
            "needs_background": "light"
          }
        }
      ]
    },
    {
      "cell_type": "code",
      "metadata": {
        "id": "sK_gaGIjaKcd",
        "colab_type": "code",
        "colab": {
          "base_uri": "https://localhost:8080/",
          "height": 34
        },
        "outputId": "dca6df06-06e3-40c6-958d-292d88108168"
      },
      "source": [
        "sum(times_BERT)"
      ],
      "execution_count": 211,
      "outputs": [
        {
          "output_type": "execute_result",
          "data": {
            "text/plain": [
              "46159.7476723194"
            ]
          },
          "metadata": {
            "tags": []
          },
          "execution_count": 211
        }
      ]
    },
    {
      "cell_type": "code",
      "metadata": {
        "id": "CBgkvDIraZKR",
        "colab_type": "code",
        "colab": {
          "base_uri": "https://localhost:8080/",
          "height": 34
        },
        "outputId": "59fa5959-61be-4f70-b3e1-9c9f8413dd5b"
      },
      "source": [
        "sum(times_LSTM)"
      ],
      "execution_count": 212,
      "outputs": [
        {
          "output_type": "execute_result",
          "data": {
            "text/plain": [
              "12447.574547052383"
            ]
          },
          "metadata": {
            "tags": []
          },
          "execution_count": 212
        }
      ]
    },
    {
      "cell_type": "code",
      "metadata": {
        "id": "K_xNQQD3abNI",
        "colab_type": "code",
        "colab": {
          "base_uri": "https://localhost:8080/",
          "height": 34
        },
        "outputId": "e9baccb9-00fe-4970-fc1f-3b845229a8e0"
      },
      "source": [
        "sum(times_LSTM_WE)"
      ],
      "execution_count": 213,
      "outputs": [
        {
          "output_type": "execute_result",
          "data": {
            "text/plain": [
              "7314.545600414276"
            ]
          },
          "metadata": {
            "tags": []
          },
          "execution_count": 213
        }
      ]
    }
  ]
}